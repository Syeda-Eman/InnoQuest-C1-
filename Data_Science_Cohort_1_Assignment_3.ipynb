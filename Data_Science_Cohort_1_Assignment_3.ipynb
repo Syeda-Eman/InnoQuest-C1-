{
  "nbformat": 4,
  "nbformat_minor": 0,
  "metadata": {
    "colab": {
      "provenance": [],
      "authorship_tag": "ABX9TyOR8eHL+G6i35+zvVeLqo/U",
      "include_colab_link": true
    },
    "kernelspec": {
      "name": "python3",
      "display_name": "Python 3"
    },
    "language_info": {
      "name": "python"
    }
  },
  "cells": [
    {
      "cell_type": "markdown",
      "metadata": {
        "id": "view-in-github",
        "colab_type": "text"
      },
      "source": [
        "<a href=\"https://colab.research.google.com/github/Syeda-Eman/InnoQuest_C1/blob/main/Data_Science_Cohort_1_Assignment_3.ipynb\" target=\"_parent\"><img src=\"https://colab.research.google.com/assets/colab-badge.svg\" alt=\"Open In Colab\"/></a>"
      ]
    },
    {
      "cell_type": "markdown",
      "source": [
        "# **Task**\n",
        "\n",
        "1. You have to explore the Ames Housing dataset to predict house prices using regression techniques. You are required to apply Simple Linear Regression, Multiple Linear Regression, and Polynomial Regression. Additionally, implement necessary preprocessing steps to ensure accurate model performance. Dataset: https://www.kaggle.com/datasets/shashanknecrothapa/ames-housing-dataset\n",
        "\n",
        "2. You are required to explore and work with two different datasets to apply Logistic Regression and Multinomial Logistic Regression. The objective is to understand how Logistic Regression works for binary classification problems and how Multinomial Logistic Regression is used for multiclass (more than two classes) classification. Additionally, evaluate the models' performance using appropriate metrics."
      ],
      "metadata": {
        "id": "doSZIqnIZdFj"
      }
    },
    {
      "cell_type": "code",
      "execution_count": 6,
      "metadata": {
        "id": "yHKydOLHZXki"
      },
      "outputs": [],
      "source": [
        "import pandas as pd\n",
        "from tqdm import tqdm"
      ]
    },
    {
      "cell_type": "code",
      "source": [
        "# load data\n",
        "import kagglehub\n",
        "\n",
        "# Download latest version\n",
        "path = kagglehub.dataset_download(\"shashanknecrothapa/ames-housing-dataset\")\n",
        "\n",
        "print(\"Path to dataset files:\", path)"
      ],
      "metadata": {
        "colab": {
          "base_uri": "https://localhost:8080/"
        },
        "id": "PRbLdl2OZcxd",
        "outputId": "d3c9d7e2-f06c-4363-d905-50cb702c352a"
      },
      "execution_count": 7,
      "outputs": [
        {
          "output_type": "stream",
          "name": "stdout",
          "text": [
            "Path to dataset files: /root/.cache/kagglehub/datasets/shashanknecrothapa/ames-housing-dataset/versions/1\n"
          ]
        }
      ]
    },
    {
      "cell_type": "code",
      "source": [],
      "metadata": {
        "id": "6bC48E6BcipH"
      },
      "execution_count": 8,
      "outputs": []
    }
  ]
}