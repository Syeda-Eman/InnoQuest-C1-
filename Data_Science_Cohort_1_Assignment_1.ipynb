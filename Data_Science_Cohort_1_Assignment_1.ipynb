{
  "cells": [
    {
      "cell_type": "markdown",
      "metadata": {
        "id": "view-in-github",
        "colab_type": "text"
      },
      "source": [
        "<a href=\"https://colab.research.google.com/github/Syeda-Eman/InnoQuest_C1/blob/main/Data_Science_Cohort_1_Assignment_1.ipynb\" target=\"_parent\"><img src=\"https://colab.research.google.com/assets/colab-badge.svg\" alt=\"Open In Colab\"/></a>"
      ]
    },
    {
      "cell_type": "markdown",
      "metadata": {
        "id": "Pw6spa8ub9qw"
      },
      "source": [
        "<hr style=\"border:5px solid #002060\"> </hr>"
      ]
    },
    {
      "cell_type": "markdown",
      "source": [
        "# **Name: Eman Shahid**"
      ],
      "metadata": {
        "id": "kuiPsEuFcERe"
      }
    },
    {
      "cell_type": "markdown",
      "metadata": {
        "id": "iZGDkKXsb9qz"
      },
      "source": [
        "# Pandas Fundamentals <hr style=\"border:4.5px solid #002060\"> </hr>"
      ]
    },
    {
      "cell_type": "markdown",
      "metadata": {
        "id": "3hoskci8b9q0"
      },
      "source": [
        "## Introduction to pandas Series"
      ]
    },
    {
      "cell_type": "markdown",
      "metadata": {
        "id": "T5TufTgnb9q0"
      },
      "source": [
        "Import the 'pandas' library to load it into the computer's memory, so that you can work with it in this Notebook Document.\n",
        "\n",
        "<br/> *Note: Don't forget to use the widely-accepted convention as well.*\n",
        "\n",
        "<br/> Remember that no matter how many times you execute this code cell, the library will be imported only once in this Document, and it will remain active."
      ]
    },
    {
      "cell_type": "code",
      "execution_count": 99,
      "metadata": {
        "id": "UGuq08WGb9q1"
      },
      "outputs": [],
      "source": [
        "import numpy as np\n",
        "import pandas as pd"
      ]
    },
    {
      "cell_type": "markdown",
      "metadata": {
        "id": "jIHl9ymAb9q2"
      },
      "source": [
        "Create the **employee_names** list."
      ]
    },
    {
      "cell_type": "code",
      "execution_count": 100,
      "metadata": {
        "colab": {
          "base_uri": "https://localhost:8080/"
        },
        "id": "pBramLawb9q2",
        "outputId": "511821b9-f575-46e0-cd2e-00b0c46cf22c"
      },
      "outputs": [
        {
          "output_type": "execute_result",
          "data": {
            "text/plain": [
              "['Amy White', 'Jack Stewart', 'Richard Lauderdale', 'Sara Johnson']"
            ]
          },
          "metadata": {},
          "execution_count": 100
        }
      ],
      "source": [
        "employee_names = ['Amy White', 'Jack Stewart', 'Richard Lauderdale', 'Sara Johnson']\n",
        "employee_names"
      ]
    },
    {
      "cell_type": "markdown",
      "metadata": {
        "id": "fXGxT1s8b9q2"
      },
      "source": [
        "Verify the **employee_names** object is a list."
      ]
    },
    {
      "cell_type": "code",
      "execution_count": 101,
      "metadata": {
        "colab": {
          "base_uri": "https://localhost:8080/"
        },
        "id": "9tggWz3lb9q2",
        "outputId": "d177e12b-ba1b-4c67-e930-c87973074360"
      },
      "outputs": [
        {
          "output_type": "execute_result",
          "data": {
            "text/plain": [
              "list"
            ]
          },
          "metadata": {},
          "execution_count": 101
        }
      ],
      "source": [
        "type(employee_names)"
      ]
    },
    {
      "cell_type": "markdown",
      "metadata": {
        "id": "5diXNKRrb9q3"
      },
      "source": [
        "Create a pandas Series object containing the elements from the **employee_names** list. Call it **employee_names_Series**."
      ]
    },
    {
      "cell_type": "code",
      "execution_count": 102,
      "metadata": {
        "colab": {
          "base_uri": "https://localhost:8080/"
        },
        "id": "VNK7TCTSb9q3",
        "outputId": "1e69ef56-bd1a-4e7b-dc57-150beb1ef0ae"
      },
      "outputs": [
        {
          "output_type": "stream",
          "name": "stdout",
          "text": [
            "0             Amy White\n",
            "1          Jack Stewart\n",
            "2    Richard Lauderdale\n",
            "3          Sara Johnson\n",
            "dtype: object\n"
          ]
        }
      ],
      "source": [
        "employee_names_Series = pd.Series(employee_names)\n",
        "\n",
        "print(employee_names_Series)"
      ]
    },
    {
      "cell_type": "markdown",
      "metadata": {
        "id": "gtGfMVy1b9q3"
      },
      "source": [
        "Confirm the object is of the Series type."
      ]
    },
    {
      "cell_type": "code",
      "execution_count": 103,
      "metadata": {
        "colab": {
          "base_uri": "https://localhost:8080/",
          "height": 204
        },
        "id": "q-81RVPxb9q3",
        "outputId": "593a1e80-d026-40c2-bdbe-1f90d67038a3"
      },
      "outputs": [
        {
          "output_type": "execute_result",
          "data": {
            "text/plain": [
              "pandas.core.series.Series"
            ],
            "text/html": [
              "<div style=\"max-width:800px; border: 1px solid var(--colab-border-color);\"><style>\n",
              "      pre.function-repr-contents {\n",
              "        overflow-x: auto;\n",
              "        padding: 8px 12px;\n",
              "        max-height: 500px;\n",
              "      }\n",
              "\n",
              "      pre.function-repr-contents.function-repr-contents-collapsed {\n",
              "        cursor: pointer;\n",
              "        max-height: 100px;\n",
              "      }\n",
              "    </style>\n",
              "    <pre style=\"white-space: initial; background:\n",
              "         var(--colab-secondary-surface-color); padding: 8px 12px;\n",
              "         border-bottom: 1px solid var(--colab-border-color);\"><b>pandas.core.series.Series</b><br/>def __init__(data=None, index=None, dtype: Dtype | None=None, name=None, copy: bool | None=None, fastpath: bool | lib.NoDefault=lib.no_default) -&gt; None</pre><pre class=\"function-repr-contents function-repr-contents-collapsed\" style=\"\"><a class=\"filepath\" style=\"display:none\" href=\"#\">/usr/local/lib/python3.10/dist-packages/pandas/core/series.py</a>One-dimensional ndarray with axis labels (including time series).\n",
              "\n",
              "Labels need not be unique but must be a hashable type. The object\n",
              "supports both integer- and label-based indexing and provides a host of\n",
              "methods for performing operations involving the index. Statistical\n",
              "methods from ndarray have been overridden to automatically exclude\n",
              "missing data (currently represented as NaN).\n",
              "\n",
              "Operations between Series (+, -, /, \\*, \\*\\*) align values based on their\n",
              "associated index values-- they need not be the same length. The result\n",
              "index will be the sorted union of the two indexes.\n",
              "\n",
              "Parameters\n",
              "----------\n",
              "data : array-like, Iterable, dict, or scalar value\n",
              "    Contains data stored in Series. If data is a dict, argument order is\n",
              "    maintained.\n",
              "index : array-like or Index (1d)\n",
              "    Values must be hashable and have the same length as `data`.\n",
              "    Non-unique index values are allowed. Will default to\n",
              "    RangeIndex (0, 1, 2, ..., n) if not provided. If data is dict-like\n",
              "    and index is None, then the keys in the data are used as the index. If the\n",
              "    index is not None, the resulting Series is reindexed with the index values.\n",
              "dtype : str, numpy.dtype, or ExtensionDtype, optional\n",
              "    Data type for the output Series. If not specified, this will be\n",
              "    inferred from `data`.\n",
              "    See the :ref:`user guide &lt;basics.dtypes&gt;` for more usages.\n",
              "name : Hashable, default None\n",
              "    The name to give to the Series.\n",
              "copy : bool, default False\n",
              "    Copy input data. Only affects Series or 1d ndarray input. See examples.\n",
              "\n",
              "Notes\n",
              "-----\n",
              "Please reference the :ref:`User Guide &lt;basics.series&gt;` for more information.\n",
              "\n",
              "Examples\n",
              "--------\n",
              "Constructing Series from a dictionary with an Index specified\n",
              "\n",
              "&gt;&gt;&gt; d = {&#x27;a&#x27;: 1, &#x27;b&#x27;: 2, &#x27;c&#x27;: 3}\n",
              "&gt;&gt;&gt; ser = pd.Series(data=d, index=[&#x27;a&#x27;, &#x27;b&#x27;, &#x27;c&#x27;])\n",
              "&gt;&gt;&gt; ser\n",
              "a   1\n",
              "b   2\n",
              "c   3\n",
              "dtype: int64\n",
              "\n",
              "The keys of the dictionary match with the Index values, hence the Index\n",
              "values have no effect.\n",
              "\n",
              "&gt;&gt;&gt; d = {&#x27;a&#x27;: 1, &#x27;b&#x27;: 2, &#x27;c&#x27;: 3}\n",
              "&gt;&gt;&gt; ser = pd.Series(data=d, index=[&#x27;x&#x27;, &#x27;y&#x27;, &#x27;z&#x27;])\n",
              "&gt;&gt;&gt; ser\n",
              "x   NaN\n",
              "y   NaN\n",
              "z   NaN\n",
              "dtype: float64\n",
              "\n",
              "Note that the Index is first build with the keys from the dictionary.\n",
              "After this the Series is reindexed with the given Index values, hence we\n",
              "get all NaN as a result.\n",
              "\n",
              "Constructing Series from a list with `copy=False`.\n",
              "\n",
              "&gt;&gt;&gt; r = [1, 2]\n",
              "&gt;&gt;&gt; ser = pd.Series(r, copy=False)\n",
              "&gt;&gt;&gt; ser.iloc[0] = 999\n",
              "&gt;&gt;&gt; r\n",
              "[1, 2]\n",
              "&gt;&gt;&gt; ser\n",
              "0    999\n",
              "1      2\n",
              "dtype: int64\n",
              "\n",
              "Due to input data type the Series has a `copy` of\n",
              "the original data even though `copy=False`, so\n",
              "the data is unchanged.\n",
              "\n",
              "Constructing Series from a 1d ndarray with `copy=False`.\n",
              "\n",
              "&gt;&gt;&gt; r = np.array([1, 2])\n",
              "&gt;&gt;&gt; ser = pd.Series(r, copy=False)\n",
              "&gt;&gt;&gt; ser.iloc[0] = 999\n",
              "&gt;&gt;&gt; r\n",
              "array([999,   2])\n",
              "&gt;&gt;&gt; ser\n",
              "0    999\n",
              "1      2\n",
              "dtype: int64\n",
              "\n",
              "Due to input data type the Series has a `view` on\n",
              "the original data, so\n",
              "the data is changed as well.</pre>\n",
              "      <script>\n",
              "      if (google.colab.kernel.accessAllowed && google.colab.files && google.colab.files.view) {\n",
              "        for (const element of document.querySelectorAll('.filepath')) {\n",
              "          element.style.display = 'block'\n",
              "          element.onclick = (event) => {\n",
              "            event.preventDefault();\n",
              "            event.stopPropagation();\n",
              "            google.colab.files.view(element.textContent, 263);\n",
              "          };\n",
              "        }\n",
              "      }\n",
              "      for (const element of document.querySelectorAll('.function-repr-contents')) {\n",
              "        element.onclick = (event) => {\n",
              "          event.preventDefault();\n",
              "          event.stopPropagation();\n",
              "          element.classList.toggle('function-repr-contents-collapsed');\n",
              "        };\n",
              "      }\n",
              "      </script>\n",
              "      </div>"
            ]
          },
          "metadata": {},
          "execution_count": 103
        }
      ],
      "source": [
        "type(employee_names_Series)"
      ]
    },
    {
      "cell_type": "markdown",
      "metadata": {
        "id": "rLUZ3YXNb9q3"
      },
      "source": [
        "Now, create a Series object directly. That is, not from an existing list, but by using the following structure:\n",
        "**pd.Series([...])**\n",
        "<br/>Let the elements of the Series object be the following numbers: 5, 8, 3, and 10. Name the object **work_experience_yrs.**\n"
      ]
    },
    {
      "cell_type": "markdown",
      "metadata": {
        "id": "xOq0TXBIb9q3"
      },
      "source": [
        "Import the 'NumPy' package to load it into the computer's memory, so that you can work with it in this Notebook Document."
      ]
    },
    {
      "cell_type": "markdown",
      "metadata": {
        "id": "61sUFOWGb9q4"
      },
      "source": [
        "*Note: Don't forget to use the widely-accepted convention as well.*"
      ]
    },
    {
      "cell_type": "code",
      "execution_count": 104,
      "metadata": {
        "colab": {
          "base_uri": "https://localhost:8080/",
          "height": 209
        },
        "id": "bBPrkZ9Eb9q4",
        "outputId": "52cd1447-41fe-43fe-e7a8-ad937be65c6b"
      },
      "outputs": [
        {
          "output_type": "execute_result",
          "data": {
            "text/plain": [
              "0     5\n",
              "1     8\n",
              "2     3\n",
              "3    10\n",
              "dtype: int64"
            ],
            "text/html": [
              "<div>\n",
              "<style scoped>\n",
              "    .dataframe tbody tr th:only-of-type {\n",
              "        vertical-align: middle;\n",
              "    }\n",
              "\n",
              "    .dataframe tbody tr th {\n",
              "        vertical-align: top;\n",
              "    }\n",
              "\n",
              "    .dataframe thead th {\n",
              "        text-align: right;\n",
              "    }\n",
              "</style>\n",
              "<table border=\"1\" class=\"dataframe\">\n",
              "  <thead>\n",
              "    <tr style=\"text-align: right;\">\n",
              "      <th></th>\n",
              "      <th>0</th>\n",
              "    </tr>\n",
              "  </thead>\n",
              "  <tbody>\n",
              "    <tr>\n",
              "      <th>0</th>\n",
              "      <td>5</td>\n",
              "    </tr>\n",
              "    <tr>\n",
              "      <th>1</th>\n",
              "      <td>8</td>\n",
              "    </tr>\n",
              "    <tr>\n",
              "      <th>2</th>\n",
              "      <td>3</td>\n",
              "    </tr>\n",
              "    <tr>\n",
              "      <th>3</th>\n",
              "      <td>10</td>\n",
              "    </tr>\n",
              "  </tbody>\n",
              "</table>\n",
              "</div><br><label><b>dtype:</b> int64</label>"
            ]
          },
          "metadata": {},
          "execution_count": 104
        }
      ],
      "source": [
        "work_experience_yrs = pd.Series([5, 8, 3, 10])\n",
        "work_experience_yrs"
      ]
    },
    {
      "cell_type": "markdown",
      "metadata": {
        "id": "TQbSvInKb9q4"
      },
      "source": [
        "Execute the code cell below to create the **array_age** NumPy array object."
      ]
    },
    {
      "cell_type": "code",
      "execution_count": 105,
      "metadata": {
        "colab": {
          "base_uri": "https://localhost:8080/"
        },
        "id": "pBxNro-0b9q4",
        "outputId": "41d182ee-68da-4b03-ccbd-e5608025abbc"
      },
      "outputs": [
        {
          "output_type": "execute_result",
          "data": {
            "text/plain": [
              "array([50, 53, 35, 43])"
            ]
          },
          "metadata": {},
          "execution_count": 105
        }
      ],
      "source": [
        "array_age = np.array([50, 53, 35, 43])\n",
        "array_age"
      ]
    },
    {
      "cell_type": "markdown",
      "metadata": {
        "id": "Rl6fWSXZb9q4"
      },
      "source": [
        "Verify the type of the **array_age** object:"
      ]
    },
    {
      "cell_type": "code",
      "execution_count": 106,
      "metadata": {
        "colab": {
          "base_uri": "https://localhost:8080/"
        },
        "id": "GOOAUg-Ib9q4",
        "outputId": "f9134e43-a886-4bc3-c71a-165967c81d81"
      },
      "outputs": [
        {
          "output_type": "execute_result",
          "data": {
            "text/plain": [
              "numpy.ndarray"
            ]
          },
          "metadata": {},
          "execution_count": 106
        }
      ],
      "source": [
        "type(array_age)"
      ]
    },
    {
      "cell_type": "markdown",
      "metadata": {
        "id": "_2rlheL4b9q5"
      },
      "source": [
        "Create a Series object called **series_age** from the NumPy array object **array_age** you just created."
      ]
    },
    {
      "cell_type": "code",
      "execution_count": 107,
      "metadata": {
        "colab": {
          "base_uri": "https://localhost:8080/",
          "height": 209
        },
        "id": "-Pbay5lXb9q5",
        "outputId": "ae611b0d-91aa-4266-c0e4-817a08ab8e1d"
      },
      "outputs": [
        {
          "output_type": "execute_result",
          "data": {
            "text/plain": [
              "0    50\n",
              "1    53\n",
              "2    35\n",
              "3    43\n",
              "dtype: int64"
            ],
            "text/html": [
              "<div>\n",
              "<style scoped>\n",
              "    .dataframe tbody tr th:only-of-type {\n",
              "        vertical-align: middle;\n",
              "    }\n",
              "\n",
              "    .dataframe tbody tr th {\n",
              "        vertical-align: top;\n",
              "    }\n",
              "\n",
              "    .dataframe thead th {\n",
              "        text-align: right;\n",
              "    }\n",
              "</style>\n",
              "<table border=\"1\" class=\"dataframe\">\n",
              "  <thead>\n",
              "    <tr style=\"text-align: right;\">\n",
              "      <th></th>\n",
              "      <th>0</th>\n",
              "    </tr>\n",
              "  </thead>\n",
              "  <tbody>\n",
              "    <tr>\n",
              "      <th>0</th>\n",
              "      <td>50</td>\n",
              "    </tr>\n",
              "    <tr>\n",
              "      <th>1</th>\n",
              "      <td>53</td>\n",
              "    </tr>\n",
              "    <tr>\n",
              "      <th>2</th>\n",
              "      <td>35</td>\n",
              "    </tr>\n",
              "    <tr>\n",
              "      <th>3</th>\n",
              "      <td>43</td>\n",
              "    </tr>\n",
              "  </tbody>\n",
              "</table>\n",
              "</div><br><label><b>dtype:</b> int64</label>"
            ]
          },
          "metadata": {},
          "execution_count": 107
        }
      ],
      "source": [
        "series_age = pd.Series(array_age)\n",
        "series_age"
      ]
    },
    {
      "cell_type": "markdown",
      "metadata": {
        "id": "U5VTzihlb9q5"
      },
      "source": [
        "Check the type of the newly created object."
      ]
    },
    {
      "cell_type": "code",
      "execution_count": 108,
      "metadata": {
        "colab": {
          "base_uri": "https://localhost:8080/",
          "height": 204
        },
        "id": "dZGFlFHjb9q5",
        "outputId": "51f9cbe3-94ae-445b-941a-e7efa982fb17"
      },
      "outputs": [
        {
          "output_type": "execute_result",
          "data": {
            "text/plain": [
              "pandas.core.series.Series"
            ],
            "text/html": [
              "<div style=\"max-width:800px; border: 1px solid var(--colab-border-color);\"><style>\n",
              "      pre.function-repr-contents {\n",
              "        overflow-x: auto;\n",
              "        padding: 8px 12px;\n",
              "        max-height: 500px;\n",
              "      }\n",
              "\n",
              "      pre.function-repr-contents.function-repr-contents-collapsed {\n",
              "        cursor: pointer;\n",
              "        max-height: 100px;\n",
              "      }\n",
              "    </style>\n",
              "    <pre style=\"white-space: initial; background:\n",
              "         var(--colab-secondary-surface-color); padding: 8px 12px;\n",
              "         border-bottom: 1px solid var(--colab-border-color);\"><b>pandas.core.series.Series</b><br/>def __init__(data=None, index=None, dtype: Dtype | None=None, name=None, copy: bool | None=None, fastpath: bool | lib.NoDefault=lib.no_default) -&gt; None</pre><pre class=\"function-repr-contents function-repr-contents-collapsed\" style=\"\"><a class=\"filepath\" style=\"display:none\" href=\"#\">/usr/local/lib/python3.10/dist-packages/pandas/core/series.py</a>One-dimensional ndarray with axis labels (including time series).\n",
              "\n",
              "Labels need not be unique but must be a hashable type. The object\n",
              "supports both integer- and label-based indexing and provides a host of\n",
              "methods for performing operations involving the index. Statistical\n",
              "methods from ndarray have been overridden to automatically exclude\n",
              "missing data (currently represented as NaN).\n",
              "\n",
              "Operations between Series (+, -, /, \\*, \\*\\*) align values based on their\n",
              "associated index values-- they need not be the same length. The result\n",
              "index will be the sorted union of the two indexes.\n",
              "\n",
              "Parameters\n",
              "----------\n",
              "data : array-like, Iterable, dict, or scalar value\n",
              "    Contains data stored in Series. If data is a dict, argument order is\n",
              "    maintained.\n",
              "index : array-like or Index (1d)\n",
              "    Values must be hashable and have the same length as `data`.\n",
              "    Non-unique index values are allowed. Will default to\n",
              "    RangeIndex (0, 1, 2, ..., n) if not provided. If data is dict-like\n",
              "    and index is None, then the keys in the data are used as the index. If the\n",
              "    index is not None, the resulting Series is reindexed with the index values.\n",
              "dtype : str, numpy.dtype, or ExtensionDtype, optional\n",
              "    Data type for the output Series. If not specified, this will be\n",
              "    inferred from `data`.\n",
              "    See the :ref:`user guide &lt;basics.dtypes&gt;` for more usages.\n",
              "name : Hashable, default None\n",
              "    The name to give to the Series.\n",
              "copy : bool, default False\n",
              "    Copy input data. Only affects Series or 1d ndarray input. See examples.\n",
              "\n",
              "Notes\n",
              "-----\n",
              "Please reference the :ref:`User Guide &lt;basics.series&gt;` for more information.\n",
              "\n",
              "Examples\n",
              "--------\n",
              "Constructing Series from a dictionary with an Index specified\n",
              "\n",
              "&gt;&gt;&gt; d = {&#x27;a&#x27;: 1, &#x27;b&#x27;: 2, &#x27;c&#x27;: 3}\n",
              "&gt;&gt;&gt; ser = pd.Series(data=d, index=[&#x27;a&#x27;, &#x27;b&#x27;, &#x27;c&#x27;])\n",
              "&gt;&gt;&gt; ser\n",
              "a   1\n",
              "b   2\n",
              "c   3\n",
              "dtype: int64\n",
              "\n",
              "The keys of the dictionary match with the Index values, hence the Index\n",
              "values have no effect.\n",
              "\n",
              "&gt;&gt;&gt; d = {&#x27;a&#x27;: 1, &#x27;b&#x27;: 2, &#x27;c&#x27;: 3}\n",
              "&gt;&gt;&gt; ser = pd.Series(data=d, index=[&#x27;x&#x27;, &#x27;y&#x27;, &#x27;z&#x27;])\n",
              "&gt;&gt;&gt; ser\n",
              "x   NaN\n",
              "y   NaN\n",
              "z   NaN\n",
              "dtype: float64\n",
              "\n",
              "Note that the Index is first build with the keys from the dictionary.\n",
              "After this the Series is reindexed with the given Index values, hence we\n",
              "get all NaN as a result.\n",
              "\n",
              "Constructing Series from a list with `copy=False`.\n",
              "\n",
              "&gt;&gt;&gt; r = [1, 2]\n",
              "&gt;&gt;&gt; ser = pd.Series(r, copy=False)\n",
              "&gt;&gt;&gt; ser.iloc[0] = 999\n",
              "&gt;&gt;&gt; r\n",
              "[1, 2]\n",
              "&gt;&gt;&gt; ser\n",
              "0    999\n",
              "1      2\n",
              "dtype: int64\n",
              "\n",
              "Due to input data type the Series has a `copy` of\n",
              "the original data even though `copy=False`, so\n",
              "the data is unchanged.\n",
              "\n",
              "Constructing Series from a 1d ndarray with `copy=False`.\n",
              "\n",
              "&gt;&gt;&gt; r = np.array([1, 2])\n",
              "&gt;&gt;&gt; ser = pd.Series(r, copy=False)\n",
              "&gt;&gt;&gt; ser.iloc[0] = 999\n",
              "&gt;&gt;&gt; r\n",
              "array([999,   2])\n",
              "&gt;&gt;&gt; ser\n",
              "0    999\n",
              "1      2\n",
              "dtype: int64\n",
              "\n",
              "Due to input data type the Series has a `view` on\n",
              "the original data, so\n",
              "the data is changed as well.</pre>\n",
              "      <script>\n",
              "      if (google.colab.kernel.accessAllowed && google.colab.files && google.colab.files.view) {\n",
              "        for (const element of document.querySelectorAll('.filepath')) {\n",
              "          element.style.display = 'block'\n",
              "          element.onclick = (event) => {\n",
              "            event.preventDefault();\n",
              "            event.stopPropagation();\n",
              "            google.colab.files.view(element.textContent, 263);\n",
              "          };\n",
              "        }\n",
              "      }\n",
              "      for (const element of document.querySelectorAll('.function-repr-contents')) {\n",
              "        element.onclick = (event) => {\n",
              "          event.preventDefault();\n",
              "          event.stopPropagation();\n",
              "          element.classList.toggle('function-repr-contents-collapsed');\n",
              "        };\n",
              "      }\n",
              "      </script>\n",
              "      </div>"
            ]
          },
          "metadata": {},
          "execution_count": 108
        }
      ],
      "source": [
        "type(series_age)"
      ]
    },
    {
      "cell_type": "markdown",
      "metadata": {
        "id": "__u2lf0Fb9q5"
      },
      "source": [
        "Use the *print()* function to display the content of **series_age**."
      ]
    },
    {
      "cell_type": "code",
      "execution_count": 109,
      "metadata": {
        "colab": {
          "base_uri": "https://localhost:8080/"
        },
        "id": "YLbhOALFb9q5",
        "outputId": "aab3fa88-fd31-477e-e5c3-13d0db45de57"
      },
      "outputs": [
        {
          "output_type": "stream",
          "name": "stdout",
          "text": [
            "0    50\n",
            "1    53\n",
            "2    35\n",
            "3    43\n",
            "dtype: int64\n"
          ]
        }
      ],
      "source": [
        "print(series_age)"
      ]
    },
    {
      "cell_type": "markdown",
      "metadata": {
        "id": "WaKo7KBPb9q5"
      },
      "source": [
        "## Working with Methods in Python"
      ]
    },
    {
      "cell_type": "markdown",
      "metadata": {
        "id": "uFC5pUMZb9q6"
      },
      "source": [
        "Consider the following Series object."
      ]
    },
    {
      "cell_type": "code",
      "execution_count": 110,
      "metadata": {
        "id": "kpCqb9pyb9q6"
      },
      "outputs": [],
      "source": [
        "employees_work_exp = pd.Series({\n",
        "'Amy White'   : 3,\n",
        "'Jack Stewart'   : 5,\n",
        "'Richard Lauderdale'  : 4.5,\n",
        "'Sara Johnson'  : 22,\n",
        "'Patrick Adams' : 28,\n",
        "'Jessica Baker'  : 14,\n",
        "'Peter Hunt'   : 4,\n",
        "'Daniel Lloyd'  : 6,\n",
        "'John Owen'   : 1.5,\n",
        "'Jennifer Phillips'  : 10,\n",
        "'Courtney Rogers'   : 4.5,\n",
        "'Anne Robinson'  : 2,\n",
        "})"
      ]
    },
    {
      "cell_type": "markdown",
      "metadata": {
        "id": "zrPXJxxQb9q6"
      },
      "source": [
        "Use a certain method to extract the top five values from this Series."
      ]
    },
    {
      "cell_type": "code",
      "execution_count": 111,
      "metadata": {
        "colab": {
          "base_uri": "https://localhost:8080/"
        },
        "id": "eS5tqYUMb9q6",
        "outputId": "06e32de7-d8b4-460e-c6be-9d60ec06c443"
      },
      "outputs": [
        {
          "output_type": "stream",
          "name": "stdout",
          "text": [
            "Patrick Adams        28.0\n",
            "Sara Johnson         22.0\n",
            "Jessica Baker        14.0\n",
            "Jennifer Phillips    10.0\n",
            "Daniel Lloyd          6.0\n",
            "dtype: float64\n"
          ]
        }
      ],
      "source": [
        "top_five = employees_work_exp.nlargest(5)\n",
        "print(top_five)"
      ]
    },
    {
      "cell_type": "markdown",
      "metadata": {
        "id": "0-Gm1jpkb9q6"
      },
      "source": [
        "Use another method to extract the last few rows of **employees_work_exp**."
      ]
    },
    {
      "cell_type": "code",
      "source": [
        "last_few_rows = employees_work_exp.tail()\n",
        "print(last_few_rows)"
      ],
      "metadata": {
        "colab": {
          "base_uri": "https://localhost:8080/"
        },
        "id": "5TjEn8fcevE4",
        "outputId": "4142e5d0-5db5-4ca9-f14a-c0218f17b6bd"
      },
      "execution_count": 112,
      "outputs": [
        {
          "output_type": "stream",
          "name": "stdout",
          "text": [
            "Daniel Lloyd          6.0\n",
            "John Owen             1.5\n",
            "Jennifer Phillips    10.0\n",
            "Courtney Rogers       4.5\n",
            "Anne Robinson         2.0\n",
            "dtype: float64\n"
          ]
        }
      ]
    },
    {
      "cell_type": "markdown",
      "metadata": {
        "id": "yM4KaYCpb9q6"
      },
      "source": [
        "## Using .unique() and .nunique()"
      ]
    },
    {
      "cell_type": "markdown",
      "metadata": {
        "id": "Mio1K1Vkb9q7"
      },
      "source": [
        "Load the \"Region.csv\" file and use the .squeeze() method to convert it into a series. Store the information in a variable called **region_data**. Preview the data with the pandas *.head()* method."
      ]
    },
    {
      "cell_type": "code",
      "execution_count": 113,
      "metadata": {
        "colab": {
          "base_uri": "https://localhost:8080/",
          "height": 241
        },
        "id": "0g_QkUvrb9q7",
        "outputId": "932ad4ac-adc1-438a-f073-dcd6c501a5d4"
      },
      "outputs": [
        {
          "output_type": "execute_result",
          "data": {
            "text/plain": [
              "0    Region 2\n",
              "1    Region 6\n",
              "2    Region 3\n",
              "3    Region 2\n",
              "4    Region 3\n",
              "Name: Region, dtype: object"
            ],
            "text/html": [
              "<div>\n",
              "<style scoped>\n",
              "    .dataframe tbody tr th:only-of-type {\n",
              "        vertical-align: middle;\n",
              "    }\n",
              "\n",
              "    .dataframe tbody tr th {\n",
              "        vertical-align: top;\n",
              "    }\n",
              "\n",
              "    .dataframe thead th {\n",
              "        text-align: right;\n",
              "    }\n",
              "</style>\n",
              "<table border=\"1\" class=\"dataframe\">\n",
              "  <thead>\n",
              "    <tr style=\"text-align: right;\">\n",
              "      <th></th>\n",
              "      <th>Region</th>\n",
              "    </tr>\n",
              "  </thead>\n",
              "  <tbody>\n",
              "    <tr>\n",
              "      <th>0</th>\n",
              "      <td>Region 2</td>\n",
              "    </tr>\n",
              "    <tr>\n",
              "      <th>1</th>\n",
              "      <td>Region 6</td>\n",
              "    </tr>\n",
              "    <tr>\n",
              "      <th>2</th>\n",
              "      <td>Region 3</td>\n",
              "    </tr>\n",
              "    <tr>\n",
              "      <th>3</th>\n",
              "      <td>Region 2</td>\n",
              "    </tr>\n",
              "    <tr>\n",
              "      <th>4</th>\n",
              "      <td>Region 3</td>\n",
              "    </tr>\n",
              "  </tbody>\n",
              "</table>\n",
              "</div><br><label><b>dtype:</b> object</label>"
            ]
          },
          "metadata": {},
          "execution_count": 113
        }
      ],
      "source": [
        "region_data = pd.read_csv('Region.csv').squeeze()\n",
        "region_data.head()"
      ]
    },
    {
      "cell_type": "markdown",
      "metadata": {
        "id": "XaS_ZvtAb9q7"
      },
      "source": [
        "Verify that **region_data** is a Series object."
      ]
    },
    {
      "cell_type": "code",
      "execution_count": 114,
      "metadata": {
        "collapsed": true,
        "jupyter": {
          "outputs_hidden": true
        },
        "colab": {
          "base_uri": "https://localhost:8080/",
          "height": 204
        },
        "id": "2Kz25zo6b9q7",
        "outputId": "81adeafc-bd7f-4024-8413-1a81f905e273"
      },
      "outputs": [
        {
          "output_type": "execute_result",
          "data": {
            "text/plain": [
              "pandas.core.series.Series"
            ],
            "text/html": [
              "<div style=\"max-width:800px; border: 1px solid var(--colab-border-color);\"><style>\n",
              "      pre.function-repr-contents {\n",
              "        overflow-x: auto;\n",
              "        padding: 8px 12px;\n",
              "        max-height: 500px;\n",
              "      }\n",
              "\n",
              "      pre.function-repr-contents.function-repr-contents-collapsed {\n",
              "        cursor: pointer;\n",
              "        max-height: 100px;\n",
              "      }\n",
              "    </style>\n",
              "    <pre style=\"white-space: initial; background:\n",
              "         var(--colab-secondary-surface-color); padding: 8px 12px;\n",
              "         border-bottom: 1px solid var(--colab-border-color);\"><b>pandas.core.series.Series</b><br/>def __init__(data=None, index=None, dtype: Dtype | None=None, name=None, copy: bool | None=None, fastpath: bool | lib.NoDefault=lib.no_default) -&gt; None</pre><pre class=\"function-repr-contents function-repr-contents-collapsed\" style=\"\"><a class=\"filepath\" style=\"display:none\" href=\"#\">/usr/local/lib/python3.10/dist-packages/pandas/core/series.py</a>One-dimensional ndarray with axis labels (including time series).\n",
              "\n",
              "Labels need not be unique but must be a hashable type. The object\n",
              "supports both integer- and label-based indexing and provides a host of\n",
              "methods for performing operations involving the index. Statistical\n",
              "methods from ndarray have been overridden to automatically exclude\n",
              "missing data (currently represented as NaN).\n",
              "\n",
              "Operations between Series (+, -, /, \\*, \\*\\*) align values based on their\n",
              "associated index values-- they need not be the same length. The result\n",
              "index will be the sorted union of the two indexes.\n",
              "\n",
              "Parameters\n",
              "----------\n",
              "data : array-like, Iterable, dict, or scalar value\n",
              "    Contains data stored in Series. If data is a dict, argument order is\n",
              "    maintained.\n",
              "index : array-like or Index (1d)\n",
              "    Values must be hashable and have the same length as `data`.\n",
              "    Non-unique index values are allowed. Will default to\n",
              "    RangeIndex (0, 1, 2, ..., n) if not provided. If data is dict-like\n",
              "    and index is None, then the keys in the data are used as the index. If the\n",
              "    index is not None, the resulting Series is reindexed with the index values.\n",
              "dtype : str, numpy.dtype, or ExtensionDtype, optional\n",
              "    Data type for the output Series. If not specified, this will be\n",
              "    inferred from `data`.\n",
              "    See the :ref:`user guide &lt;basics.dtypes&gt;` for more usages.\n",
              "name : Hashable, default None\n",
              "    The name to give to the Series.\n",
              "copy : bool, default False\n",
              "    Copy input data. Only affects Series or 1d ndarray input. See examples.\n",
              "\n",
              "Notes\n",
              "-----\n",
              "Please reference the :ref:`User Guide &lt;basics.series&gt;` for more information.\n",
              "\n",
              "Examples\n",
              "--------\n",
              "Constructing Series from a dictionary with an Index specified\n",
              "\n",
              "&gt;&gt;&gt; d = {&#x27;a&#x27;: 1, &#x27;b&#x27;: 2, &#x27;c&#x27;: 3}\n",
              "&gt;&gt;&gt; ser = pd.Series(data=d, index=[&#x27;a&#x27;, &#x27;b&#x27;, &#x27;c&#x27;])\n",
              "&gt;&gt;&gt; ser\n",
              "a   1\n",
              "b   2\n",
              "c   3\n",
              "dtype: int64\n",
              "\n",
              "The keys of the dictionary match with the Index values, hence the Index\n",
              "values have no effect.\n",
              "\n",
              "&gt;&gt;&gt; d = {&#x27;a&#x27;: 1, &#x27;b&#x27;: 2, &#x27;c&#x27;: 3}\n",
              "&gt;&gt;&gt; ser = pd.Series(data=d, index=[&#x27;x&#x27;, &#x27;y&#x27;, &#x27;z&#x27;])\n",
              "&gt;&gt;&gt; ser\n",
              "x   NaN\n",
              "y   NaN\n",
              "z   NaN\n",
              "dtype: float64\n",
              "\n",
              "Note that the Index is first build with the keys from the dictionary.\n",
              "After this the Series is reindexed with the given Index values, hence we\n",
              "get all NaN as a result.\n",
              "\n",
              "Constructing Series from a list with `copy=False`.\n",
              "\n",
              "&gt;&gt;&gt; r = [1, 2]\n",
              "&gt;&gt;&gt; ser = pd.Series(r, copy=False)\n",
              "&gt;&gt;&gt; ser.iloc[0] = 999\n",
              "&gt;&gt;&gt; r\n",
              "[1, 2]\n",
              "&gt;&gt;&gt; ser\n",
              "0    999\n",
              "1      2\n",
              "dtype: int64\n",
              "\n",
              "Due to input data type the Series has a `copy` of\n",
              "the original data even though `copy=False`, so\n",
              "the data is unchanged.\n",
              "\n",
              "Constructing Series from a 1d ndarray with `copy=False`.\n",
              "\n",
              "&gt;&gt;&gt; r = np.array([1, 2])\n",
              "&gt;&gt;&gt; ser = pd.Series(r, copy=False)\n",
              "&gt;&gt;&gt; ser.iloc[0] = 999\n",
              "&gt;&gt;&gt; r\n",
              "array([999,   2])\n",
              "&gt;&gt;&gt; ser\n",
              "0    999\n",
              "1      2\n",
              "dtype: int64\n",
              "\n",
              "Due to input data type the Series has a `view` on\n",
              "the original data, so\n",
              "the data is changed as well.</pre>\n",
              "      <script>\n",
              "      if (google.colab.kernel.accessAllowed && google.colab.files && google.colab.files.view) {\n",
              "        for (const element of document.querySelectorAll('.filepath')) {\n",
              "          element.style.display = 'block'\n",
              "          element.onclick = (event) => {\n",
              "            event.preventDefault();\n",
              "            event.stopPropagation();\n",
              "            google.colab.files.view(element.textContent, 263);\n",
              "          };\n",
              "        }\n",
              "      }\n",
              "      for (const element of document.querySelectorAll('.function-repr-contents')) {\n",
              "        element.onclick = (event) => {\n",
              "          event.preventDefault();\n",
              "          event.stopPropagation();\n",
              "          element.classList.toggle('function-repr-contents-collapsed');\n",
              "        };\n",
              "      }\n",
              "      </script>\n",
              "      </div>"
            ]
          },
          "metadata": {},
          "execution_count": 114
        }
      ],
      "source": [
        "type(region_data)"
      ]
    },
    {
      "cell_type": "markdown",
      "metadata": {
        "id": "_z2ZRacIb9q7"
      },
      "source": [
        "Use the *.describe()* method to obtain descriptive statistics on the **region_data** Series.\n",
        "<br>Think of how many unique values there are in the data set.\n",
        "<br>*Please note that the statistics provided in the output exclude missing data.*"
      ]
    },
    {
      "cell_type": "code",
      "execution_count": 115,
      "metadata": {
        "collapsed": true,
        "jupyter": {
          "outputs_hidden": true
        },
        "colab": {
          "base_uri": "https://localhost:8080/",
          "height": 209
        },
        "id": "NJLZBHbkb9rB",
        "outputId": "718ce7d9-8fc0-4b63-d7b6-1a4701c822ef"
      },
      "outputs": [
        {
          "output_type": "execute_result",
          "data": {
            "text/plain": [
              "count         1042\n",
              "unique          18\n",
              "top       Region 6\n",
              "freq           326\n",
              "Name: Region, dtype: object"
            ],
            "text/html": [
              "<div>\n",
              "<style scoped>\n",
              "    .dataframe tbody tr th:only-of-type {\n",
              "        vertical-align: middle;\n",
              "    }\n",
              "\n",
              "    .dataframe tbody tr th {\n",
              "        vertical-align: top;\n",
              "    }\n",
              "\n",
              "    .dataframe thead th {\n",
              "        text-align: right;\n",
              "    }\n",
              "</style>\n",
              "<table border=\"1\" class=\"dataframe\">\n",
              "  <thead>\n",
              "    <tr style=\"text-align: right;\">\n",
              "      <th></th>\n",
              "      <th>Region</th>\n",
              "    </tr>\n",
              "  </thead>\n",
              "  <tbody>\n",
              "    <tr>\n",
              "      <th>count</th>\n",
              "      <td>1042</td>\n",
              "    </tr>\n",
              "    <tr>\n",
              "      <th>unique</th>\n",
              "      <td>18</td>\n",
              "    </tr>\n",
              "    <tr>\n",
              "      <th>top</th>\n",
              "      <td>Region 6</td>\n",
              "    </tr>\n",
              "    <tr>\n",
              "      <th>freq</th>\n",
              "      <td>326</td>\n",
              "    </tr>\n",
              "  </tbody>\n",
              "</table>\n",
              "</div><br><label><b>dtype:</b> object</label>"
            ]
          },
          "metadata": {},
          "execution_count": 115
        }
      ],
      "source": [
        "region_data.describe()"
      ]
    },
    {
      "cell_type": "markdown",
      "metadata": {
        "id": "cBAHtlEpb9rB"
      },
      "source": [
        "You can obtain some of the values from the previous output by using Python built-in functions or methods. Please extract the total number of values from the **region_data** Series, then the number of unique values. Finally, obtain a list containing all unique values from this Series."
      ]
    },
    {
      "cell_type": "code",
      "execution_count": 116,
      "metadata": {
        "colab": {
          "base_uri": "https://localhost:8080/"
        },
        "id": "VVAwDaM1b9rC",
        "outputId": "3722337f-f293-40f8-b8a5-408f0d3111c4"
      },
      "outputs": [
        {
          "output_type": "stream",
          "name": "stdout",
          "text": [
            "Total number of values: 1042\n",
            "Number of unique values: 18\n",
            "List of unique values: ['Region 2', 'Region 6', 'Region 3', 'Region 1', 'Region 5', 'Region 9', 'Region 7', 'Region 4', 'Region 12', 'Region 16', 'Region 8', 'Region 10', 'Region 13', 'Region 15', 'Region 11', 'Region 14', 'Region 17', 'Region 18']\n"
          ]
        }
      ],
      "source": [
        "total_values = len(region_data)\n",
        "print(\"Total number of values:\", total_values)\n",
        "\n",
        "unique_count = region_data.nunique()\n",
        "print(\"Number of unique values:\", unique_count)\n",
        "\n",
        "unique_values = region_data.unique().tolist()\n",
        "print(\"List of unique values:\", unique_values)"
      ]
    },
    {
      "cell_type": "markdown",
      "metadata": {
        "id": "NoKMS7Hzb9rC"
      },
      "source": [
        "## Using .sort_values()"
      ]
    },
    {
      "cell_type": "markdown",
      "metadata": {
        "id": "DJwZmkhab9rC"
      },
      "source": [
        "Sort the values without specifying any arguments."
      ]
    },
    {
      "cell_type": "markdown",
      "metadata": {
        "id": "C1oLwm_Ib9rC"
      },
      "source": [
        "*Please note that the numbers go from 1 to 18, but we are currently ordering the values as labels, not integers. 1 is succeeded by 10, then 11, and so on until 18. Then we have 2, 3, 4, etc., until 8, and eventually - 9.*"
      ]
    },
    {
      "cell_type": "code",
      "execution_count": 117,
      "metadata": {
        "colab": {
          "base_uri": "https://localhost:8080/"
        },
        "id": "OuGad_bxb9rD",
        "outputId": "1a7a057d-e3b7-46a2-826b-73da9d93d3ea"
      },
      "outputs": [
        {
          "output_type": "stream",
          "name": "stdout",
          "text": [
            "462    Region 1\n",
            "347    Region 1\n",
            "609    Region 1\n",
            "610    Region 1\n",
            "339    Region 1\n",
            "         ...   \n",
            "536    Region 9\n",
            "450    Region 9\n",
            "8      Region 9\n",
            "842    Region 9\n",
            "940    Region 9\n",
            "Name: Region, Length: 1042, dtype: object\n"
          ]
        }
      ],
      "source": [
        "sorted_region_data = region_data.sort_values()\n",
        "print(sorted_region_data)"
      ]
    },
    {
      "cell_type": "markdown",
      "metadata": {
        "id": "xFUg4hWib9rD"
      },
      "source": [
        "Sort the values, setting the *ascending* parameter equal to *True*."
      ]
    },
    {
      "cell_type": "code",
      "execution_count": 118,
      "metadata": {
        "colab": {
          "base_uri": "https://localhost:8080/"
        },
        "id": "YiH_hpzAb9rD",
        "outputId": "5a1df110-0846-4cd5-9549-6444c7d00ef0"
      },
      "outputs": [
        {
          "output_type": "stream",
          "name": "stdout",
          "text": [
            "462    Region 1\n",
            "347    Region 1\n",
            "609    Region 1\n",
            "610    Region 1\n",
            "339    Region 1\n",
            "         ...   \n",
            "536    Region 9\n",
            "450    Region 9\n",
            "8      Region 9\n",
            "842    Region 9\n",
            "940    Region 9\n",
            "Name: Region, Length: 1042, dtype: object\n"
          ]
        }
      ],
      "source": [
        "sorted_region_data = region_data.sort_values(ascending=True)\n",
        "print(sorted_region_data)"
      ]
    },
    {
      "cell_type": "markdown",
      "metadata": {
        "id": "D5zkT4zFb9rD"
      },
      "source": [
        "Sort the values in **region_data** in descending order."
      ]
    },
    {
      "cell_type": "code",
      "execution_count": 119,
      "metadata": {
        "colab": {
          "base_uri": "https://localhost:8080/"
        },
        "id": "CZCi8vA5b9rE",
        "outputId": "d82bc78a-9671-43b1-a836-ac971ae265ba"
      },
      "outputs": [
        {
          "output_type": "stream",
          "name": "stdout",
          "text": [
            "450    Region 9\n",
            "842    Region 9\n",
            "141    Region 9\n",
            "940    Region 9\n",
            "8      Region 9\n",
            "         ...   \n",
            "569    Region 1\n",
            "892    Region 1\n",
            "558    Region 1\n",
            "557    Region 1\n",
            "309    Region 1\n",
            "Name: Region, Length: 1042, dtype: object\n"
          ]
        }
      ],
      "source": [
        "sorted_region_data = region_data.sort_values(ascending=False)\n",
        "print(sorted_region_data)"
      ]
    },
    {
      "cell_type": "markdown",
      "metadata": {
        "id": "yMN9gCXTb9rE"
      },
      "source": [
        "## Introduction to pandas DataFrames"
      ]
    },
    {
      "cell_type": "markdown",
      "metadata": {
        "id": "evEqNtR2b9rE"
      },
      "source": [
        "Import the pandas and numpy libraries by using the relevant well-known conventions."
      ]
    },
    {
      "cell_type": "code",
      "execution_count": 120,
      "metadata": {
        "id": "c3cdJpVCb9rE"
      },
      "outputs": [],
      "source": [
        "import pandas as pd\n",
        "import numpy as np"
      ]
    },
    {
      "cell_type": "markdown",
      "metadata": {
        "id": "0x7PKD9Hb9rF"
      },
      "source": [
        "The goal of this exercise is to solidify your knowledge and understanding of the fundamentals of using pandas DataFrames."
      ]
    },
    {
      "cell_type": "markdown",
      "metadata": {
        "id": "Jgbu0N88b9rF"
      },
      "source": [
        "Execute the next code cell to create the array called **array_c**."
      ]
    },
    {
      "cell_type": "code",
      "execution_count": 121,
      "metadata": {
        "colab": {
          "base_uri": "https://localhost:8080/"
        },
        "id": "dfLoBWZUb9rF",
        "outputId": "3c9e0556-0809-47e1-e4c7-404f51c5b566"
      },
      "outputs": [
        {
          "output_type": "execute_result",
          "data": {
            "text/plain": [
              "array([[1000.  ,   50.  ,   78.45],\n",
              "       [ 700.  ,  112.  ,   35.5 ]])"
            ]
          },
          "metadata": {},
          "execution_count": 121
        }
      ],
      "source": [
        "array_c = np.array([[1000, 50, 78.45], [700, 112, 35.5]])\n",
        "array_c"
      ]
    },
    {
      "cell_type": "markdown",
      "metadata": {
        "id": "2IyvQIOcb9rF"
      },
      "source": [
        "Convert **array_c** into a DataFrame, called **company_statistics**. Assign the column names and row labels from the following lists as column names and index of this DataFrame, respectively."
      ]
    },
    {
      "cell_type": "code",
      "execution_count": 122,
      "metadata": {
        "colab": {
          "base_uri": "https://localhost:8080/"
        },
        "id": "-4wGDdeab9rF",
        "outputId": "2c3f33f0-5c1b-4b1d-a935-8606f639f330"
      },
      "outputs": [
        {
          "output_type": "execute_result",
          "data": {
            "text/plain": [
              "['No. of Employees', 'Avg. Annual Revenue ($)', 'Share price ($)']"
            ]
          },
          "metadata": {},
          "execution_count": 122
        }
      ],
      "source": [
        "# column names\n",
        "['No. of Employees', 'Avg. Annual Revenue ($)', 'Share price ($)']"
      ]
    },
    {
      "cell_type": "code",
      "execution_count": 123,
      "metadata": {
        "colab": {
          "base_uri": "https://localhost:8080/"
        },
        "id": "L1fHg64yb9rG",
        "outputId": "3c9d417b-bf13-4a84-dedc-45f965966e70"
      },
      "outputs": [
        {
          "output_type": "execute_result",
          "data": {
            "text/plain": [
              "['Company A', 'Company B']"
            ]
          },
          "metadata": {},
          "execution_count": 123
        }
      ],
      "source": [
        "# row labels\n",
        "['Company A', 'Company B']"
      ]
    },
    {
      "cell_type": "code",
      "execution_count": 124,
      "metadata": {
        "id": "bYlxqrKSb9rG"
      },
      "outputs": [],
      "source": [
        "column_names=['No. of Employees', 'Avg. Annual Revenue ($)', 'Share price ($)']\n",
        "row_labels=['Company A', 'Company B']\n",
        "company_statistics = pd.DataFrame(array_c, columns=column_names, index=row_labels)\n"
      ]
    },
    {
      "cell_type": "markdown",
      "metadata": {
        "id": "9wg8lh-Cb9rG"
      },
      "source": [
        "Display the **company_statistics** DataFrame."
      ]
    },
    {
      "cell_type": "code",
      "execution_count": 125,
      "metadata": {
        "colab": {
          "base_uri": "https://localhost:8080/",
          "height": 125
        },
        "id": "1l9AQDtBb9rG",
        "outputId": "3d5cef75-359e-491e-ee2a-eef29fbfa01a"
      },
      "outputs": [
        {
          "output_type": "execute_result",
          "data": {
            "text/plain": [
              "           No. of Employees  Avg. Annual Revenue ($)  Share price ($)\n",
              "Company A            1000.0                     50.0            78.45\n",
              "Company B             700.0                    112.0            35.50"
            ],
            "text/html": [
              "\n",
              "  <div id=\"df-ac8a8beb-1391-4c2b-858f-af0d97b4821b\" class=\"colab-df-container\">\n",
              "    <div>\n",
              "<style scoped>\n",
              "    .dataframe tbody tr th:only-of-type {\n",
              "        vertical-align: middle;\n",
              "    }\n",
              "\n",
              "    .dataframe tbody tr th {\n",
              "        vertical-align: top;\n",
              "    }\n",
              "\n",
              "    .dataframe thead th {\n",
              "        text-align: right;\n",
              "    }\n",
              "</style>\n",
              "<table border=\"1\" class=\"dataframe\">\n",
              "  <thead>\n",
              "    <tr style=\"text-align: right;\">\n",
              "      <th></th>\n",
              "      <th>No. of Employees</th>\n",
              "      <th>Avg. Annual Revenue ($)</th>\n",
              "      <th>Share price ($)</th>\n",
              "    </tr>\n",
              "  </thead>\n",
              "  <tbody>\n",
              "    <tr>\n",
              "      <th>Company A</th>\n",
              "      <td>1000.0</td>\n",
              "      <td>50.0</td>\n",
              "      <td>78.45</td>\n",
              "    </tr>\n",
              "    <tr>\n",
              "      <th>Company B</th>\n",
              "      <td>700.0</td>\n",
              "      <td>112.0</td>\n",
              "      <td>35.50</td>\n",
              "    </tr>\n",
              "  </tbody>\n",
              "</table>\n",
              "</div>\n",
              "    <div class=\"colab-df-buttons\">\n",
              "\n",
              "  <div class=\"colab-df-container\">\n",
              "    <button class=\"colab-df-convert\" onclick=\"convertToInteractive('df-ac8a8beb-1391-4c2b-858f-af0d97b4821b')\"\n",
              "            title=\"Convert this dataframe to an interactive table.\"\n",
              "            style=\"display:none;\">\n",
              "\n",
              "  <svg xmlns=\"http://www.w3.org/2000/svg\" height=\"24px\" viewBox=\"0 -960 960 960\">\n",
              "    <path d=\"M120-120v-720h720v720H120Zm60-500h600v-160H180v160Zm220 220h160v-160H400v160Zm0 220h160v-160H400v160ZM180-400h160v-160H180v160Zm440 0h160v-160H620v160ZM180-180h160v-160H180v160Zm440 0h160v-160H620v160Z\"/>\n",
              "  </svg>\n",
              "    </button>\n",
              "\n",
              "  <style>\n",
              "    .colab-df-container {\n",
              "      display:flex;\n",
              "      gap: 12px;\n",
              "    }\n",
              "\n",
              "    .colab-df-convert {\n",
              "      background-color: #E8F0FE;\n",
              "      border: none;\n",
              "      border-radius: 50%;\n",
              "      cursor: pointer;\n",
              "      display: none;\n",
              "      fill: #1967D2;\n",
              "      height: 32px;\n",
              "      padding: 0 0 0 0;\n",
              "      width: 32px;\n",
              "    }\n",
              "\n",
              "    .colab-df-convert:hover {\n",
              "      background-color: #E2EBFA;\n",
              "      box-shadow: 0px 1px 2px rgba(60, 64, 67, 0.3), 0px 1px 3px 1px rgba(60, 64, 67, 0.15);\n",
              "      fill: #174EA6;\n",
              "    }\n",
              "\n",
              "    .colab-df-buttons div {\n",
              "      margin-bottom: 4px;\n",
              "    }\n",
              "\n",
              "    [theme=dark] .colab-df-convert {\n",
              "      background-color: #3B4455;\n",
              "      fill: #D2E3FC;\n",
              "    }\n",
              "\n",
              "    [theme=dark] .colab-df-convert:hover {\n",
              "      background-color: #434B5C;\n",
              "      box-shadow: 0px 1px 3px 1px rgba(0, 0, 0, 0.15);\n",
              "      filter: drop-shadow(0px 1px 2px rgba(0, 0, 0, 0.3));\n",
              "      fill: #FFFFFF;\n",
              "    }\n",
              "  </style>\n",
              "\n",
              "    <script>\n",
              "      const buttonEl =\n",
              "        document.querySelector('#df-ac8a8beb-1391-4c2b-858f-af0d97b4821b button.colab-df-convert');\n",
              "      buttonEl.style.display =\n",
              "        google.colab.kernel.accessAllowed ? 'block' : 'none';\n",
              "\n",
              "      async function convertToInteractive(key) {\n",
              "        const element = document.querySelector('#df-ac8a8beb-1391-4c2b-858f-af0d97b4821b');\n",
              "        const dataTable =\n",
              "          await google.colab.kernel.invokeFunction('convertToInteractive',\n",
              "                                                    [key], {});\n",
              "        if (!dataTable) return;\n",
              "\n",
              "        const docLinkHtml = 'Like what you see? Visit the ' +\n",
              "          '<a target=\"_blank\" href=https://colab.research.google.com/notebooks/data_table.ipynb>data table notebook</a>'\n",
              "          + ' to learn more about interactive tables.';\n",
              "        element.innerHTML = '';\n",
              "        dataTable['output_type'] = 'display_data';\n",
              "        await google.colab.output.renderOutput(dataTable, element);\n",
              "        const docLink = document.createElement('div');\n",
              "        docLink.innerHTML = docLinkHtml;\n",
              "        element.appendChild(docLink);\n",
              "      }\n",
              "    </script>\n",
              "  </div>\n",
              "\n",
              "\n",
              "<div id=\"df-957db72c-652a-477e-b8c7-6c66c23735c4\">\n",
              "  <button class=\"colab-df-quickchart\" onclick=\"quickchart('df-957db72c-652a-477e-b8c7-6c66c23735c4')\"\n",
              "            title=\"Suggest charts\"\n",
              "            style=\"display:none;\">\n",
              "\n",
              "<svg xmlns=\"http://www.w3.org/2000/svg\" height=\"24px\"viewBox=\"0 0 24 24\"\n",
              "     width=\"24px\">\n",
              "    <g>\n",
              "        <path d=\"M19 3H5c-1.1 0-2 .9-2 2v14c0 1.1.9 2 2 2h14c1.1 0 2-.9 2-2V5c0-1.1-.9-2-2-2zM9 17H7v-7h2v7zm4 0h-2V7h2v10zm4 0h-2v-4h2v4z\"/>\n",
              "    </g>\n",
              "</svg>\n",
              "  </button>\n",
              "\n",
              "<style>\n",
              "  .colab-df-quickchart {\n",
              "      --bg-color: #E8F0FE;\n",
              "      --fill-color: #1967D2;\n",
              "      --hover-bg-color: #E2EBFA;\n",
              "      --hover-fill-color: #174EA6;\n",
              "      --disabled-fill-color: #AAA;\n",
              "      --disabled-bg-color: #DDD;\n",
              "  }\n",
              "\n",
              "  [theme=dark] .colab-df-quickchart {\n",
              "      --bg-color: #3B4455;\n",
              "      --fill-color: #D2E3FC;\n",
              "      --hover-bg-color: #434B5C;\n",
              "      --hover-fill-color: #FFFFFF;\n",
              "      --disabled-bg-color: #3B4455;\n",
              "      --disabled-fill-color: #666;\n",
              "  }\n",
              "\n",
              "  .colab-df-quickchart {\n",
              "    background-color: var(--bg-color);\n",
              "    border: none;\n",
              "    border-radius: 50%;\n",
              "    cursor: pointer;\n",
              "    display: none;\n",
              "    fill: var(--fill-color);\n",
              "    height: 32px;\n",
              "    padding: 0;\n",
              "    width: 32px;\n",
              "  }\n",
              "\n",
              "  .colab-df-quickchart:hover {\n",
              "    background-color: var(--hover-bg-color);\n",
              "    box-shadow: 0 1px 2px rgba(60, 64, 67, 0.3), 0 1px 3px 1px rgba(60, 64, 67, 0.15);\n",
              "    fill: var(--button-hover-fill-color);\n",
              "  }\n",
              "\n",
              "  .colab-df-quickchart-complete:disabled,\n",
              "  .colab-df-quickchart-complete:disabled:hover {\n",
              "    background-color: var(--disabled-bg-color);\n",
              "    fill: var(--disabled-fill-color);\n",
              "    box-shadow: none;\n",
              "  }\n",
              "\n",
              "  .colab-df-spinner {\n",
              "    border: 2px solid var(--fill-color);\n",
              "    border-color: transparent;\n",
              "    border-bottom-color: var(--fill-color);\n",
              "    animation:\n",
              "      spin 1s steps(1) infinite;\n",
              "  }\n",
              "\n",
              "  @keyframes spin {\n",
              "    0% {\n",
              "      border-color: transparent;\n",
              "      border-bottom-color: var(--fill-color);\n",
              "      border-left-color: var(--fill-color);\n",
              "    }\n",
              "    20% {\n",
              "      border-color: transparent;\n",
              "      border-left-color: var(--fill-color);\n",
              "      border-top-color: var(--fill-color);\n",
              "    }\n",
              "    30% {\n",
              "      border-color: transparent;\n",
              "      border-left-color: var(--fill-color);\n",
              "      border-top-color: var(--fill-color);\n",
              "      border-right-color: var(--fill-color);\n",
              "    }\n",
              "    40% {\n",
              "      border-color: transparent;\n",
              "      border-right-color: var(--fill-color);\n",
              "      border-top-color: var(--fill-color);\n",
              "    }\n",
              "    60% {\n",
              "      border-color: transparent;\n",
              "      border-right-color: var(--fill-color);\n",
              "    }\n",
              "    80% {\n",
              "      border-color: transparent;\n",
              "      border-right-color: var(--fill-color);\n",
              "      border-bottom-color: var(--fill-color);\n",
              "    }\n",
              "    90% {\n",
              "      border-color: transparent;\n",
              "      border-bottom-color: var(--fill-color);\n",
              "    }\n",
              "  }\n",
              "</style>\n",
              "\n",
              "  <script>\n",
              "    async function quickchart(key) {\n",
              "      const quickchartButtonEl =\n",
              "        document.querySelector('#' + key + ' button');\n",
              "      quickchartButtonEl.disabled = true;  // To prevent multiple clicks.\n",
              "      quickchartButtonEl.classList.add('colab-df-spinner');\n",
              "      try {\n",
              "        const charts = await google.colab.kernel.invokeFunction(\n",
              "            'suggestCharts', [key], {});\n",
              "      } catch (error) {\n",
              "        console.error('Error during call to suggestCharts:', error);\n",
              "      }\n",
              "      quickchartButtonEl.classList.remove('colab-df-spinner');\n",
              "      quickchartButtonEl.classList.add('colab-df-quickchart-complete');\n",
              "    }\n",
              "    (() => {\n",
              "      let quickchartButtonEl =\n",
              "        document.querySelector('#df-957db72c-652a-477e-b8c7-6c66c23735c4 button');\n",
              "      quickchartButtonEl.style.display =\n",
              "        google.colab.kernel.accessAllowed ? 'block' : 'none';\n",
              "    })();\n",
              "  </script>\n",
              "</div>\n",
              "\n",
              "  <div id=\"id_efd42355-2e3e-498f-b7a9-c566d98405ae\">\n",
              "    <style>\n",
              "      .colab-df-generate {\n",
              "        background-color: #E8F0FE;\n",
              "        border: none;\n",
              "        border-radius: 50%;\n",
              "        cursor: pointer;\n",
              "        display: none;\n",
              "        fill: #1967D2;\n",
              "        height: 32px;\n",
              "        padding: 0 0 0 0;\n",
              "        width: 32px;\n",
              "      }\n",
              "\n",
              "      .colab-df-generate:hover {\n",
              "        background-color: #E2EBFA;\n",
              "        box-shadow: 0px 1px 2px rgba(60, 64, 67, 0.3), 0px 1px 3px 1px rgba(60, 64, 67, 0.15);\n",
              "        fill: #174EA6;\n",
              "      }\n",
              "\n",
              "      [theme=dark] .colab-df-generate {\n",
              "        background-color: #3B4455;\n",
              "        fill: #D2E3FC;\n",
              "      }\n",
              "\n",
              "      [theme=dark] .colab-df-generate:hover {\n",
              "        background-color: #434B5C;\n",
              "        box-shadow: 0px 1px 3px 1px rgba(0, 0, 0, 0.15);\n",
              "        filter: drop-shadow(0px 1px 2px rgba(0, 0, 0, 0.3));\n",
              "        fill: #FFFFFF;\n",
              "      }\n",
              "    </style>\n",
              "    <button class=\"colab-df-generate\" onclick=\"generateWithVariable('company_statistics')\"\n",
              "            title=\"Generate code using this dataframe.\"\n",
              "            style=\"display:none;\">\n",
              "\n",
              "  <svg xmlns=\"http://www.w3.org/2000/svg\" height=\"24px\"viewBox=\"0 0 24 24\"\n",
              "       width=\"24px\">\n",
              "    <path d=\"M7,19H8.4L18.45,9,17,7.55,7,17.6ZM5,21V16.75L18.45,3.32a2,2,0,0,1,2.83,0l1.4,1.43a1.91,1.91,0,0,1,.58,1.4,1.91,1.91,0,0,1-.58,1.4L9.25,21ZM18.45,9,17,7.55Zm-12,3A5.31,5.31,0,0,0,4.9,8.1,5.31,5.31,0,0,0,1,6.5,5.31,5.31,0,0,0,4.9,4.9,5.31,5.31,0,0,0,6.5,1,5.31,5.31,0,0,0,8.1,4.9,5.31,5.31,0,0,0,12,6.5,5.46,5.46,0,0,0,6.5,12Z\"/>\n",
              "  </svg>\n",
              "    </button>\n",
              "    <script>\n",
              "      (() => {\n",
              "      const buttonEl =\n",
              "        document.querySelector('#id_efd42355-2e3e-498f-b7a9-c566d98405ae button.colab-df-generate');\n",
              "      buttonEl.style.display =\n",
              "        google.colab.kernel.accessAllowed ? 'block' : 'none';\n",
              "\n",
              "      buttonEl.onclick = () => {\n",
              "        google.colab.notebook.generateWithVariable('company_statistics');\n",
              "      }\n",
              "      })();\n",
              "    </script>\n",
              "  </div>\n",
              "\n",
              "    </div>\n",
              "  </div>\n"
            ],
            "application/vnd.google.colaboratory.intrinsic+json": {
              "type": "dataframe",
              "variable_name": "company_statistics",
              "summary": "{\n  \"name\": \"company_statistics\",\n  \"rows\": 2,\n  \"fields\": [\n    {\n      \"column\": \"No. of Employees\",\n      \"properties\": {\n        \"dtype\": \"number\",\n        \"std\": 212.13203435596427,\n        \"min\": 700.0,\n        \"max\": 1000.0,\n        \"num_unique_values\": 2,\n        \"samples\": [\n          700.0,\n          1000.0\n        ],\n        \"semantic_type\": \"\",\n        \"description\": \"\"\n      }\n    },\n    {\n      \"column\": \"Avg. Annual Revenue ($)\",\n      \"properties\": {\n        \"dtype\": \"number\",\n        \"std\": 43.840620433565945,\n        \"min\": 50.0,\n        \"max\": 112.0,\n        \"num_unique_values\": 2,\n        \"samples\": [\n          112.0,\n          50.0\n        ],\n        \"semantic_type\": \"\",\n        \"description\": \"\"\n      }\n    },\n    {\n      \"column\": \"Share price ($)\",\n      \"properties\": {\n        \"dtype\": \"number\",\n        \"std\": 30.37023625196222,\n        \"min\": 35.5,\n        \"max\": 78.45,\n        \"num_unique_values\": 2,\n        \"samples\": [\n          35.5,\n          78.45\n        ],\n        \"semantic_type\": \"\",\n        \"description\": \"\"\n      }\n    }\n  ]\n}"
            }
          },
          "metadata": {},
          "execution_count": 125
        }
      ],
      "source": [
        "company_statistics"
      ]
    },
    {
      "cell_type": "markdown",
      "metadata": {
        "id": "AP4Cmbgwb9rG"
      },
      "source": [
        "Import the *Sales-products.csv* dataset into a DataFrame object called **sales_products_data**."
      ]
    },
    {
      "cell_type": "markdown",
      "metadata": {
        "id": "lKptyj9vb9rG"
      },
      "source": [
        "*Note: Please use the default index provided for this DataFrame throughout this exercise.*"
      ]
    },
    {
      "cell_type": "code",
      "execution_count": 126,
      "metadata": {
        "colab": {
          "base_uri": "https://localhost:8080/",
          "height": 669
        },
        "id": "_vx7hgVGb9rH",
        "outputId": "471d6962-52a1-46f1-b5a5-9e16178898dd"
      },
      "outputs": [
        {
          "output_type": "execute_result",
          "data": {
            "text/plain": [
              "           SaleID RetailerCountry  OrderMethod   RetailerType  \\\n",
              "0        SaleID_1   United States          Fax  Outdoors Shop   \n",
              "1        SaleID_2   United States          Fax  Outdoors Shop   \n",
              "2        SaleID_3   United States          Fax  Outdoors Shop   \n",
              "3        SaleID_4   United States          Fax  Outdoors Shop   \n",
              "4        SaleID_5   United States          NaN  Outdoors Shop   \n",
              "...           ...             ...          ...            ...   \n",
              "1271  SaleID_1272           Spain  Sales visit  Outdoors Shop   \n",
              "1272  SaleID_1273           Spain  Sales visit  Outdoors Shop   \n",
              "1273  SaleID_1274           Spain  Sales visit  Outdoors Shop   \n",
              "1274  SaleID_1275           Spain  Sales visit  Outdoors Shop   \n",
              "1275  SaleID_1276           Spain  Sales visit  Outdoors Shop   \n",
              "\n",
              "               ProductLine           ProductType                    Product  \\\n",
              "0     Personal Accessories          Cooking Gear  TrailChef Deluxe Cook Set   \n",
              "1         Sports Equipment          Cooking Gear     TrailChef Double Flame   \n",
              "2                      NaN                 Tents                  Star Dome   \n",
              "3                      NaN                 Tents               Star Gazer 2   \n",
              "4     Personal Accessories             First Aid         Compact Relief Kit   \n",
              "...                    ...                   ...                        ...   \n",
              "1271  Personal Accessories                  Rope              Husky Rope 60   \n",
              "1272    Outdoor Protection  Climbing Accessories      Firefly Climbing Lamp   \n",
              "1273  Personal Accessories  Climbing Accessories            Firefly Charger   \n",
              "1274  Personal Accessories                 Tools                Granite Axe   \n",
              "1275     Camping Equipment                 Tools            Granite Extreme   \n",
              "\n",
              "        Year  Quarter   Revenue  Quantity  GrossMargin  \n",
              "0     2018.0  Q1 2018  59728.66     491.0     0.357548  \n",
              "1     2018.0  Q1 2018  36050.32     254.0     0.484274  \n",
              "2     2018.0  Q1 2018  90040.48     149.0          NaN  \n",
              "3     2018.0  Q1 2018       NaN     305.0     0.292938  \n",
              "4     2018.0  Q1 2018       NaN     182.0     0.610710  \n",
              "...      ...      ...       ...       ...          ...  \n",
              "1271  2020.0  Q3 2020  30916.50     173.0     0.298114  \n",
              "1272  2020.0  Q3 2020   7536.29     193.0     0.445287  \n",
              "1273  2020.0  Q3 2020  12306.48     238.0     0.568420  \n",
              "1274  2020.0  Q3 2020  56499.00    1472.0     0.490667  \n",
              "1275  2020.0  Q3 2020  89427.00    1178.0     0.386895  \n",
              "\n",
              "[1276 rows x 12 columns]"
            ],
            "text/html": [
              "\n",
              "  <div id=\"df-6aea4a8b-425c-4078-89e1-04d85fd64ec1\" class=\"colab-df-container\">\n",
              "    <div>\n",
              "<style scoped>\n",
              "    .dataframe tbody tr th:only-of-type {\n",
              "        vertical-align: middle;\n",
              "    }\n",
              "\n",
              "    .dataframe tbody tr th {\n",
              "        vertical-align: top;\n",
              "    }\n",
              "\n",
              "    .dataframe thead th {\n",
              "        text-align: right;\n",
              "    }\n",
              "</style>\n",
              "<table border=\"1\" class=\"dataframe\">\n",
              "  <thead>\n",
              "    <tr style=\"text-align: right;\">\n",
              "      <th></th>\n",
              "      <th>SaleID</th>\n",
              "      <th>RetailerCountry</th>\n",
              "      <th>OrderMethod</th>\n",
              "      <th>RetailerType</th>\n",
              "      <th>ProductLine</th>\n",
              "      <th>ProductType</th>\n",
              "      <th>Product</th>\n",
              "      <th>Year</th>\n",
              "      <th>Quarter</th>\n",
              "      <th>Revenue</th>\n",
              "      <th>Quantity</th>\n",
              "      <th>GrossMargin</th>\n",
              "    </tr>\n",
              "  </thead>\n",
              "  <tbody>\n",
              "    <tr>\n",
              "      <th>0</th>\n",
              "      <td>SaleID_1</td>\n",
              "      <td>United States</td>\n",
              "      <td>Fax</td>\n",
              "      <td>Outdoors Shop</td>\n",
              "      <td>Personal Accessories</td>\n",
              "      <td>Cooking Gear</td>\n",
              "      <td>TrailChef Deluxe Cook Set</td>\n",
              "      <td>2018.0</td>\n",
              "      <td>Q1 2018</td>\n",
              "      <td>59728.66</td>\n",
              "      <td>491.0</td>\n",
              "      <td>0.357548</td>\n",
              "    </tr>\n",
              "    <tr>\n",
              "      <th>1</th>\n",
              "      <td>SaleID_2</td>\n",
              "      <td>United States</td>\n",
              "      <td>Fax</td>\n",
              "      <td>Outdoors Shop</td>\n",
              "      <td>Sports Equipment</td>\n",
              "      <td>Cooking Gear</td>\n",
              "      <td>TrailChef Double Flame</td>\n",
              "      <td>2018.0</td>\n",
              "      <td>Q1 2018</td>\n",
              "      <td>36050.32</td>\n",
              "      <td>254.0</td>\n",
              "      <td>0.484274</td>\n",
              "    </tr>\n",
              "    <tr>\n",
              "      <th>2</th>\n",
              "      <td>SaleID_3</td>\n",
              "      <td>United States</td>\n",
              "      <td>Fax</td>\n",
              "      <td>Outdoors Shop</td>\n",
              "      <td>NaN</td>\n",
              "      <td>Tents</td>\n",
              "      <td>Star Dome</td>\n",
              "      <td>2018.0</td>\n",
              "      <td>Q1 2018</td>\n",
              "      <td>90040.48</td>\n",
              "      <td>149.0</td>\n",
              "      <td>NaN</td>\n",
              "    </tr>\n",
              "    <tr>\n",
              "      <th>3</th>\n",
              "      <td>SaleID_4</td>\n",
              "      <td>United States</td>\n",
              "      <td>Fax</td>\n",
              "      <td>Outdoors Shop</td>\n",
              "      <td>NaN</td>\n",
              "      <td>Tents</td>\n",
              "      <td>Star Gazer 2</td>\n",
              "      <td>2018.0</td>\n",
              "      <td>Q1 2018</td>\n",
              "      <td>NaN</td>\n",
              "      <td>305.0</td>\n",
              "      <td>0.292938</td>\n",
              "    </tr>\n",
              "    <tr>\n",
              "      <th>4</th>\n",
              "      <td>SaleID_5</td>\n",
              "      <td>United States</td>\n",
              "      <td>NaN</td>\n",
              "      <td>Outdoors Shop</td>\n",
              "      <td>Personal Accessories</td>\n",
              "      <td>First Aid</td>\n",
              "      <td>Compact Relief Kit</td>\n",
              "      <td>2018.0</td>\n",
              "      <td>Q1 2018</td>\n",
              "      <td>NaN</td>\n",
              "      <td>182.0</td>\n",
              "      <td>0.610710</td>\n",
              "    </tr>\n",
              "    <tr>\n",
              "      <th>...</th>\n",
              "      <td>...</td>\n",
              "      <td>...</td>\n",
              "      <td>...</td>\n",
              "      <td>...</td>\n",
              "      <td>...</td>\n",
              "      <td>...</td>\n",
              "      <td>...</td>\n",
              "      <td>...</td>\n",
              "      <td>...</td>\n",
              "      <td>...</td>\n",
              "      <td>...</td>\n",
              "      <td>...</td>\n",
              "    </tr>\n",
              "    <tr>\n",
              "      <th>1271</th>\n",
              "      <td>SaleID_1272</td>\n",
              "      <td>Spain</td>\n",
              "      <td>Sales visit</td>\n",
              "      <td>Outdoors Shop</td>\n",
              "      <td>Personal Accessories</td>\n",
              "      <td>Rope</td>\n",
              "      <td>Husky Rope 60</td>\n",
              "      <td>2020.0</td>\n",
              "      <td>Q3 2020</td>\n",
              "      <td>30916.50</td>\n",
              "      <td>173.0</td>\n",
              "      <td>0.298114</td>\n",
              "    </tr>\n",
              "    <tr>\n",
              "      <th>1272</th>\n",
              "      <td>SaleID_1273</td>\n",
              "      <td>Spain</td>\n",
              "      <td>Sales visit</td>\n",
              "      <td>Outdoors Shop</td>\n",
              "      <td>Outdoor Protection</td>\n",
              "      <td>Climbing Accessories</td>\n",
              "      <td>Firefly Climbing Lamp</td>\n",
              "      <td>2020.0</td>\n",
              "      <td>Q3 2020</td>\n",
              "      <td>7536.29</td>\n",
              "      <td>193.0</td>\n",
              "      <td>0.445287</td>\n",
              "    </tr>\n",
              "    <tr>\n",
              "      <th>1273</th>\n",
              "      <td>SaleID_1274</td>\n",
              "      <td>Spain</td>\n",
              "      <td>Sales visit</td>\n",
              "      <td>Outdoors Shop</td>\n",
              "      <td>Personal Accessories</td>\n",
              "      <td>Climbing Accessories</td>\n",
              "      <td>Firefly Charger</td>\n",
              "      <td>2020.0</td>\n",
              "      <td>Q3 2020</td>\n",
              "      <td>12306.48</td>\n",
              "      <td>238.0</td>\n",
              "      <td>0.568420</td>\n",
              "    </tr>\n",
              "    <tr>\n",
              "      <th>1274</th>\n",
              "      <td>SaleID_1275</td>\n",
              "      <td>Spain</td>\n",
              "      <td>Sales visit</td>\n",
              "      <td>Outdoors Shop</td>\n",
              "      <td>Personal Accessories</td>\n",
              "      <td>Tools</td>\n",
              "      <td>Granite Axe</td>\n",
              "      <td>2020.0</td>\n",
              "      <td>Q3 2020</td>\n",
              "      <td>56499.00</td>\n",
              "      <td>1472.0</td>\n",
              "      <td>0.490667</td>\n",
              "    </tr>\n",
              "    <tr>\n",
              "      <th>1275</th>\n",
              "      <td>SaleID_1276</td>\n",
              "      <td>Spain</td>\n",
              "      <td>Sales visit</td>\n",
              "      <td>Outdoors Shop</td>\n",
              "      <td>Camping Equipment</td>\n",
              "      <td>Tools</td>\n",
              "      <td>Granite Extreme</td>\n",
              "      <td>2020.0</td>\n",
              "      <td>Q3 2020</td>\n",
              "      <td>89427.00</td>\n",
              "      <td>1178.0</td>\n",
              "      <td>0.386895</td>\n",
              "    </tr>\n",
              "  </tbody>\n",
              "</table>\n",
              "<p>1276 rows × 12 columns</p>\n",
              "</div>\n",
              "    <div class=\"colab-df-buttons\">\n",
              "\n",
              "  <div class=\"colab-df-container\">\n",
              "    <button class=\"colab-df-convert\" onclick=\"convertToInteractive('df-6aea4a8b-425c-4078-89e1-04d85fd64ec1')\"\n",
              "            title=\"Convert this dataframe to an interactive table.\"\n",
              "            style=\"display:none;\">\n",
              "\n",
              "  <svg xmlns=\"http://www.w3.org/2000/svg\" height=\"24px\" viewBox=\"0 -960 960 960\">\n",
              "    <path d=\"M120-120v-720h720v720H120Zm60-500h600v-160H180v160Zm220 220h160v-160H400v160Zm0 220h160v-160H400v160ZM180-400h160v-160H180v160Zm440 0h160v-160H620v160ZM180-180h160v-160H180v160Zm440 0h160v-160H620v160Z\"/>\n",
              "  </svg>\n",
              "    </button>\n",
              "\n",
              "  <style>\n",
              "    .colab-df-container {\n",
              "      display:flex;\n",
              "      gap: 12px;\n",
              "    }\n",
              "\n",
              "    .colab-df-convert {\n",
              "      background-color: #E8F0FE;\n",
              "      border: none;\n",
              "      border-radius: 50%;\n",
              "      cursor: pointer;\n",
              "      display: none;\n",
              "      fill: #1967D2;\n",
              "      height: 32px;\n",
              "      padding: 0 0 0 0;\n",
              "      width: 32px;\n",
              "    }\n",
              "\n",
              "    .colab-df-convert:hover {\n",
              "      background-color: #E2EBFA;\n",
              "      box-shadow: 0px 1px 2px rgba(60, 64, 67, 0.3), 0px 1px 3px 1px rgba(60, 64, 67, 0.15);\n",
              "      fill: #174EA6;\n",
              "    }\n",
              "\n",
              "    .colab-df-buttons div {\n",
              "      margin-bottom: 4px;\n",
              "    }\n",
              "\n",
              "    [theme=dark] .colab-df-convert {\n",
              "      background-color: #3B4455;\n",
              "      fill: #D2E3FC;\n",
              "    }\n",
              "\n",
              "    [theme=dark] .colab-df-convert:hover {\n",
              "      background-color: #434B5C;\n",
              "      box-shadow: 0px 1px 3px 1px rgba(0, 0, 0, 0.15);\n",
              "      filter: drop-shadow(0px 1px 2px rgba(0, 0, 0, 0.3));\n",
              "      fill: #FFFFFF;\n",
              "    }\n",
              "  </style>\n",
              "\n",
              "    <script>\n",
              "      const buttonEl =\n",
              "        document.querySelector('#df-6aea4a8b-425c-4078-89e1-04d85fd64ec1 button.colab-df-convert');\n",
              "      buttonEl.style.display =\n",
              "        google.colab.kernel.accessAllowed ? 'block' : 'none';\n",
              "\n",
              "      async function convertToInteractive(key) {\n",
              "        const element = document.querySelector('#df-6aea4a8b-425c-4078-89e1-04d85fd64ec1');\n",
              "        const dataTable =\n",
              "          await google.colab.kernel.invokeFunction('convertToInteractive',\n",
              "                                                    [key], {});\n",
              "        if (!dataTable) return;\n",
              "\n",
              "        const docLinkHtml = 'Like what you see? Visit the ' +\n",
              "          '<a target=\"_blank\" href=https://colab.research.google.com/notebooks/data_table.ipynb>data table notebook</a>'\n",
              "          + ' to learn more about interactive tables.';\n",
              "        element.innerHTML = '';\n",
              "        dataTable['output_type'] = 'display_data';\n",
              "        await google.colab.output.renderOutput(dataTable, element);\n",
              "        const docLink = document.createElement('div');\n",
              "        docLink.innerHTML = docLinkHtml;\n",
              "        element.appendChild(docLink);\n",
              "      }\n",
              "    </script>\n",
              "  </div>\n",
              "\n",
              "\n",
              "<div id=\"df-51ec81c0-9d85-4206-876c-2de18e5b03eb\">\n",
              "  <button class=\"colab-df-quickchart\" onclick=\"quickchart('df-51ec81c0-9d85-4206-876c-2de18e5b03eb')\"\n",
              "            title=\"Suggest charts\"\n",
              "            style=\"display:none;\">\n",
              "\n",
              "<svg xmlns=\"http://www.w3.org/2000/svg\" height=\"24px\"viewBox=\"0 0 24 24\"\n",
              "     width=\"24px\">\n",
              "    <g>\n",
              "        <path d=\"M19 3H5c-1.1 0-2 .9-2 2v14c0 1.1.9 2 2 2h14c1.1 0 2-.9 2-2V5c0-1.1-.9-2-2-2zM9 17H7v-7h2v7zm4 0h-2V7h2v10zm4 0h-2v-4h2v4z\"/>\n",
              "    </g>\n",
              "</svg>\n",
              "  </button>\n",
              "\n",
              "<style>\n",
              "  .colab-df-quickchart {\n",
              "      --bg-color: #E8F0FE;\n",
              "      --fill-color: #1967D2;\n",
              "      --hover-bg-color: #E2EBFA;\n",
              "      --hover-fill-color: #174EA6;\n",
              "      --disabled-fill-color: #AAA;\n",
              "      --disabled-bg-color: #DDD;\n",
              "  }\n",
              "\n",
              "  [theme=dark] .colab-df-quickchart {\n",
              "      --bg-color: #3B4455;\n",
              "      --fill-color: #D2E3FC;\n",
              "      --hover-bg-color: #434B5C;\n",
              "      --hover-fill-color: #FFFFFF;\n",
              "      --disabled-bg-color: #3B4455;\n",
              "      --disabled-fill-color: #666;\n",
              "  }\n",
              "\n",
              "  .colab-df-quickchart {\n",
              "    background-color: var(--bg-color);\n",
              "    border: none;\n",
              "    border-radius: 50%;\n",
              "    cursor: pointer;\n",
              "    display: none;\n",
              "    fill: var(--fill-color);\n",
              "    height: 32px;\n",
              "    padding: 0;\n",
              "    width: 32px;\n",
              "  }\n",
              "\n",
              "  .colab-df-quickchart:hover {\n",
              "    background-color: var(--hover-bg-color);\n",
              "    box-shadow: 0 1px 2px rgba(60, 64, 67, 0.3), 0 1px 3px 1px rgba(60, 64, 67, 0.15);\n",
              "    fill: var(--button-hover-fill-color);\n",
              "  }\n",
              "\n",
              "  .colab-df-quickchart-complete:disabled,\n",
              "  .colab-df-quickchart-complete:disabled:hover {\n",
              "    background-color: var(--disabled-bg-color);\n",
              "    fill: var(--disabled-fill-color);\n",
              "    box-shadow: none;\n",
              "  }\n",
              "\n",
              "  .colab-df-spinner {\n",
              "    border: 2px solid var(--fill-color);\n",
              "    border-color: transparent;\n",
              "    border-bottom-color: var(--fill-color);\n",
              "    animation:\n",
              "      spin 1s steps(1) infinite;\n",
              "  }\n",
              "\n",
              "  @keyframes spin {\n",
              "    0% {\n",
              "      border-color: transparent;\n",
              "      border-bottom-color: var(--fill-color);\n",
              "      border-left-color: var(--fill-color);\n",
              "    }\n",
              "    20% {\n",
              "      border-color: transparent;\n",
              "      border-left-color: var(--fill-color);\n",
              "      border-top-color: var(--fill-color);\n",
              "    }\n",
              "    30% {\n",
              "      border-color: transparent;\n",
              "      border-left-color: var(--fill-color);\n",
              "      border-top-color: var(--fill-color);\n",
              "      border-right-color: var(--fill-color);\n",
              "    }\n",
              "    40% {\n",
              "      border-color: transparent;\n",
              "      border-right-color: var(--fill-color);\n",
              "      border-top-color: var(--fill-color);\n",
              "    }\n",
              "    60% {\n",
              "      border-color: transparent;\n",
              "      border-right-color: var(--fill-color);\n",
              "    }\n",
              "    80% {\n",
              "      border-color: transparent;\n",
              "      border-right-color: var(--fill-color);\n",
              "      border-bottom-color: var(--fill-color);\n",
              "    }\n",
              "    90% {\n",
              "      border-color: transparent;\n",
              "      border-bottom-color: var(--fill-color);\n",
              "    }\n",
              "  }\n",
              "</style>\n",
              "\n",
              "  <script>\n",
              "    async function quickchart(key) {\n",
              "      const quickchartButtonEl =\n",
              "        document.querySelector('#' + key + ' button');\n",
              "      quickchartButtonEl.disabled = true;  // To prevent multiple clicks.\n",
              "      quickchartButtonEl.classList.add('colab-df-spinner');\n",
              "      try {\n",
              "        const charts = await google.colab.kernel.invokeFunction(\n",
              "            'suggestCharts', [key], {});\n",
              "      } catch (error) {\n",
              "        console.error('Error during call to suggestCharts:', error);\n",
              "      }\n",
              "      quickchartButtonEl.classList.remove('colab-df-spinner');\n",
              "      quickchartButtonEl.classList.add('colab-df-quickchart-complete');\n",
              "    }\n",
              "    (() => {\n",
              "      let quickchartButtonEl =\n",
              "        document.querySelector('#df-51ec81c0-9d85-4206-876c-2de18e5b03eb button');\n",
              "      quickchartButtonEl.style.display =\n",
              "        google.colab.kernel.accessAllowed ? 'block' : 'none';\n",
              "    })();\n",
              "  </script>\n",
              "</div>\n",
              "\n",
              "  <div id=\"id_81f388e4-1c68-49fe-93fc-fdc2a144c9e1\">\n",
              "    <style>\n",
              "      .colab-df-generate {\n",
              "        background-color: #E8F0FE;\n",
              "        border: none;\n",
              "        border-radius: 50%;\n",
              "        cursor: pointer;\n",
              "        display: none;\n",
              "        fill: #1967D2;\n",
              "        height: 32px;\n",
              "        padding: 0 0 0 0;\n",
              "        width: 32px;\n",
              "      }\n",
              "\n",
              "      .colab-df-generate:hover {\n",
              "        background-color: #E2EBFA;\n",
              "        box-shadow: 0px 1px 2px rgba(60, 64, 67, 0.3), 0px 1px 3px 1px rgba(60, 64, 67, 0.15);\n",
              "        fill: #174EA6;\n",
              "      }\n",
              "\n",
              "      [theme=dark] .colab-df-generate {\n",
              "        background-color: #3B4455;\n",
              "        fill: #D2E3FC;\n",
              "      }\n",
              "\n",
              "      [theme=dark] .colab-df-generate:hover {\n",
              "        background-color: #434B5C;\n",
              "        box-shadow: 0px 1px 3px 1px rgba(0, 0, 0, 0.15);\n",
              "        filter: drop-shadow(0px 1px 2px rgba(0, 0, 0, 0.3));\n",
              "        fill: #FFFFFF;\n",
              "      }\n",
              "    </style>\n",
              "    <button class=\"colab-df-generate\" onclick=\"generateWithVariable('sales_products_data')\"\n",
              "            title=\"Generate code using this dataframe.\"\n",
              "            style=\"display:none;\">\n",
              "\n",
              "  <svg xmlns=\"http://www.w3.org/2000/svg\" height=\"24px\"viewBox=\"0 0 24 24\"\n",
              "       width=\"24px\">\n",
              "    <path d=\"M7,19H8.4L18.45,9,17,7.55,7,17.6ZM5,21V16.75L18.45,3.32a2,2,0,0,1,2.83,0l1.4,1.43a1.91,1.91,0,0,1,.58,1.4,1.91,1.91,0,0,1-.58,1.4L9.25,21ZM18.45,9,17,7.55Zm-12,3A5.31,5.31,0,0,0,4.9,8.1,5.31,5.31,0,0,0,1,6.5,5.31,5.31,0,0,0,4.9,4.9,5.31,5.31,0,0,0,6.5,1,5.31,5.31,0,0,0,8.1,4.9,5.31,5.31,0,0,0,12,6.5,5.46,5.46,0,0,0,6.5,12Z\"/>\n",
              "  </svg>\n",
              "    </button>\n",
              "    <script>\n",
              "      (() => {\n",
              "      const buttonEl =\n",
              "        document.querySelector('#id_81f388e4-1c68-49fe-93fc-fdc2a144c9e1 button.colab-df-generate');\n",
              "      buttonEl.style.display =\n",
              "        google.colab.kernel.accessAllowed ? 'block' : 'none';\n",
              "\n",
              "      buttonEl.onclick = () => {\n",
              "        google.colab.notebook.generateWithVariable('sales_products_data');\n",
              "      }\n",
              "      })();\n",
              "    </script>\n",
              "  </div>\n",
              "\n",
              "    </div>\n",
              "  </div>\n"
            ],
            "application/vnd.google.colaboratory.intrinsic+json": {
              "type": "dataframe",
              "variable_name": "sales_products_data",
              "summary": "{\n  \"name\": \"sales_products_data\",\n  \"rows\": 1276,\n  \"fields\": [\n    {\n      \"column\": \"SaleID\",\n      \"properties\": {\n        \"dtype\": \"string\",\n        \"num_unique_values\": 1276,\n        \"samples\": [\n          \"SaleID_102\",\n          \"SaleID_52\",\n          \"SaleID_77\"\n        ],\n        \"semantic_type\": \"\",\n        \"description\": \"\"\n      }\n    },\n    {\n      \"column\": \"RetailerCountry\",\n      \"properties\": {\n        \"dtype\": \"category\",\n        \"num_unique_values\": 21,\n        \"samples\": [\n          \"United States\",\n          \"Germany\",\n          \"Finland\"\n        ],\n        \"semantic_type\": \"\",\n        \"description\": \"\"\n      }\n    },\n    {\n      \"column\": \"OrderMethod\",\n      \"properties\": {\n        \"dtype\": \"category\",\n        \"num_unique_values\": 7,\n        \"samples\": [\n          \"Fax\",\n          \"Phone\",\n          \"Other\"\n        ],\n        \"semantic_type\": \"\",\n        \"description\": \"\"\n      }\n    },\n    {\n      \"column\": \"RetailerType\",\n      \"properties\": {\n        \"dtype\": \"category\",\n        \"num_unique_values\": 8,\n        \"samples\": [\n          \"Mall\",\n          \"Discount Retailer\",\n          \"Outdoors Shop\"\n        ],\n        \"semantic_type\": \"\",\n        \"description\": \"\"\n      }\n    },\n    {\n      \"column\": \"ProductLine\",\n      \"properties\": {\n        \"dtype\": \"category\",\n        \"num_unique_values\": 5,\n        \"samples\": [\n          \"Sports Equipment\",\n          \"Outdoor Protection\",\n          \"Camping Equipment\"\n        ],\n        \"semantic_type\": \"\",\n        \"description\": \"\"\n      }\n    },\n    {\n      \"column\": \"ProductType\",\n      \"properties\": {\n        \"dtype\": \"category\",\n        \"num_unique_values\": 21,\n        \"samples\": [\n          \"Cooking Gear\",\n          \"Putters\",\n          \"Navigation\"\n        ],\n        \"semantic_type\": \"\",\n        \"description\": \"\"\n      }\n    },\n    {\n      \"column\": \"Product\",\n      \"properties\": {\n        \"dtype\": \"category\",\n        \"num_unique_values\": 143,\n        \"samples\": [\n          \"Star Gazer 6\",\n          \"Granite Climbing Helmet\",\n          \"EverGlow Lamp\"\n        ],\n        \"semantic_type\": \"\",\n        \"description\": \"\"\n      }\n    },\n    {\n      \"column\": \"Year\",\n      \"properties\": {\n        \"dtype\": \"number\",\n        \"std\": 0.7175962927121285,\n        \"min\": 2018.0,\n        \"max\": 2020.0,\n        \"num_unique_values\": 3,\n        \"samples\": [\n          2018.0,\n          2019.0,\n          2020.0\n        ],\n        \"semantic_type\": \"\",\n        \"description\": \"\"\n      }\n    },\n    {\n      \"column\": \"Quarter\",\n      \"properties\": {\n        \"dtype\": \"category\",\n        \"num_unique_values\": 10,\n        \"samples\": [\n          \"Q2 2020\",\n          \"Q2 2018\",\n          \"Q3 2019\"\n        ],\n        \"semantic_type\": \"\",\n        \"description\": \"\"\n      }\n    },\n    {\n      \"column\": \"Revenue\",\n      \"properties\": {\n        \"dtype\": \"number\",\n        \"std\": 51124.45062498806,\n        \"min\": 0.0,\n        \"max\": 944436.75,\n        \"num_unique_values\": 1241,\n        \"samples\": [\n          12754.32,\n          36648.64,\n          5680.05\n        ],\n        \"semantic_type\": \"\",\n        \"description\": \"\"\n      }\n    },\n    {\n      \"column\": \"Quantity\",\n      \"properties\": {\n        \"dtype\": \"number\",\n        \"std\": 977.7235161907016,\n        \"min\": 1.0,\n        \"max\": 13758.0,\n        \"num_unique_values\": 723,\n        \"samples\": [\n          251.0,\n          358.0,\n          3556.0\n        ],\n        \"semantic_type\": \"\",\n        \"description\": \"\"\n      }\n    },\n    {\n      \"column\": \"GrossMargin\",\n      \"properties\": {\n        \"dtype\": \"number\",\n        \"std\": 0.11257501207480596,\n        \"min\": 0.05870851,\n        \"max\": 0.78047619,\n        \"num_unique_values\": 691,\n        \"samples\": [\n          0.49066667,\n          0.48346215,\n          0.64469388\n        ],\n        \"semantic_type\": \"\",\n        \"description\": \"\"\n      }\n    }\n  ]\n}"
            }
          },
          "metadata": {},
          "execution_count": 126
        }
      ],
      "source": [
        "sales_products_data = pd.read_csv('Sales-products.csv')\n",
        "sales_products_data"
      ]
    },
    {
      "cell_type": "markdown",
      "metadata": {
        "id": "5nD7SNytb9rH"
      },
      "source": [
        "Verify that the obtained object is a pandas DataFrame."
      ]
    },
    {
      "cell_type": "code",
      "execution_count": 127,
      "metadata": {
        "colab": {
          "base_uri": "https://localhost:8080/",
          "height": 204
        },
        "id": "p4AsymjJb9rH",
        "outputId": "c0cef86a-3c56-4540-f4e7-6ed60b41ac41"
      },
      "outputs": [
        {
          "output_type": "execute_result",
          "data": {
            "text/plain": [
              "pandas.core.frame.DataFrame"
            ],
            "text/html": [
              "<div style=\"max-width:800px; border: 1px solid var(--colab-border-color);\"><style>\n",
              "      pre.function-repr-contents {\n",
              "        overflow-x: auto;\n",
              "        padding: 8px 12px;\n",
              "        max-height: 500px;\n",
              "      }\n",
              "\n",
              "      pre.function-repr-contents.function-repr-contents-collapsed {\n",
              "        cursor: pointer;\n",
              "        max-height: 100px;\n",
              "      }\n",
              "    </style>\n",
              "    <pre style=\"white-space: initial; background:\n",
              "         var(--colab-secondary-surface-color); padding: 8px 12px;\n",
              "         border-bottom: 1px solid var(--colab-border-color);\"><b>pandas.core.frame.DataFrame</b><br/>def __init__(data=None, index: Axes | None=None, columns: Axes | None=None, dtype: Dtype | None=None, copy: bool | None=None) -&gt; None</pre><pre class=\"function-repr-contents function-repr-contents-collapsed\" style=\"\"><a class=\"filepath\" style=\"display:none\" href=\"#\">/usr/local/lib/python3.10/dist-packages/pandas/core/frame.py</a>Two-dimensional, size-mutable, potentially heterogeneous tabular data.\n",
              "\n",
              "Data structure also contains labeled axes (rows and columns).\n",
              "Arithmetic operations align on both row and column labels. Can be\n",
              "thought of as a dict-like container for Series objects. The primary\n",
              "pandas data structure.\n",
              "\n",
              "Parameters\n",
              "----------\n",
              "data : ndarray (structured or homogeneous), Iterable, dict, or DataFrame\n",
              "    Dict can contain Series, arrays, constants, dataclass or list-like objects. If\n",
              "    data is a dict, column order follows insertion-order. If a dict contains Series\n",
              "    which have an index defined, it is aligned by its index. This alignment also\n",
              "    occurs if data is a Series or a DataFrame itself. Alignment is done on\n",
              "    Series/DataFrame inputs.\n",
              "\n",
              "    If data is a list of dicts, column order follows insertion-order.\n",
              "\n",
              "index : Index or array-like\n",
              "    Index to use for resulting frame. Will default to RangeIndex if\n",
              "    no indexing information part of input data and no index provided.\n",
              "columns : Index or array-like\n",
              "    Column labels to use for resulting frame when data does not have them,\n",
              "    defaulting to RangeIndex(0, 1, 2, ..., n). If data contains column labels,\n",
              "    will perform column selection instead.\n",
              "dtype : dtype, default None\n",
              "    Data type to force. Only a single dtype is allowed. If None, infer.\n",
              "copy : bool or None, default None\n",
              "    Copy data from inputs.\n",
              "    For dict data, the default of None behaves like ``copy=True``.  For DataFrame\n",
              "    or 2d ndarray input, the default of None behaves like ``copy=False``.\n",
              "    If data is a dict containing one or more Series (possibly of different dtypes),\n",
              "    ``copy=False`` will ensure that these inputs are not copied.\n",
              "\n",
              "    .. versionchanged:: 1.3.0\n",
              "\n",
              "See Also\n",
              "--------\n",
              "DataFrame.from_records : Constructor from tuples, also record arrays.\n",
              "DataFrame.from_dict : From dicts of Series, arrays, or dicts.\n",
              "read_csv : Read a comma-separated values (csv) file into DataFrame.\n",
              "read_table : Read general delimited file into DataFrame.\n",
              "read_clipboard : Read text from clipboard into DataFrame.\n",
              "\n",
              "Notes\n",
              "-----\n",
              "Please reference the :ref:`User Guide &lt;basics.dataframe&gt;` for more information.\n",
              "\n",
              "Examples\n",
              "--------\n",
              "Constructing DataFrame from a dictionary.\n",
              "\n",
              "&gt;&gt;&gt; d = {&#x27;col1&#x27;: [1, 2], &#x27;col2&#x27;: [3, 4]}\n",
              "&gt;&gt;&gt; df = pd.DataFrame(data=d)\n",
              "&gt;&gt;&gt; df\n",
              "   col1  col2\n",
              "0     1     3\n",
              "1     2     4\n",
              "\n",
              "Notice that the inferred dtype is int64.\n",
              "\n",
              "&gt;&gt;&gt; df.dtypes\n",
              "col1    int64\n",
              "col2    int64\n",
              "dtype: object\n",
              "\n",
              "To enforce a single dtype:\n",
              "\n",
              "&gt;&gt;&gt; df = pd.DataFrame(data=d, dtype=np.int8)\n",
              "&gt;&gt;&gt; df.dtypes\n",
              "col1    int8\n",
              "col2    int8\n",
              "dtype: object\n",
              "\n",
              "Constructing DataFrame from a dictionary including Series:\n",
              "\n",
              "&gt;&gt;&gt; d = {&#x27;col1&#x27;: [0, 1, 2, 3], &#x27;col2&#x27;: pd.Series([2, 3], index=[2, 3])}\n",
              "&gt;&gt;&gt; pd.DataFrame(data=d, index=[0, 1, 2, 3])\n",
              "   col1  col2\n",
              "0     0   NaN\n",
              "1     1   NaN\n",
              "2     2   2.0\n",
              "3     3   3.0\n",
              "\n",
              "Constructing DataFrame from numpy ndarray:\n",
              "\n",
              "&gt;&gt;&gt; df2 = pd.DataFrame(np.array([[1, 2, 3], [4, 5, 6], [7, 8, 9]]),\n",
              "...                    columns=[&#x27;a&#x27;, &#x27;b&#x27;, &#x27;c&#x27;])\n",
              "&gt;&gt;&gt; df2\n",
              "   a  b  c\n",
              "0  1  2  3\n",
              "1  4  5  6\n",
              "2  7  8  9\n",
              "\n",
              "Constructing DataFrame from a numpy ndarray that has labeled columns:\n",
              "\n",
              "&gt;&gt;&gt; data = np.array([(1, 2, 3), (4, 5, 6), (7, 8, 9)],\n",
              "...                 dtype=[(&quot;a&quot;, &quot;i4&quot;), (&quot;b&quot;, &quot;i4&quot;), (&quot;c&quot;, &quot;i4&quot;)])\n",
              "&gt;&gt;&gt; df3 = pd.DataFrame(data, columns=[&#x27;c&#x27;, &#x27;a&#x27;])\n",
              "...\n",
              "&gt;&gt;&gt; df3\n",
              "   c  a\n",
              "0  3  1\n",
              "1  6  4\n",
              "2  9  7\n",
              "\n",
              "Constructing DataFrame from dataclass:\n",
              "\n",
              "&gt;&gt;&gt; from dataclasses import make_dataclass\n",
              "&gt;&gt;&gt; Point = make_dataclass(&quot;Point&quot;, [(&quot;x&quot;, int), (&quot;y&quot;, int)])\n",
              "&gt;&gt;&gt; pd.DataFrame([Point(0, 0), Point(0, 3), Point(2, 3)])\n",
              "   x  y\n",
              "0  0  0\n",
              "1  0  3\n",
              "2  2  3\n",
              "\n",
              "Constructing DataFrame from Series/DataFrame:\n",
              "\n",
              "&gt;&gt;&gt; ser = pd.Series([1, 2, 3], index=[&quot;a&quot;, &quot;b&quot;, &quot;c&quot;])\n",
              "&gt;&gt;&gt; df = pd.DataFrame(data=ser, index=[&quot;a&quot;, &quot;c&quot;])\n",
              "&gt;&gt;&gt; df\n",
              "   0\n",
              "a  1\n",
              "c  3\n",
              "\n",
              "&gt;&gt;&gt; df1 = pd.DataFrame([1, 2, 3], index=[&quot;a&quot;, &quot;b&quot;, &quot;c&quot;], columns=[&quot;x&quot;])\n",
              "&gt;&gt;&gt; df2 = pd.DataFrame(data=df1, index=[&quot;a&quot;, &quot;c&quot;])\n",
              "&gt;&gt;&gt; df2\n",
              "   x\n",
              "a  1\n",
              "c  3</pre>\n",
              "      <script>\n",
              "      if (google.colab.kernel.accessAllowed && google.colab.files && google.colab.files.view) {\n",
              "        for (const element of document.querySelectorAll('.filepath')) {\n",
              "          element.style.display = 'block'\n",
              "          element.onclick = (event) => {\n",
              "            event.preventDefault();\n",
              "            event.stopPropagation();\n",
              "            google.colab.files.view(element.textContent, 509);\n",
              "          };\n",
              "        }\n",
              "      }\n",
              "      for (const element of document.querySelectorAll('.function-repr-contents')) {\n",
              "        element.onclick = (event) => {\n",
              "          event.preventDefault();\n",
              "          event.stopPropagation();\n",
              "          element.classList.toggle('function-repr-contents-collapsed');\n",
              "        };\n",
              "      }\n",
              "      </script>\n",
              "      </div>"
            ]
          },
          "metadata": {},
          "execution_count": 127
        }
      ],
      "source": [
        "type(sales_products_data)"
      ]
    },
    {
      "cell_type": "markdown",
      "metadata": {
        "id": "UTndTbG4b9rH"
      },
      "source": [
        "Try out a well-known pandas method used for Series on this DataFrame to obtain its last five rows."
      ]
    },
    {
      "cell_type": "code",
      "execution_count": 128,
      "metadata": {
        "colab": {
          "base_uri": "https://localhost:8080/",
          "height": 330
        },
        "id": "O5duK_uPb9rH",
        "outputId": "32d11ab2-f0fc-4e43-8e22-a44724f485db"
      },
      "outputs": [
        {
          "output_type": "execute_result",
          "data": {
            "text/plain": [
              "           SaleID RetailerCountry  OrderMethod   RetailerType  \\\n",
              "1271  SaleID_1272           Spain  Sales visit  Outdoors Shop   \n",
              "1272  SaleID_1273           Spain  Sales visit  Outdoors Shop   \n",
              "1273  SaleID_1274           Spain  Sales visit  Outdoors Shop   \n",
              "1274  SaleID_1275           Spain  Sales visit  Outdoors Shop   \n",
              "1275  SaleID_1276           Spain  Sales visit  Outdoors Shop   \n",
              "\n",
              "               ProductLine           ProductType                Product  \\\n",
              "1271  Personal Accessories                  Rope          Husky Rope 60   \n",
              "1272    Outdoor Protection  Climbing Accessories  Firefly Climbing Lamp   \n",
              "1273  Personal Accessories  Climbing Accessories        Firefly Charger   \n",
              "1274  Personal Accessories                 Tools            Granite Axe   \n",
              "1275     Camping Equipment                 Tools        Granite Extreme   \n",
              "\n",
              "        Year  Quarter   Revenue  Quantity  GrossMargin  \n",
              "1271  2020.0  Q3 2020  30916.50     173.0     0.298114  \n",
              "1272  2020.0  Q3 2020   7536.29     193.0     0.445287  \n",
              "1273  2020.0  Q3 2020  12306.48     238.0     0.568420  \n",
              "1274  2020.0  Q3 2020  56499.00    1472.0     0.490667  \n",
              "1275  2020.0  Q3 2020  89427.00    1178.0     0.386895  "
            ],
            "text/html": [
              "\n",
              "  <div id=\"df-b7d53305-6421-4dce-8ae8-220c1f31c81b\" class=\"colab-df-container\">\n",
              "    <div>\n",
              "<style scoped>\n",
              "    .dataframe tbody tr th:only-of-type {\n",
              "        vertical-align: middle;\n",
              "    }\n",
              "\n",
              "    .dataframe tbody tr th {\n",
              "        vertical-align: top;\n",
              "    }\n",
              "\n",
              "    .dataframe thead th {\n",
              "        text-align: right;\n",
              "    }\n",
              "</style>\n",
              "<table border=\"1\" class=\"dataframe\">\n",
              "  <thead>\n",
              "    <tr style=\"text-align: right;\">\n",
              "      <th></th>\n",
              "      <th>SaleID</th>\n",
              "      <th>RetailerCountry</th>\n",
              "      <th>OrderMethod</th>\n",
              "      <th>RetailerType</th>\n",
              "      <th>ProductLine</th>\n",
              "      <th>ProductType</th>\n",
              "      <th>Product</th>\n",
              "      <th>Year</th>\n",
              "      <th>Quarter</th>\n",
              "      <th>Revenue</th>\n",
              "      <th>Quantity</th>\n",
              "      <th>GrossMargin</th>\n",
              "    </tr>\n",
              "  </thead>\n",
              "  <tbody>\n",
              "    <tr>\n",
              "      <th>1271</th>\n",
              "      <td>SaleID_1272</td>\n",
              "      <td>Spain</td>\n",
              "      <td>Sales visit</td>\n",
              "      <td>Outdoors Shop</td>\n",
              "      <td>Personal Accessories</td>\n",
              "      <td>Rope</td>\n",
              "      <td>Husky Rope 60</td>\n",
              "      <td>2020.0</td>\n",
              "      <td>Q3 2020</td>\n",
              "      <td>30916.50</td>\n",
              "      <td>173.0</td>\n",
              "      <td>0.298114</td>\n",
              "    </tr>\n",
              "    <tr>\n",
              "      <th>1272</th>\n",
              "      <td>SaleID_1273</td>\n",
              "      <td>Spain</td>\n",
              "      <td>Sales visit</td>\n",
              "      <td>Outdoors Shop</td>\n",
              "      <td>Outdoor Protection</td>\n",
              "      <td>Climbing Accessories</td>\n",
              "      <td>Firefly Climbing Lamp</td>\n",
              "      <td>2020.0</td>\n",
              "      <td>Q3 2020</td>\n",
              "      <td>7536.29</td>\n",
              "      <td>193.0</td>\n",
              "      <td>0.445287</td>\n",
              "    </tr>\n",
              "    <tr>\n",
              "      <th>1273</th>\n",
              "      <td>SaleID_1274</td>\n",
              "      <td>Spain</td>\n",
              "      <td>Sales visit</td>\n",
              "      <td>Outdoors Shop</td>\n",
              "      <td>Personal Accessories</td>\n",
              "      <td>Climbing Accessories</td>\n",
              "      <td>Firefly Charger</td>\n",
              "      <td>2020.0</td>\n",
              "      <td>Q3 2020</td>\n",
              "      <td>12306.48</td>\n",
              "      <td>238.0</td>\n",
              "      <td>0.568420</td>\n",
              "    </tr>\n",
              "    <tr>\n",
              "      <th>1274</th>\n",
              "      <td>SaleID_1275</td>\n",
              "      <td>Spain</td>\n",
              "      <td>Sales visit</td>\n",
              "      <td>Outdoors Shop</td>\n",
              "      <td>Personal Accessories</td>\n",
              "      <td>Tools</td>\n",
              "      <td>Granite Axe</td>\n",
              "      <td>2020.0</td>\n",
              "      <td>Q3 2020</td>\n",
              "      <td>56499.00</td>\n",
              "      <td>1472.0</td>\n",
              "      <td>0.490667</td>\n",
              "    </tr>\n",
              "    <tr>\n",
              "      <th>1275</th>\n",
              "      <td>SaleID_1276</td>\n",
              "      <td>Spain</td>\n",
              "      <td>Sales visit</td>\n",
              "      <td>Outdoors Shop</td>\n",
              "      <td>Camping Equipment</td>\n",
              "      <td>Tools</td>\n",
              "      <td>Granite Extreme</td>\n",
              "      <td>2020.0</td>\n",
              "      <td>Q3 2020</td>\n",
              "      <td>89427.00</td>\n",
              "      <td>1178.0</td>\n",
              "      <td>0.386895</td>\n",
              "    </tr>\n",
              "  </tbody>\n",
              "</table>\n",
              "</div>\n",
              "    <div class=\"colab-df-buttons\">\n",
              "\n",
              "  <div class=\"colab-df-container\">\n",
              "    <button class=\"colab-df-convert\" onclick=\"convertToInteractive('df-b7d53305-6421-4dce-8ae8-220c1f31c81b')\"\n",
              "            title=\"Convert this dataframe to an interactive table.\"\n",
              "            style=\"display:none;\">\n",
              "\n",
              "  <svg xmlns=\"http://www.w3.org/2000/svg\" height=\"24px\" viewBox=\"0 -960 960 960\">\n",
              "    <path d=\"M120-120v-720h720v720H120Zm60-500h600v-160H180v160Zm220 220h160v-160H400v160Zm0 220h160v-160H400v160ZM180-400h160v-160H180v160Zm440 0h160v-160H620v160ZM180-180h160v-160H180v160Zm440 0h160v-160H620v160Z\"/>\n",
              "  </svg>\n",
              "    </button>\n",
              "\n",
              "  <style>\n",
              "    .colab-df-container {\n",
              "      display:flex;\n",
              "      gap: 12px;\n",
              "    }\n",
              "\n",
              "    .colab-df-convert {\n",
              "      background-color: #E8F0FE;\n",
              "      border: none;\n",
              "      border-radius: 50%;\n",
              "      cursor: pointer;\n",
              "      display: none;\n",
              "      fill: #1967D2;\n",
              "      height: 32px;\n",
              "      padding: 0 0 0 0;\n",
              "      width: 32px;\n",
              "    }\n",
              "\n",
              "    .colab-df-convert:hover {\n",
              "      background-color: #E2EBFA;\n",
              "      box-shadow: 0px 1px 2px rgba(60, 64, 67, 0.3), 0px 1px 3px 1px rgba(60, 64, 67, 0.15);\n",
              "      fill: #174EA6;\n",
              "    }\n",
              "\n",
              "    .colab-df-buttons div {\n",
              "      margin-bottom: 4px;\n",
              "    }\n",
              "\n",
              "    [theme=dark] .colab-df-convert {\n",
              "      background-color: #3B4455;\n",
              "      fill: #D2E3FC;\n",
              "    }\n",
              "\n",
              "    [theme=dark] .colab-df-convert:hover {\n",
              "      background-color: #434B5C;\n",
              "      box-shadow: 0px 1px 3px 1px rgba(0, 0, 0, 0.15);\n",
              "      filter: drop-shadow(0px 1px 2px rgba(0, 0, 0, 0.3));\n",
              "      fill: #FFFFFF;\n",
              "    }\n",
              "  </style>\n",
              "\n",
              "    <script>\n",
              "      const buttonEl =\n",
              "        document.querySelector('#df-b7d53305-6421-4dce-8ae8-220c1f31c81b button.colab-df-convert');\n",
              "      buttonEl.style.display =\n",
              "        google.colab.kernel.accessAllowed ? 'block' : 'none';\n",
              "\n",
              "      async function convertToInteractive(key) {\n",
              "        const element = document.querySelector('#df-b7d53305-6421-4dce-8ae8-220c1f31c81b');\n",
              "        const dataTable =\n",
              "          await google.colab.kernel.invokeFunction('convertToInteractive',\n",
              "                                                    [key], {});\n",
              "        if (!dataTable) return;\n",
              "\n",
              "        const docLinkHtml = 'Like what you see? Visit the ' +\n",
              "          '<a target=\"_blank\" href=https://colab.research.google.com/notebooks/data_table.ipynb>data table notebook</a>'\n",
              "          + ' to learn more about interactive tables.';\n",
              "        element.innerHTML = '';\n",
              "        dataTable['output_type'] = 'display_data';\n",
              "        await google.colab.output.renderOutput(dataTable, element);\n",
              "        const docLink = document.createElement('div');\n",
              "        docLink.innerHTML = docLinkHtml;\n",
              "        element.appendChild(docLink);\n",
              "      }\n",
              "    </script>\n",
              "  </div>\n",
              "\n",
              "\n",
              "<div id=\"df-eb9ef191-db3e-4a47-9fd6-d5719276391f\">\n",
              "  <button class=\"colab-df-quickchart\" onclick=\"quickchart('df-eb9ef191-db3e-4a47-9fd6-d5719276391f')\"\n",
              "            title=\"Suggest charts\"\n",
              "            style=\"display:none;\">\n",
              "\n",
              "<svg xmlns=\"http://www.w3.org/2000/svg\" height=\"24px\"viewBox=\"0 0 24 24\"\n",
              "     width=\"24px\">\n",
              "    <g>\n",
              "        <path d=\"M19 3H5c-1.1 0-2 .9-2 2v14c0 1.1.9 2 2 2h14c1.1 0 2-.9 2-2V5c0-1.1-.9-2-2-2zM9 17H7v-7h2v7zm4 0h-2V7h2v10zm4 0h-2v-4h2v4z\"/>\n",
              "    </g>\n",
              "</svg>\n",
              "  </button>\n",
              "\n",
              "<style>\n",
              "  .colab-df-quickchart {\n",
              "      --bg-color: #E8F0FE;\n",
              "      --fill-color: #1967D2;\n",
              "      --hover-bg-color: #E2EBFA;\n",
              "      --hover-fill-color: #174EA6;\n",
              "      --disabled-fill-color: #AAA;\n",
              "      --disabled-bg-color: #DDD;\n",
              "  }\n",
              "\n",
              "  [theme=dark] .colab-df-quickchart {\n",
              "      --bg-color: #3B4455;\n",
              "      --fill-color: #D2E3FC;\n",
              "      --hover-bg-color: #434B5C;\n",
              "      --hover-fill-color: #FFFFFF;\n",
              "      --disabled-bg-color: #3B4455;\n",
              "      --disabled-fill-color: #666;\n",
              "  }\n",
              "\n",
              "  .colab-df-quickchart {\n",
              "    background-color: var(--bg-color);\n",
              "    border: none;\n",
              "    border-radius: 50%;\n",
              "    cursor: pointer;\n",
              "    display: none;\n",
              "    fill: var(--fill-color);\n",
              "    height: 32px;\n",
              "    padding: 0;\n",
              "    width: 32px;\n",
              "  }\n",
              "\n",
              "  .colab-df-quickchart:hover {\n",
              "    background-color: var(--hover-bg-color);\n",
              "    box-shadow: 0 1px 2px rgba(60, 64, 67, 0.3), 0 1px 3px 1px rgba(60, 64, 67, 0.15);\n",
              "    fill: var(--button-hover-fill-color);\n",
              "  }\n",
              "\n",
              "  .colab-df-quickchart-complete:disabled,\n",
              "  .colab-df-quickchart-complete:disabled:hover {\n",
              "    background-color: var(--disabled-bg-color);\n",
              "    fill: var(--disabled-fill-color);\n",
              "    box-shadow: none;\n",
              "  }\n",
              "\n",
              "  .colab-df-spinner {\n",
              "    border: 2px solid var(--fill-color);\n",
              "    border-color: transparent;\n",
              "    border-bottom-color: var(--fill-color);\n",
              "    animation:\n",
              "      spin 1s steps(1) infinite;\n",
              "  }\n",
              "\n",
              "  @keyframes spin {\n",
              "    0% {\n",
              "      border-color: transparent;\n",
              "      border-bottom-color: var(--fill-color);\n",
              "      border-left-color: var(--fill-color);\n",
              "    }\n",
              "    20% {\n",
              "      border-color: transparent;\n",
              "      border-left-color: var(--fill-color);\n",
              "      border-top-color: var(--fill-color);\n",
              "    }\n",
              "    30% {\n",
              "      border-color: transparent;\n",
              "      border-left-color: var(--fill-color);\n",
              "      border-top-color: var(--fill-color);\n",
              "      border-right-color: var(--fill-color);\n",
              "    }\n",
              "    40% {\n",
              "      border-color: transparent;\n",
              "      border-right-color: var(--fill-color);\n",
              "      border-top-color: var(--fill-color);\n",
              "    }\n",
              "    60% {\n",
              "      border-color: transparent;\n",
              "      border-right-color: var(--fill-color);\n",
              "    }\n",
              "    80% {\n",
              "      border-color: transparent;\n",
              "      border-right-color: var(--fill-color);\n",
              "      border-bottom-color: var(--fill-color);\n",
              "    }\n",
              "    90% {\n",
              "      border-color: transparent;\n",
              "      border-bottom-color: var(--fill-color);\n",
              "    }\n",
              "  }\n",
              "</style>\n",
              "\n",
              "  <script>\n",
              "    async function quickchart(key) {\n",
              "      const quickchartButtonEl =\n",
              "        document.querySelector('#' + key + ' button');\n",
              "      quickchartButtonEl.disabled = true;  // To prevent multiple clicks.\n",
              "      quickchartButtonEl.classList.add('colab-df-spinner');\n",
              "      try {\n",
              "        const charts = await google.colab.kernel.invokeFunction(\n",
              "            'suggestCharts', [key], {});\n",
              "      } catch (error) {\n",
              "        console.error('Error during call to suggestCharts:', error);\n",
              "      }\n",
              "      quickchartButtonEl.classList.remove('colab-df-spinner');\n",
              "      quickchartButtonEl.classList.add('colab-df-quickchart-complete');\n",
              "    }\n",
              "    (() => {\n",
              "      let quickchartButtonEl =\n",
              "        document.querySelector('#df-eb9ef191-db3e-4a47-9fd6-d5719276391f button');\n",
              "      quickchartButtonEl.style.display =\n",
              "        google.colab.kernel.accessAllowed ? 'block' : 'none';\n",
              "    })();\n",
              "  </script>\n",
              "</div>\n",
              "\n",
              "    </div>\n",
              "  </div>\n"
            ],
            "application/vnd.google.colaboratory.intrinsic+json": {
              "type": "dataframe",
              "summary": "{\n  \"name\": \"sales_products_data\",\n  \"rows\": 5,\n  \"fields\": [\n    {\n      \"column\": \"SaleID\",\n      \"properties\": {\n        \"dtype\": \"string\",\n        \"num_unique_values\": 5,\n        \"samples\": [\n          \"SaleID_1273\",\n          \"SaleID_1276\",\n          \"SaleID_1274\"\n        ],\n        \"semantic_type\": \"\",\n        \"description\": \"\"\n      }\n    },\n    {\n      \"column\": \"RetailerCountry\",\n      \"properties\": {\n        \"dtype\": \"category\",\n        \"num_unique_values\": 1,\n        \"samples\": [\n          \"Spain\"\n        ],\n        \"semantic_type\": \"\",\n        \"description\": \"\"\n      }\n    },\n    {\n      \"column\": \"OrderMethod\",\n      \"properties\": {\n        \"dtype\": \"category\",\n        \"num_unique_values\": 1,\n        \"samples\": [\n          \"Sales visit\"\n        ],\n        \"semantic_type\": \"\",\n        \"description\": \"\"\n      }\n    },\n    {\n      \"column\": \"RetailerType\",\n      \"properties\": {\n        \"dtype\": \"category\",\n        \"num_unique_values\": 1,\n        \"samples\": [\n          \"Outdoors Shop\"\n        ],\n        \"semantic_type\": \"\",\n        \"description\": \"\"\n      }\n    },\n    {\n      \"column\": \"ProductLine\",\n      \"properties\": {\n        \"dtype\": \"string\",\n        \"num_unique_values\": 3,\n        \"samples\": [\n          \"Personal Accessories\"\n        ],\n        \"semantic_type\": \"\",\n        \"description\": \"\"\n      }\n    },\n    {\n      \"column\": \"ProductType\",\n      \"properties\": {\n        \"dtype\": \"string\",\n        \"num_unique_values\": 3,\n        \"samples\": [\n          \"Rope\"\n        ],\n        \"semantic_type\": \"\",\n        \"description\": \"\"\n      }\n    },\n    {\n      \"column\": \"Product\",\n      \"properties\": {\n        \"dtype\": \"string\",\n        \"num_unique_values\": 5,\n        \"samples\": [\n          \"Firefly Climbing Lamp\"\n        ],\n        \"semantic_type\": \"\",\n        \"description\": \"\"\n      }\n    },\n    {\n      \"column\": \"Year\",\n      \"properties\": {\n        \"dtype\": \"number\",\n        \"std\": 0.0,\n        \"min\": 2020.0,\n        \"max\": 2020.0,\n        \"num_unique_values\": 1,\n        \"samples\": [\n          2020.0\n        ],\n        \"semantic_type\": \"\",\n        \"description\": \"\"\n      }\n    },\n    {\n      \"column\": \"Quarter\",\n      \"properties\": {\n        \"dtype\": \"category\",\n        \"num_unique_values\": 1,\n        \"samples\": [\n          \"Q3 2020\"\n        ],\n        \"semantic_type\": \"\",\n        \"description\": \"\"\n      }\n    },\n    {\n      \"column\": \"Revenue\",\n      \"properties\": {\n        \"dtype\": \"number\",\n        \"std\": 33971.97864494324,\n        \"min\": 7536.29,\n        \"max\": 89427.0,\n        \"num_unique_values\": 5,\n        \"samples\": [\n          7536.29\n        ],\n        \"semantic_type\": \"\",\n        \"description\": \"\"\n      }\n    },\n    {\n      \"column\": \"Quantity\",\n      \"properties\": {\n        \"dtype\": \"number\",\n        \"std\": 624.6172427975392,\n        \"min\": 173.0,\n        \"max\": 1472.0,\n        \"num_unique_values\": 5,\n        \"samples\": [\n          193.0\n        ],\n        \"semantic_type\": \"\",\n        \"description\": \"\"\n      }\n    },\n    {\n      \"column\": \"GrossMargin\",\n      \"properties\": {\n        \"dtype\": \"number\",\n        \"std\": 0.10248931743254383,\n        \"min\": 0.29811357,\n        \"max\": 0.56842037,\n        \"num_unique_values\": 5,\n        \"samples\": [\n          0.44528732\n        ],\n        \"semantic_type\": \"\",\n        \"description\": \"\"\n      }\n    }\n  ]\n}"
            }
          },
          "metadata": {},
          "execution_count": 128
        }
      ],
      "source": [
        "sales_products_data.tail()"
      ]
    },
    {
      "cell_type": "markdown",
      "metadata": {
        "id": "YjEts8Uxb9rI"
      },
      "source": [
        "## pandas DataFrames - Common Attributes"
      ]
    },
    {
      "cell_type": "markdown",
      "metadata": {
        "id": "yELUOPHbb9rI"
      },
      "source": [
        "Import the *Sales-products.csv* dataset into a DataFrame object called **sales_products_data**."
      ]
    },
    {
      "cell_type": "markdown",
      "metadata": {
        "id": "URrn2KUQb9rI"
      },
      "source": [
        "*Note: Please use the default index provided for this DataFrame throughout this exercise.*"
      ]
    },
    {
      "cell_type": "code",
      "execution_count": 129,
      "metadata": {
        "scrolled": true,
        "colab": {
          "base_uri": "https://localhost:8080/",
          "height": 669
        },
        "id": "2hx-Swtlb9rI",
        "outputId": "5ef1a707-9ccd-4229-d0f7-2a460e0c0a48"
      },
      "outputs": [
        {
          "output_type": "execute_result",
          "data": {
            "text/plain": [
              "           SaleID RetailerCountry  OrderMethod   RetailerType  \\\n",
              "0        SaleID_1   United States          Fax  Outdoors Shop   \n",
              "1        SaleID_2   United States          Fax  Outdoors Shop   \n",
              "2        SaleID_3   United States          Fax  Outdoors Shop   \n",
              "3        SaleID_4   United States          Fax  Outdoors Shop   \n",
              "4        SaleID_5   United States          NaN  Outdoors Shop   \n",
              "...           ...             ...          ...            ...   \n",
              "1271  SaleID_1272           Spain  Sales visit  Outdoors Shop   \n",
              "1272  SaleID_1273           Spain  Sales visit  Outdoors Shop   \n",
              "1273  SaleID_1274           Spain  Sales visit  Outdoors Shop   \n",
              "1274  SaleID_1275           Spain  Sales visit  Outdoors Shop   \n",
              "1275  SaleID_1276           Spain  Sales visit  Outdoors Shop   \n",
              "\n",
              "               ProductLine           ProductType                    Product  \\\n",
              "0     Personal Accessories          Cooking Gear  TrailChef Deluxe Cook Set   \n",
              "1         Sports Equipment          Cooking Gear     TrailChef Double Flame   \n",
              "2                      NaN                 Tents                  Star Dome   \n",
              "3                      NaN                 Tents               Star Gazer 2   \n",
              "4     Personal Accessories             First Aid         Compact Relief Kit   \n",
              "...                    ...                   ...                        ...   \n",
              "1271  Personal Accessories                  Rope              Husky Rope 60   \n",
              "1272    Outdoor Protection  Climbing Accessories      Firefly Climbing Lamp   \n",
              "1273  Personal Accessories  Climbing Accessories            Firefly Charger   \n",
              "1274  Personal Accessories                 Tools                Granite Axe   \n",
              "1275     Camping Equipment                 Tools            Granite Extreme   \n",
              "\n",
              "        Year  Quarter   Revenue  Quantity  GrossMargin  \n",
              "0     2018.0  Q1 2018  59728.66     491.0     0.357548  \n",
              "1     2018.0  Q1 2018  36050.32     254.0     0.484274  \n",
              "2     2018.0  Q1 2018  90040.48     149.0          NaN  \n",
              "3     2018.0  Q1 2018       NaN     305.0     0.292938  \n",
              "4     2018.0  Q1 2018       NaN     182.0     0.610710  \n",
              "...      ...      ...       ...       ...          ...  \n",
              "1271  2020.0  Q3 2020  30916.50     173.0     0.298114  \n",
              "1272  2020.0  Q3 2020   7536.29     193.0     0.445287  \n",
              "1273  2020.0  Q3 2020  12306.48     238.0     0.568420  \n",
              "1274  2020.0  Q3 2020  56499.00    1472.0     0.490667  \n",
              "1275  2020.0  Q3 2020  89427.00    1178.0     0.386895  \n",
              "\n",
              "[1276 rows x 12 columns]"
            ],
            "text/html": [
              "\n",
              "  <div id=\"df-f53af020-404f-45a9-9d18-d6dce20a3533\" class=\"colab-df-container\">\n",
              "    <div>\n",
              "<style scoped>\n",
              "    .dataframe tbody tr th:only-of-type {\n",
              "        vertical-align: middle;\n",
              "    }\n",
              "\n",
              "    .dataframe tbody tr th {\n",
              "        vertical-align: top;\n",
              "    }\n",
              "\n",
              "    .dataframe thead th {\n",
              "        text-align: right;\n",
              "    }\n",
              "</style>\n",
              "<table border=\"1\" class=\"dataframe\">\n",
              "  <thead>\n",
              "    <tr style=\"text-align: right;\">\n",
              "      <th></th>\n",
              "      <th>SaleID</th>\n",
              "      <th>RetailerCountry</th>\n",
              "      <th>OrderMethod</th>\n",
              "      <th>RetailerType</th>\n",
              "      <th>ProductLine</th>\n",
              "      <th>ProductType</th>\n",
              "      <th>Product</th>\n",
              "      <th>Year</th>\n",
              "      <th>Quarter</th>\n",
              "      <th>Revenue</th>\n",
              "      <th>Quantity</th>\n",
              "      <th>GrossMargin</th>\n",
              "    </tr>\n",
              "  </thead>\n",
              "  <tbody>\n",
              "    <tr>\n",
              "      <th>0</th>\n",
              "      <td>SaleID_1</td>\n",
              "      <td>United States</td>\n",
              "      <td>Fax</td>\n",
              "      <td>Outdoors Shop</td>\n",
              "      <td>Personal Accessories</td>\n",
              "      <td>Cooking Gear</td>\n",
              "      <td>TrailChef Deluxe Cook Set</td>\n",
              "      <td>2018.0</td>\n",
              "      <td>Q1 2018</td>\n",
              "      <td>59728.66</td>\n",
              "      <td>491.0</td>\n",
              "      <td>0.357548</td>\n",
              "    </tr>\n",
              "    <tr>\n",
              "      <th>1</th>\n",
              "      <td>SaleID_2</td>\n",
              "      <td>United States</td>\n",
              "      <td>Fax</td>\n",
              "      <td>Outdoors Shop</td>\n",
              "      <td>Sports Equipment</td>\n",
              "      <td>Cooking Gear</td>\n",
              "      <td>TrailChef Double Flame</td>\n",
              "      <td>2018.0</td>\n",
              "      <td>Q1 2018</td>\n",
              "      <td>36050.32</td>\n",
              "      <td>254.0</td>\n",
              "      <td>0.484274</td>\n",
              "    </tr>\n",
              "    <tr>\n",
              "      <th>2</th>\n",
              "      <td>SaleID_3</td>\n",
              "      <td>United States</td>\n",
              "      <td>Fax</td>\n",
              "      <td>Outdoors Shop</td>\n",
              "      <td>NaN</td>\n",
              "      <td>Tents</td>\n",
              "      <td>Star Dome</td>\n",
              "      <td>2018.0</td>\n",
              "      <td>Q1 2018</td>\n",
              "      <td>90040.48</td>\n",
              "      <td>149.0</td>\n",
              "      <td>NaN</td>\n",
              "    </tr>\n",
              "    <tr>\n",
              "      <th>3</th>\n",
              "      <td>SaleID_4</td>\n",
              "      <td>United States</td>\n",
              "      <td>Fax</td>\n",
              "      <td>Outdoors Shop</td>\n",
              "      <td>NaN</td>\n",
              "      <td>Tents</td>\n",
              "      <td>Star Gazer 2</td>\n",
              "      <td>2018.0</td>\n",
              "      <td>Q1 2018</td>\n",
              "      <td>NaN</td>\n",
              "      <td>305.0</td>\n",
              "      <td>0.292938</td>\n",
              "    </tr>\n",
              "    <tr>\n",
              "      <th>4</th>\n",
              "      <td>SaleID_5</td>\n",
              "      <td>United States</td>\n",
              "      <td>NaN</td>\n",
              "      <td>Outdoors Shop</td>\n",
              "      <td>Personal Accessories</td>\n",
              "      <td>First Aid</td>\n",
              "      <td>Compact Relief Kit</td>\n",
              "      <td>2018.0</td>\n",
              "      <td>Q1 2018</td>\n",
              "      <td>NaN</td>\n",
              "      <td>182.0</td>\n",
              "      <td>0.610710</td>\n",
              "    </tr>\n",
              "    <tr>\n",
              "      <th>...</th>\n",
              "      <td>...</td>\n",
              "      <td>...</td>\n",
              "      <td>...</td>\n",
              "      <td>...</td>\n",
              "      <td>...</td>\n",
              "      <td>...</td>\n",
              "      <td>...</td>\n",
              "      <td>...</td>\n",
              "      <td>...</td>\n",
              "      <td>...</td>\n",
              "      <td>...</td>\n",
              "      <td>...</td>\n",
              "    </tr>\n",
              "    <tr>\n",
              "      <th>1271</th>\n",
              "      <td>SaleID_1272</td>\n",
              "      <td>Spain</td>\n",
              "      <td>Sales visit</td>\n",
              "      <td>Outdoors Shop</td>\n",
              "      <td>Personal Accessories</td>\n",
              "      <td>Rope</td>\n",
              "      <td>Husky Rope 60</td>\n",
              "      <td>2020.0</td>\n",
              "      <td>Q3 2020</td>\n",
              "      <td>30916.50</td>\n",
              "      <td>173.0</td>\n",
              "      <td>0.298114</td>\n",
              "    </tr>\n",
              "    <tr>\n",
              "      <th>1272</th>\n",
              "      <td>SaleID_1273</td>\n",
              "      <td>Spain</td>\n",
              "      <td>Sales visit</td>\n",
              "      <td>Outdoors Shop</td>\n",
              "      <td>Outdoor Protection</td>\n",
              "      <td>Climbing Accessories</td>\n",
              "      <td>Firefly Climbing Lamp</td>\n",
              "      <td>2020.0</td>\n",
              "      <td>Q3 2020</td>\n",
              "      <td>7536.29</td>\n",
              "      <td>193.0</td>\n",
              "      <td>0.445287</td>\n",
              "    </tr>\n",
              "    <tr>\n",
              "      <th>1273</th>\n",
              "      <td>SaleID_1274</td>\n",
              "      <td>Spain</td>\n",
              "      <td>Sales visit</td>\n",
              "      <td>Outdoors Shop</td>\n",
              "      <td>Personal Accessories</td>\n",
              "      <td>Climbing Accessories</td>\n",
              "      <td>Firefly Charger</td>\n",
              "      <td>2020.0</td>\n",
              "      <td>Q3 2020</td>\n",
              "      <td>12306.48</td>\n",
              "      <td>238.0</td>\n",
              "      <td>0.568420</td>\n",
              "    </tr>\n",
              "    <tr>\n",
              "      <th>1274</th>\n",
              "      <td>SaleID_1275</td>\n",
              "      <td>Spain</td>\n",
              "      <td>Sales visit</td>\n",
              "      <td>Outdoors Shop</td>\n",
              "      <td>Personal Accessories</td>\n",
              "      <td>Tools</td>\n",
              "      <td>Granite Axe</td>\n",
              "      <td>2020.0</td>\n",
              "      <td>Q3 2020</td>\n",
              "      <td>56499.00</td>\n",
              "      <td>1472.0</td>\n",
              "      <td>0.490667</td>\n",
              "    </tr>\n",
              "    <tr>\n",
              "      <th>1275</th>\n",
              "      <td>SaleID_1276</td>\n",
              "      <td>Spain</td>\n",
              "      <td>Sales visit</td>\n",
              "      <td>Outdoors Shop</td>\n",
              "      <td>Camping Equipment</td>\n",
              "      <td>Tools</td>\n",
              "      <td>Granite Extreme</td>\n",
              "      <td>2020.0</td>\n",
              "      <td>Q3 2020</td>\n",
              "      <td>89427.00</td>\n",
              "      <td>1178.0</td>\n",
              "      <td>0.386895</td>\n",
              "    </tr>\n",
              "  </tbody>\n",
              "</table>\n",
              "<p>1276 rows × 12 columns</p>\n",
              "</div>\n",
              "    <div class=\"colab-df-buttons\">\n",
              "\n",
              "  <div class=\"colab-df-container\">\n",
              "    <button class=\"colab-df-convert\" onclick=\"convertToInteractive('df-f53af020-404f-45a9-9d18-d6dce20a3533')\"\n",
              "            title=\"Convert this dataframe to an interactive table.\"\n",
              "            style=\"display:none;\">\n",
              "\n",
              "  <svg xmlns=\"http://www.w3.org/2000/svg\" height=\"24px\" viewBox=\"0 -960 960 960\">\n",
              "    <path d=\"M120-120v-720h720v720H120Zm60-500h600v-160H180v160Zm220 220h160v-160H400v160Zm0 220h160v-160H400v160ZM180-400h160v-160H180v160Zm440 0h160v-160H620v160ZM180-180h160v-160H180v160Zm440 0h160v-160H620v160Z\"/>\n",
              "  </svg>\n",
              "    </button>\n",
              "\n",
              "  <style>\n",
              "    .colab-df-container {\n",
              "      display:flex;\n",
              "      gap: 12px;\n",
              "    }\n",
              "\n",
              "    .colab-df-convert {\n",
              "      background-color: #E8F0FE;\n",
              "      border: none;\n",
              "      border-radius: 50%;\n",
              "      cursor: pointer;\n",
              "      display: none;\n",
              "      fill: #1967D2;\n",
              "      height: 32px;\n",
              "      padding: 0 0 0 0;\n",
              "      width: 32px;\n",
              "    }\n",
              "\n",
              "    .colab-df-convert:hover {\n",
              "      background-color: #E2EBFA;\n",
              "      box-shadow: 0px 1px 2px rgba(60, 64, 67, 0.3), 0px 1px 3px 1px rgba(60, 64, 67, 0.15);\n",
              "      fill: #174EA6;\n",
              "    }\n",
              "\n",
              "    .colab-df-buttons div {\n",
              "      margin-bottom: 4px;\n",
              "    }\n",
              "\n",
              "    [theme=dark] .colab-df-convert {\n",
              "      background-color: #3B4455;\n",
              "      fill: #D2E3FC;\n",
              "    }\n",
              "\n",
              "    [theme=dark] .colab-df-convert:hover {\n",
              "      background-color: #434B5C;\n",
              "      box-shadow: 0px 1px 3px 1px rgba(0, 0, 0, 0.15);\n",
              "      filter: drop-shadow(0px 1px 2px rgba(0, 0, 0, 0.3));\n",
              "      fill: #FFFFFF;\n",
              "    }\n",
              "  </style>\n",
              "\n",
              "    <script>\n",
              "      const buttonEl =\n",
              "        document.querySelector('#df-f53af020-404f-45a9-9d18-d6dce20a3533 button.colab-df-convert');\n",
              "      buttonEl.style.display =\n",
              "        google.colab.kernel.accessAllowed ? 'block' : 'none';\n",
              "\n",
              "      async function convertToInteractive(key) {\n",
              "        const element = document.querySelector('#df-f53af020-404f-45a9-9d18-d6dce20a3533');\n",
              "        const dataTable =\n",
              "          await google.colab.kernel.invokeFunction('convertToInteractive',\n",
              "                                                    [key], {});\n",
              "        if (!dataTable) return;\n",
              "\n",
              "        const docLinkHtml = 'Like what you see? Visit the ' +\n",
              "          '<a target=\"_blank\" href=https://colab.research.google.com/notebooks/data_table.ipynb>data table notebook</a>'\n",
              "          + ' to learn more about interactive tables.';\n",
              "        element.innerHTML = '';\n",
              "        dataTable['output_type'] = 'display_data';\n",
              "        await google.colab.output.renderOutput(dataTable, element);\n",
              "        const docLink = document.createElement('div');\n",
              "        docLink.innerHTML = docLinkHtml;\n",
              "        element.appendChild(docLink);\n",
              "      }\n",
              "    </script>\n",
              "  </div>\n",
              "\n",
              "\n",
              "<div id=\"df-093fa6c9-bc7a-47f0-b9b8-fe5460016b56\">\n",
              "  <button class=\"colab-df-quickchart\" onclick=\"quickchart('df-093fa6c9-bc7a-47f0-b9b8-fe5460016b56')\"\n",
              "            title=\"Suggest charts\"\n",
              "            style=\"display:none;\">\n",
              "\n",
              "<svg xmlns=\"http://www.w3.org/2000/svg\" height=\"24px\"viewBox=\"0 0 24 24\"\n",
              "     width=\"24px\">\n",
              "    <g>\n",
              "        <path d=\"M19 3H5c-1.1 0-2 .9-2 2v14c0 1.1.9 2 2 2h14c1.1 0 2-.9 2-2V5c0-1.1-.9-2-2-2zM9 17H7v-7h2v7zm4 0h-2V7h2v10zm4 0h-2v-4h2v4z\"/>\n",
              "    </g>\n",
              "</svg>\n",
              "  </button>\n",
              "\n",
              "<style>\n",
              "  .colab-df-quickchart {\n",
              "      --bg-color: #E8F0FE;\n",
              "      --fill-color: #1967D2;\n",
              "      --hover-bg-color: #E2EBFA;\n",
              "      --hover-fill-color: #174EA6;\n",
              "      --disabled-fill-color: #AAA;\n",
              "      --disabled-bg-color: #DDD;\n",
              "  }\n",
              "\n",
              "  [theme=dark] .colab-df-quickchart {\n",
              "      --bg-color: #3B4455;\n",
              "      --fill-color: #D2E3FC;\n",
              "      --hover-bg-color: #434B5C;\n",
              "      --hover-fill-color: #FFFFFF;\n",
              "      --disabled-bg-color: #3B4455;\n",
              "      --disabled-fill-color: #666;\n",
              "  }\n",
              "\n",
              "  .colab-df-quickchart {\n",
              "    background-color: var(--bg-color);\n",
              "    border: none;\n",
              "    border-radius: 50%;\n",
              "    cursor: pointer;\n",
              "    display: none;\n",
              "    fill: var(--fill-color);\n",
              "    height: 32px;\n",
              "    padding: 0;\n",
              "    width: 32px;\n",
              "  }\n",
              "\n",
              "  .colab-df-quickchart:hover {\n",
              "    background-color: var(--hover-bg-color);\n",
              "    box-shadow: 0 1px 2px rgba(60, 64, 67, 0.3), 0 1px 3px 1px rgba(60, 64, 67, 0.15);\n",
              "    fill: var(--button-hover-fill-color);\n",
              "  }\n",
              "\n",
              "  .colab-df-quickchart-complete:disabled,\n",
              "  .colab-df-quickchart-complete:disabled:hover {\n",
              "    background-color: var(--disabled-bg-color);\n",
              "    fill: var(--disabled-fill-color);\n",
              "    box-shadow: none;\n",
              "  }\n",
              "\n",
              "  .colab-df-spinner {\n",
              "    border: 2px solid var(--fill-color);\n",
              "    border-color: transparent;\n",
              "    border-bottom-color: var(--fill-color);\n",
              "    animation:\n",
              "      spin 1s steps(1) infinite;\n",
              "  }\n",
              "\n",
              "  @keyframes spin {\n",
              "    0% {\n",
              "      border-color: transparent;\n",
              "      border-bottom-color: var(--fill-color);\n",
              "      border-left-color: var(--fill-color);\n",
              "    }\n",
              "    20% {\n",
              "      border-color: transparent;\n",
              "      border-left-color: var(--fill-color);\n",
              "      border-top-color: var(--fill-color);\n",
              "    }\n",
              "    30% {\n",
              "      border-color: transparent;\n",
              "      border-left-color: var(--fill-color);\n",
              "      border-top-color: var(--fill-color);\n",
              "      border-right-color: var(--fill-color);\n",
              "    }\n",
              "    40% {\n",
              "      border-color: transparent;\n",
              "      border-right-color: var(--fill-color);\n",
              "      border-top-color: var(--fill-color);\n",
              "    }\n",
              "    60% {\n",
              "      border-color: transparent;\n",
              "      border-right-color: var(--fill-color);\n",
              "    }\n",
              "    80% {\n",
              "      border-color: transparent;\n",
              "      border-right-color: var(--fill-color);\n",
              "      border-bottom-color: var(--fill-color);\n",
              "    }\n",
              "    90% {\n",
              "      border-color: transparent;\n",
              "      border-bottom-color: var(--fill-color);\n",
              "    }\n",
              "  }\n",
              "</style>\n",
              "\n",
              "  <script>\n",
              "    async function quickchart(key) {\n",
              "      const quickchartButtonEl =\n",
              "        document.querySelector('#' + key + ' button');\n",
              "      quickchartButtonEl.disabled = true;  // To prevent multiple clicks.\n",
              "      quickchartButtonEl.classList.add('colab-df-spinner');\n",
              "      try {\n",
              "        const charts = await google.colab.kernel.invokeFunction(\n",
              "            'suggestCharts', [key], {});\n",
              "      } catch (error) {\n",
              "        console.error('Error during call to suggestCharts:', error);\n",
              "      }\n",
              "      quickchartButtonEl.classList.remove('colab-df-spinner');\n",
              "      quickchartButtonEl.classList.add('colab-df-quickchart-complete');\n",
              "    }\n",
              "    (() => {\n",
              "      let quickchartButtonEl =\n",
              "        document.querySelector('#df-093fa6c9-bc7a-47f0-b9b8-fe5460016b56 button');\n",
              "      quickchartButtonEl.style.display =\n",
              "        google.colab.kernel.accessAllowed ? 'block' : 'none';\n",
              "    })();\n",
              "  </script>\n",
              "</div>\n",
              "\n",
              "  <div id=\"id_0272414a-775e-4a50-a69b-396e2e7463f7\">\n",
              "    <style>\n",
              "      .colab-df-generate {\n",
              "        background-color: #E8F0FE;\n",
              "        border: none;\n",
              "        border-radius: 50%;\n",
              "        cursor: pointer;\n",
              "        display: none;\n",
              "        fill: #1967D2;\n",
              "        height: 32px;\n",
              "        padding: 0 0 0 0;\n",
              "        width: 32px;\n",
              "      }\n",
              "\n",
              "      .colab-df-generate:hover {\n",
              "        background-color: #E2EBFA;\n",
              "        box-shadow: 0px 1px 2px rgba(60, 64, 67, 0.3), 0px 1px 3px 1px rgba(60, 64, 67, 0.15);\n",
              "        fill: #174EA6;\n",
              "      }\n",
              "\n",
              "      [theme=dark] .colab-df-generate {\n",
              "        background-color: #3B4455;\n",
              "        fill: #D2E3FC;\n",
              "      }\n",
              "\n",
              "      [theme=dark] .colab-df-generate:hover {\n",
              "        background-color: #434B5C;\n",
              "        box-shadow: 0px 1px 3px 1px rgba(0, 0, 0, 0.15);\n",
              "        filter: drop-shadow(0px 1px 2px rgba(0, 0, 0, 0.3));\n",
              "        fill: #FFFFFF;\n",
              "      }\n",
              "    </style>\n",
              "    <button class=\"colab-df-generate\" onclick=\"generateWithVariable('sales_products_data')\"\n",
              "            title=\"Generate code using this dataframe.\"\n",
              "            style=\"display:none;\">\n",
              "\n",
              "  <svg xmlns=\"http://www.w3.org/2000/svg\" height=\"24px\"viewBox=\"0 0 24 24\"\n",
              "       width=\"24px\">\n",
              "    <path d=\"M7,19H8.4L18.45,9,17,7.55,7,17.6ZM5,21V16.75L18.45,3.32a2,2,0,0,1,2.83,0l1.4,1.43a1.91,1.91,0,0,1,.58,1.4,1.91,1.91,0,0,1-.58,1.4L9.25,21ZM18.45,9,17,7.55Zm-12,3A5.31,5.31,0,0,0,4.9,8.1,5.31,5.31,0,0,0,1,6.5,5.31,5.31,0,0,0,4.9,4.9,5.31,5.31,0,0,0,6.5,1,5.31,5.31,0,0,0,8.1,4.9,5.31,5.31,0,0,0,12,6.5,5.46,5.46,0,0,0,6.5,12Z\"/>\n",
              "  </svg>\n",
              "    </button>\n",
              "    <script>\n",
              "      (() => {\n",
              "      const buttonEl =\n",
              "        document.querySelector('#id_0272414a-775e-4a50-a69b-396e2e7463f7 button.colab-df-generate');\n",
              "      buttonEl.style.display =\n",
              "        google.colab.kernel.accessAllowed ? 'block' : 'none';\n",
              "\n",
              "      buttonEl.onclick = () => {\n",
              "        google.colab.notebook.generateWithVariable('sales_products_data');\n",
              "      }\n",
              "      })();\n",
              "    </script>\n",
              "  </div>\n",
              "\n",
              "    </div>\n",
              "  </div>\n"
            ],
            "application/vnd.google.colaboratory.intrinsic+json": {
              "type": "dataframe",
              "variable_name": "sales_products_data",
              "summary": "{\n  \"name\": \"sales_products_data\",\n  \"rows\": 1276,\n  \"fields\": [\n    {\n      \"column\": \"SaleID\",\n      \"properties\": {\n        \"dtype\": \"string\",\n        \"num_unique_values\": 1276,\n        \"samples\": [\n          \"SaleID_102\",\n          \"SaleID_52\",\n          \"SaleID_77\"\n        ],\n        \"semantic_type\": \"\",\n        \"description\": \"\"\n      }\n    },\n    {\n      \"column\": \"RetailerCountry\",\n      \"properties\": {\n        \"dtype\": \"category\",\n        \"num_unique_values\": 21,\n        \"samples\": [\n          \"United States\",\n          \"Germany\",\n          \"Finland\"\n        ],\n        \"semantic_type\": \"\",\n        \"description\": \"\"\n      }\n    },\n    {\n      \"column\": \"OrderMethod\",\n      \"properties\": {\n        \"dtype\": \"category\",\n        \"num_unique_values\": 7,\n        \"samples\": [\n          \"Fax\",\n          \"Phone\",\n          \"Other\"\n        ],\n        \"semantic_type\": \"\",\n        \"description\": \"\"\n      }\n    },\n    {\n      \"column\": \"RetailerType\",\n      \"properties\": {\n        \"dtype\": \"category\",\n        \"num_unique_values\": 8,\n        \"samples\": [\n          \"Mall\",\n          \"Discount Retailer\",\n          \"Outdoors Shop\"\n        ],\n        \"semantic_type\": \"\",\n        \"description\": \"\"\n      }\n    },\n    {\n      \"column\": \"ProductLine\",\n      \"properties\": {\n        \"dtype\": \"category\",\n        \"num_unique_values\": 5,\n        \"samples\": [\n          \"Sports Equipment\",\n          \"Outdoor Protection\",\n          \"Camping Equipment\"\n        ],\n        \"semantic_type\": \"\",\n        \"description\": \"\"\n      }\n    },\n    {\n      \"column\": \"ProductType\",\n      \"properties\": {\n        \"dtype\": \"category\",\n        \"num_unique_values\": 21,\n        \"samples\": [\n          \"Cooking Gear\",\n          \"Putters\",\n          \"Navigation\"\n        ],\n        \"semantic_type\": \"\",\n        \"description\": \"\"\n      }\n    },\n    {\n      \"column\": \"Product\",\n      \"properties\": {\n        \"dtype\": \"category\",\n        \"num_unique_values\": 143,\n        \"samples\": [\n          \"Star Gazer 6\",\n          \"Granite Climbing Helmet\",\n          \"EverGlow Lamp\"\n        ],\n        \"semantic_type\": \"\",\n        \"description\": \"\"\n      }\n    },\n    {\n      \"column\": \"Year\",\n      \"properties\": {\n        \"dtype\": \"number\",\n        \"std\": 0.7175962927121285,\n        \"min\": 2018.0,\n        \"max\": 2020.0,\n        \"num_unique_values\": 3,\n        \"samples\": [\n          2018.0,\n          2019.0,\n          2020.0\n        ],\n        \"semantic_type\": \"\",\n        \"description\": \"\"\n      }\n    },\n    {\n      \"column\": \"Quarter\",\n      \"properties\": {\n        \"dtype\": \"category\",\n        \"num_unique_values\": 10,\n        \"samples\": [\n          \"Q2 2020\",\n          \"Q2 2018\",\n          \"Q3 2019\"\n        ],\n        \"semantic_type\": \"\",\n        \"description\": \"\"\n      }\n    },\n    {\n      \"column\": \"Revenue\",\n      \"properties\": {\n        \"dtype\": \"number\",\n        \"std\": 51124.45062498806,\n        \"min\": 0.0,\n        \"max\": 944436.75,\n        \"num_unique_values\": 1241,\n        \"samples\": [\n          12754.32,\n          36648.64,\n          5680.05\n        ],\n        \"semantic_type\": \"\",\n        \"description\": \"\"\n      }\n    },\n    {\n      \"column\": \"Quantity\",\n      \"properties\": {\n        \"dtype\": \"number\",\n        \"std\": 977.7235161907016,\n        \"min\": 1.0,\n        \"max\": 13758.0,\n        \"num_unique_values\": 723,\n        \"samples\": [\n          251.0,\n          358.0,\n          3556.0\n        ],\n        \"semantic_type\": \"\",\n        \"description\": \"\"\n      }\n    },\n    {\n      \"column\": \"GrossMargin\",\n      \"properties\": {\n        \"dtype\": \"number\",\n        \"std\": 0.11257501207480596,\n        \"min\": 0.05870851,\n        \"max\": 0.78047619,\n        \"num_unique_values\": 691,\n        \"samples\": [\n          0.49066667,\n          0.48346215,\n          0.64469388\n        ],\n        \"semantic_type\": \"\",\n        \"description\": \"\"\n      }\n    }\n  ]\n}"
            }
          },
          "metadata": {},
          "execution_count": 129
        }
      ],
      "source": [
        "sales_products_data = pd.read_csv('Sales-products.csv')\n",
        "sales_products_data"
      ]
    },
    {
      "cell_type": "markdown",
      "metadata": {
        "id": "Vu0QdGHkb9rI"
      },
      "source": [
        "Return the index of the **sales_products_data** DataFrame."
      ]
    },
    {
      "cell_type": "code",
      "execution_count": 130,
      "metadata": {
        "colab": {
          "base_uri": "https://localhost:8080/"
        },
        "id": "31K1Wjaab9rJ",
        "outputId": "438c99ce-d129-4b01-daa5-202780f83e56"
      },
      "outputs": [
        {
          "output_type": "execute_result",
          "data": {
            "text/plain": [
              "RangeIndex(start=0, stop=1276, step=1)"
            ]
          },
          "metadata": {},
          "execution_count": 130
        }
      ],
      "source": [
        "dataframe_index = sales_products_data.index\n",
        "dataframe_index"
      ]
    },
    {
      "cell_type": "markdown",
      "metadata": {
        "id": "62OTalpSb9rJ"
      },
      "source": [
        "Verify that **sales_products_data** is a RangeIndex object in an alternative way by using the **type()** funciton."
      ]
    },
    {
      "cell_type": "code",
      "execution_count": 131,
      "metadata": {
        "colab": {
          "base_uri": "https://localhost:8080/",
          "height": 204
        },
        "id": "wlbAAK-Cb9rJ",
        "outputId": "3e5d8900-0bfa-4e94-9dbe-04ad2f80587b"
      },
      "outputs": [
        {
          "output_type": "execute_result",
          "data": {
            "text/plain": [
              "pandas.core.frame.DataFrame"
            ],
            "text/html": [
              "<div style=\"max-width:800px; border: 1px solid var(--colab-border-color);\"><style>\n",
              "      pre.function-repr-contents {\n",
              "        overflow-x: auto;\n",
              "        padding: 8px 12px;\n",
              "        max-height: 500px;\n",
              "      }\n",
              "\n",
              "      pre.function-repr-contents.function-repr-contents-collapsed {\n",
              "        cursor: pointer;\n",
              "        max-height: 100px;\n",
              "      }\n",
              "    </style>\n",
              "    <pre style=\"white-space: initial; background:\n",
              "         var(--colab-secondary-surface-color); padding: 8px 12px;\n",
              "         border-bottom: 1px solid var(--colab-border-color);\"><b>pandas.core.frame.DataFrame</b><br/>def __init__(data=None, index: Axes | None=None, columns: Axes | None=None, dtype: Dtype | None=None, copy: bool | None=None) -&gt; None</pre><pre class=\"function-repr-contents function-repr-contents-collapsed\" style=\"\"><a class=\"filepath\" style=\"display:none\" href=\"#\">/usr/local/lib/python3.10/dist-packages/pandas/core/frame.py</a>Two-dimensional, size-mutable, potentially heterogeneous tabular data.\n",
              "\n",
              "Data structure also contains labeled axes (rows and columns).\n",
              "Arithmetic operations align on both row and column labels. Can be\n",
              "thought of as a dict-like container for Series objects. The primary\n",
              "pandas data structure.\n",
              "\n",
              "Parameters\n",
              "----------\n",
              "data : ndarray (structured or homogeneous), Iterable, dict, or DataFrame\n",
              "    Dict can contain Series, arrays, constants, dataclass or list-like objects. If\n",
              "    data is a dict, column order follows insertion-order. If a dict contains Series\n",
              "    which have an index defined, it is aligned by its index. This alignment also\n",
              "    occurs if data is a Series or a DataFrame itself. Alignment is done on\n",
              "    Series/DataFrame inputs.\n",
              "\n",
              "    If data is a list of dicts, column order follows insertion-order.\n",
              "\n",
              "index : Index or array-like\n",
              "    Index to use for resulting frame. Will default to RangeIndex if\n",
              "    no indexing information part of input data and no index provided.\n",
              "columns : Index or array-like\n",
              "    Column labels to use for resulting frame when data does not have them,\n",
              "    defaulting to RangeIndex(0, 1, 2, ..., n). If data contains column labels,\n",
              "    will perform column selection instead.\n",
              "dtype : dtype, default None\n",
              "    Data type to force. Only a single dtype is allowed. If None, infer.\n",
              "copy : bool or None, default None\n",
              "    Copy data from inputs.\n",
              "    For dict data, the default of None behaves like ``copy=True``.  For DataFrame\n",
              "    or 2d ndarray input, the default of None behaves like ``copy=False``.\n",
              "    If data is a dict containing one or more Series (possibly of different dtypes),\n",
              "    ``copy=False`` will ensure that these inputs are not copied.\n",
              "\n",
              "    .. versionchanged:: 1.3.0\n",
              "\n",
              "See Also\n",
              "--------\n",
              "DataFrame.from_records : Constructor from tuples, also record arrays.\n",
              "DataFrame.from_dict : From dicts of Series, arrays, or dicts.\n",
              "read_csv : Read a comma-separated values (csv) file into DataFrame.\n",
              "read_table : Read general delimited file into DataFrame.\n",
              "read_clipboard : Read text from clipboard into DataFrame.\n",
              "\n",
              "Notes\n",
              "-----\n",
              "Please reference the :ref:`User Guide &lt;basics.dataframe&gt;` for more information.\n",
              "\n",
              "Examples\n",
              "--------\n",
              "Constructing DataFrame from a dictionary.\n",
              "\n",
              "&gt;&gt;&gt; d = {&#x27;col1&#x27;: [1, 2], &#x27;col2&#x27;: [3, 4]}\n",
              "&gt;&gt;&gt; df = pd.DataFrame(data=d)\n",
              "&gt;&gt;&gt; df\n",
              "   col1  col2\n",
              "0     1     3\n",
              "1     2     4\n",
              "\n",
              "Notice that the inferred dtype is int64.\n",
              "\n",
              "&gt;&gt;&gt; df.dtypes\n",
              "col1    int64\n",
              "col2    int64\n",
              "dtype: object\n",
              "\n",
              "To enforce a single dtype:\n",
              "\n",
              "&gt;&gt;&gt; df = pd.DataFrame(data=d, dtype=np.int8)\n",
              "&gt;&gt;&gt; df.dtypes\n",
              "col1    int8\n",
              "col2    int8\n",
              "dtype: object\n",
              "\n",
              "Constructing DataFrame from a dictionary including Series:\n",
              "\n",
              "&gt;&gt;&gt; d = {&#x27;col1&#x27;: [0, 1, 2, 3], &#x27;col2&#x27;: pd.Series([2, 3], index=[2, 3])}\n",
              "&gt;&gt;&gt; pd.DataFrame(data=d, index=[0, 1, 2, 3])\n",
              "   col1  col2\n",
              "0     0   NaN\n",
              "1     1   NaN\n",
              "2     2   2.0\n",
              "3     3   3.0\n",
              "\n",
              "Constructing DataFrame from numpy ndarray:\n",
              "\n",
              "&gt;&gt;&gt; df2 = pd.DataFrame(np.array([[1, 2, 3], [4, 5, 6], [7, 8, 9]]),\n",
              "...                    columns=[&#x27;a&#x27;, &#x27;b&#x27;, &#x27;c&#x27;])\n",
              "&gt;&gt;&gt; df2\n",
              "   a  b  c\n",
              "0  1  2  3\n",
              "1  4  5  6\n",
              "2  7  8  9\n",
              "\n",
              "Constructing DataFrame from a numpy ndarray that has labeled columns:\n",
              "\n",
              "&gt;&gt;&gt; data = np.array([(1, 2, 3), (4, 5, 6), (7, 8, 9)],\n",
              "...                 dtype=[(&quot;a&quot;, &quot;i4&quot;), (&quot;b&quot;, &quot;i4&quot;), (&quot;c&quot;, &quot;i4&quot;)])\n",
              "&gt;&gt;&gt; df3 = pd.DataFrame(data, columns=[&#x27;c&#x27;, &#x27;a&#x27;])\n",
              "...\n",
              "&gt;&gt;&gt; df3\n",
              "   c  a\n",
              "0  3  1\n",
              "1  6  4\n",
              "2  9  7\n",
              "\n",
              "Constructing DataFrame from dataclass:\n",
              "\n",
              "&gt;&gt;&gt; from dataclasses import make_dataclass\n",
              "&gt;&gt;&gt; Point = make_dataclass(&quot;Point&quot;, [(&quot;x&quot;, int), (&quot;y&quot;, int)])\n",
              "&gt;&gt;&gt; pd.DataFrame([Point(0, 0), Point(0, 3), Point(2, 3)])\n",
              "   x  y\n",
              "0  0  0\n",
              "1  0  3\n",
              "2  2  3\n",
              "\n",
              "Constructing DataFrame from Series/DataFrame:\n",
              "\n",
              "&gt;&gt;&gt; ser = pd.Series([1, 2, 3], index=[&quot;a&quot;, &quot;b&quot;, &quot;c&quot;])\n",
              "&gt;&gt;&gt; df = pd.DataFrame(data=ser, index=[&quot;a&quot;, &quot;c&quot;])\n",
              "&gt;&gt;&gt; df\n",
              "   0\n",
              "a  1\n",
              "c  3\n",
              "\n",
              "&gt;&gt;&gt; df1 = pd.DataFrame([1, 2, 3], index=[&quot;a&quot;, &quot;b&quot;, &quot;c&quot;], columns=[&quot;x&quot;])\n",
              "&gt;&gt;&gt; df2 = pd.DataFrame(data=df1, index=[&quot;a&quot;, &quot;c&quot;])\n",
              "&gt;&gt;&gt; df2\n",
              "   x\n",
              "a  1\n",
              "c  3</pre>\n",
              "      <script>\n",
              "      if (google.colab.kernel.accessAllowed && google.colab.files && google.colab.files.view) {\n",
              "        for (const element of document.querySelectorAll('.filepath')) {\n",
              "          element.style.display = 'block'\n",
              "          element.onclick = (event) => {\n",
              "            event.preventDefault();\n",
              "            event.stopPropagation();\n",
              "            google.colab.files.view(element.textContent, 509);\n",
              "          };\n",
              "        }\n",
              "      }\n",
              "      for (const element of document.querySelectorAll('.function-repr-contents')) {\n",
              "        element.onclick = (event) => {\n",
              "          event.preventDefault();\n",
              "          event.stopPropagation();\n",
              "          element.classList.toggle('function-repr-contents-collapsed');\n",
              "        };\n",
              "      }\n",
              "      </script>\n",
              "      </div>"
            ]
          },
          "metadata": {},
          "execution_count": 131
        }
      ],
      "source": [
        "type(sales_products_data)"
      ]
    },
    {
      "cell_type": "markdown",
      "metadata": {
        "id": "Kqz6gDJab9rJ"
      },
      "source": [
        "Retrieve and Index object containing all column names from the **sales_products_data** DataFrame."
      ]
    },
    {
      "cell_type": "code",
      "execution_count": 132,
      "metadata": {
        "scrolled": true,
        "colab": {
          "base_uri": "https://localhost:8080/"
        },
        "id": "zSW22a8bb9rJ",
        "outputId": "845d0f2a-611a-4dce-eec7-406fe14c4f4c"
      },
      "outputs": [
        {
          "output_type": "execute_result",
          "data": {
            "text/plain": [
              "Index(['SaleID', 'RetailerCountry', 'OrderMethod', 'RetailerType',\n",
              "       'ProductLine', 'ProductType', 'Product', 'Year', 'Quarter', 'Revenue',\n",
              "       'Quantity', 'GrossMargin'],\n",
              "      dtype='object')"
            ]
          },
          "metadata": {},
          "execution_count": 132
        }
      ],
      "source": [
        "column_names = sales_products_data.columns\n",
        "column_names"
      ]
    },
    {
      "cell_type": "markdown",
      "metadata": {
        "id": "Xe92YeUbb9rJ"
      },
      "source": [
        "You are requested to create a new DataFrame, called **df**, whose data is obtained from the the names of the columns of **sales_products_data** DataFrame, while the column names are obtained from the **new_column_names** list.\n",
        "<br/><br/> First, execute the next cell to create **new_column_names**, and then in the next cell try creating the **df** DataFrame yourself (by helping yourself with the newly created **new_column_names** list).\n",
        "<br/><br/> *Note: There are two ways to achieve this - one would be through utilizing the* **columns** *parameter, and the other – with the help of the* **\"columns\"** *attribute. Choose whichever option you prefer (or why not try both!).*"
      ]
    },
    {
      "cell_type": "code",
      "execution_count": 133,
      "metadata": {
        "id": "5t5ZoTizb9rK"
      },
      "outputs": [],
      "source": [
        "new_column_names = ['SaleID', 'Country', 'OrderMethod', 'Retailer', 'Line',\n",
        "       'Type', 'Product', 'YearOfSales', 'Quarter', 'Revenue', 'Quantity',\n",
        "       'Margin']"
      ]
    },
    {
      "cell_type": "code",
      "execution_count": 134,
      "metadata": {
        "colab": {
          "base_uri": "https://localhost:8080/"
        },
        "id": "DswFjqntb9rK",
        "outputId": "e06af58e-9ab1-427e-8ba1-b225bbee8250"
      },
      "outputs": [
        {
          "output_type": "stream",
          "name": "stdout",
          "text": [
            "   SaleID          Country  OrderMethod      Retailer         Line  \\\n",
            "0  SaleID  RetailerCountry  OrderMethod  RetailerType  ProductLine   \n",
            "\n",
            "          Type  Product YearOfSales  Quarter  Revenue  Quantity       Margin  \n",
            "0  ProductType  Product        Year  Quarter  Revenue  Quantity  GrossMargin  \n"
          ]
        }
      ],
      "source": [
        "#method 1.using columns parameter\n",
        "df = pd.DataFrame([sales_products_data.columns], columns=new_column_names)\n",
        "print(df)"
      ]
    },
    {
      "cell_type": "code",
      "execution_count": 135,
      "metadata": {
        "colab": {
          "base_uri": "https://localhost:8080/"
        },
        "id": "8LT43FRab9rK",
        "outputId": "9dbd849c-e5c1-4795-a6aa-872e10c30a02"
      },
      "outputs": [
        {
          "output_type": "stream",
          "name": "stdout",
          "text": [
            "   SaleID          Country  OrderMethod      Retailer         Line  \\\n",
            "0  SaleID  RetailerCountry  OrderMethod  RetailerType  ProductLine   \n",
            "\n",
            "          Type  Product YearOfSales  Quarter  Revenue  Quantity       Margin  \n",
            "0  ProductType  Product        Year  Quarter  Revenue  Quantity  GrossMargin  \n"
          ]
        }
      ],
      "source": [
        "#method 2.using columns attribute\n",
        "df = pd.DataFrame([sales_products_data.columns])\n",
        "df.columns = new_column_names\n",
        "print(df)"
      ]
    },
    {
      "cell_type": "markdown",
      "metadata": {
        "id": "wR7txCyJb9rL"
      },
      "source": [
        "Display the \"head\" of the **df** DataFrame."
      ]
    },
    {
      "cell_type": "code",
      "execution_count": 136,
      "metadata": {
        "colab": {
          "base_uri": "https://localhost:8080/",
          "height": 101
        },
        "id": "vfj04SJLb9rL",
        "outputId": "48a8f49d-7445-4b1f-ff18-3d3656a08300"
      },
      "outputs": [
        {
          "output_type": "execute_result",
          "data": {
            "text/plain": [
              "   SaleID          Country  OrderMethod      Retailer         Line  \\\n",
              "0  SaleID  RetailerCountry  OrderMethod  RetailerType  ProductLine   \n",
              "\n",
              "          Type  Product YearOfSales  Quarter  Revenue  Quantity       Margin  \n",
              "0  ProductType  Product        Year  Quarter  Revenue  Quantity  GrossMargin  "
            ],
            "text/html": [
              "\n",
              "  <div id=\"df-7a591aa5-e73c-44a4-9949-3f0e6b11f041\" class=\"colab-df-container\">\n",
              "    <div>\n",
              "<style scoped>\n",
              "    .dataframe tbody tr th:only-of-type {\n",
              "        vertical-align: middle;\n",
              "    }\n",
              "\n",
              "    .dataframe tbody tr th {\n",
              "        vertical-align: top;\n",
              "    }\n",
              "\n",
              "    .dataframe thead th {\n",
              "        text-align: right;\n",
              "    }\n",
              "</style>\n",
              "<table border=\"1\" class=\"dataframe\">\n",
              "  <thead>\n",
              "    <tr style=\"text-align: right;\">\n",
              "      <th></th>\n",
              "      <th>SaleID</th>\n",
              "      <th>Country</th>\n",
              "      <th>OrderMethod</th>\n",
              "      <th>Retailer</th>\n",
              "      <th>Line</th>\n",
              "      <th>Type</th>\n",
              "      <th>Product</th>\n",
              "      <th>YearOfSales</th>\n",
              "      <th>Quarter</th>\n",
              "      <th>Revenue</th>\n",
              "      <th>Quantity</th>\n",
              "      <th>Margin</th>\n",
              "    </tr>\n",
              "  </thead>\n",
              "  <tbody>\n",
              "    <tr>\n",
              "      <th>0</th>\n",
              "      <td>SaleID</td>\n",
              "      <td>RetailerCountry</td>\n",
              "      <td>OrderMethod</td>\n",
              "      <td>RetailerType</td>\n",
              "      <td>ProductLine</td>\n",
              "      <td>ProductType</td>\n",
              "      <td>Product</td>\n",
              "      <td>Year</td>\n",
              "      <td>Quarter</td>\n",
              "      <td>Revenue</td>\n",
              "      <td>Quantity</td>\n",
              "      <td>GrossMargin</td>\n",
              "    </tr>\n",
              "  </tbody>\n",
              "</table>\n",
              "</div>\n",
              "    <div class=\"colab-df-buttons\">\n",
              "\n",
              "  <div class=\"colab-df-container\">\n",
              "    <button class=\"colab-df-convert\" onclick=\"convertToInteractive('df-7a591aa5-e73c-44a4-9949-3f0e6b11f041')\"\n",
              "            title=\"Convert this dataframe to an interactive table.\"\n",
              "            style=\"display:none;\">\n",
              "\n",
              "  <svg xmlns=\"http://www.w3.org/2000/svg\" height=\"24px\" viewBox=\"0 -960 960 960\">\n",
              "    <path d=\"M120-120v-720h720v720H120Zm60-500h600v-160H180v160Zm220 220h160v-160H400v160Zm0 220h160v-160H400v160ZM180-400h160v-160H180v160Zm440 0h160v-160H620v160ZM180-180h160v-160H180v160Zm440 0h160v-160H620v160Z\"/>\n",
              "  </svg>\n",
              "    </button>\n",
              "\n",
              "  <style>\n",
              "    .colab-df-container {\n",
              "      display:flex;\n",
              "      gap: 12px;\n",
              "    }\n",
              "\n",
              "    .colab-df-convert {\n",
              "      background-color: #E8F0FE;\n",
              "      border: none;\n",
              "      border-radius: 50%;\n",
              "      cursor: pointer;\n",
              "      display: none;\n",
              "      fill: #1967D2;\n",
              "      height: 32px;\n",
              "      padding: 0 0 0 0;\n",
              "      width: 32px;\n",
              "    }\n",
              "\n",
              "    .colab-df-convert:hover {\n",
              "      background-color: #E2EBFA;\n",
              "      box-shadow: 0px 1px 2px rgba(60, 64, 67, 0.3), 0px 1px 3px 1px rgba(60, 64, 67, 0.15);\n",
              "      fill: #174EA6;\n",
              "    }\n",
              "\n",
              "    .colab-df-buttons div {\n",
              "      margin-bottom: 4px;\n",
              "    }\n",
              "\n",
              "    [theme=dark] .colab-df-convert {\n",
              "      background-color: #3B4455;\n",
              "      fill: #D2E3FC;\n",
              "    }\n",
              "\n",
              "    [theme=dark] .colab-df-convert:hover {\n",
              "      background-color: #434B5C;\n",
              "      box-shadow: 0px 1px 3px 1px rgba(0, 0, 0, 0.15);\n",
              "      filter: drop-shadow(0px 1px 2px rgba(0, 0, 0, 0.3));\n",
              "      fill: #FFFFFF;\n",
              "    }\n",
              "  </style>\n",
              "\n",
              "    <script>\n",
              "      const buttonEl =\n",
              "        document.querySelector('#df-7a591aa5-e73c-44a4-9949-3f0e6b11f041 button.colab-df-convert');\n",
              "      buttonEl.style.display =\n",
              "        google.colab.kernel.accessAllowed ? 'block' : 'none';\n",
              "\n",
              "      async function convertToInteractive(key) {\n",
              "        const element = document.querySelector('#df-7a591aa5-e73c-44a4-9949-3f0e6b11f041');\n",
              "        const dataTable =\n",
              "          await google.colab.kernel.invokeFunction('convertToInteractive',\n",
              "                                                    [key], {});\n",
              "        if (!dataTable) return;\n",
              "\n",
              "        const docLinkHtml = 'Like what you see? Visit the ' +\n",
              "          '<a target=\"_blank\" href=https://colab.research.google.com/notebooks/data_table.ipynb>data table notebook</a>'\n",
              "          + ' to learn more about interactive tables.';\n",
              "        element.innerHTML = '';\n",
              "        dataTable['output_type'] = 'display_data';\n",
              "        await google.colab.output.renderOutput(dataTable, element);\n",
              "        const docLink = document.createElement('div');\n",
              "        docLink.innerHTML = docLinkHtml;\n",
              "        element.appendChild(docLink);\n",
              "      }\n",
              "    </script>\n",
              "  </div>\n",
              "\n",
              "\n",
              "    </div>\n",
              "  </div>\n"
            ],
            "application/vnd.google.colaboratory.intrinsic+json": {
              "type": "dataframe",
              "variable_name": "df",
              "summary": "{\n  \"name\": \"df\",\n  \"rows\": 1,\n  \"fields\": [\n    {\n      \"column\": \"SaleID\",\n      \"properties\": {\n        \"dtype\": \"string\",\n        \"num_unique_values\": 1,\n        \"samples\": [\n          \"SaleID\"\n        ],\n        \"semantic_type\": \"\",\n        \"description\": \"\"\n      }\n    },\n    {\n      \"column\": \"Country\",\n      \"properties\": {\n        \"dtype\": \"string\",\n        \"num_unique_values\": 1,\n        \"samples\": [\n          \"RetailerCountry\"\n        ],\n        \"semantic_type\": \"\",\n        \"description\": \"\"\n      }\n    },\n    {\n      \"column\": \"OrderMethod\",\n      \"properties\": {\n        \"dtype\": \"string\",\n        \"num_unique_values\": 1,\n        \"samples\": [\n          \"OrderMethod\"\n        ],\n        \"semantic_type\": \"\",\n        \"description\": \"\"\n      }\n    },\n    {\n      \"column\": \"Retailer\",\n      \"properties\": {\n        \"dtype\": \"string\",\n        \"num_unique_values\": 1,\n        \"samples\": [\n          \"RetailerType\"\n        ],\n        \"semantic_type\": \"\",\n        \"description\": \"\"\n      }\n    },\n    {\n      \"column\": \"Line\",\n      \"properties\": {\n        \"dtype\": \"string\",\n        \"num_unique_values\": 1,\n        \"samples\": [\n          \"ProductLine\"\n        ],\n        \"semantic_type\": \"\",\n        \"description\": \"\"\n      }\n    },\n    {\n      \"column\": \"Type\",\n      \"properties\": {\n        \"dtype\": \"string\",\n        \"num_unique_values\": 1,\n        \"samples\": [\n          \"ProductType\"\n        ],\n        \"semantic_type\": \"\",\n        \"description\": \"\"\n      }\n    },\n    {\n      \"column\": \"Product\",\n      \"properties\": {\n        \"dtype\": \"string\",\n        \"num_unique_values\": 1,\n        \"samples\": [\n          \"Product\"\n        ],\n        \"semantic_type\": \"\",\n        \"description\": \"\"\n      }\n    },\n    {\n      \"column\": \"YearOfSales\",\n      \"properties\": {\n        \"dtype\": \"string\",\n        \"num_unique_values\": 1,\n        \"samples\": [\n          \"Year\"\n        ],\n        \"semantic_type\": \"\",\n        \"description\": \"\"\n      }\n    },\n    {\n      \"column\": \"Quarter\",\n      \"properties\": {\n        \"dtype\": \"string\",\n        \"num_unique_values\": 1,\n        \"samples\": [\n          \"Quarter\"\n        ],\n        \"semantic_type\": \"\",\n        \"description\": \"\"\n      }\n    },\n    {\n      \"column\": \"Revenue\",\n      \"properties\": {\n        \"dtype\": \"string\",\n        \"num_unique_values\": 1,\n        \"samples\": [\n          \"Revenue\"\n        ],\n        \"semantic_type\": \"\",\n        \"description\": \"\"\n      }\n    },\n    {\n      \"column\": \"Quantity\",\n      \"properties\": {\n        \"dtype\": \"string\",\n        \"num_unique_values\": 1,\n        \"samples\": [\n          \"Quantity\"\n        ],\n        \"semantic_type\": \"\",\n        \"description\": \"\"\n      }\n    },\n    {\n      \"column\": \"Margin\",\n      \"properties\": {\n        \"dtype\": \"string\",\n        \"num_unique_values\": 1,\n        \"samples\": [\n          \"GrossMargin\"\n        ],\n        \"semantic_type\": \"\",\n        \"description\": \"\"\n      }\n    }\n  ]\n}"
            }
          },
          "metadata": {},
          "execution_count": 136
        }
      ],
      "source": [
        "df.head()"
      ]
    },
    {
      "cell_type": "markdown",
      "metadata": {
        "id": "4SjUxZrHb9rL"
      },
      "source": [
        "Use an attribute to obtain metadata about the types of data stored in the different columns of the **sales_products_data** DataFrame."
      ]
    },
    {
      "cell_type": "code",
      "execution_count": 137,
      "metadata": {
        "colab": {
          "base_uri": "https://localhost:8080/",
          "height": 460
        },
        "id": "wJKo5nzzb9rL",
        "outputId": "b664d1ad-5c36-4c9c-af67-4d5cfb871233"
      },
      "outputs": [
        {
          "output_type": "execute_result",
          "data": {
            "text/plain": [
              "SaleID              object\n",
              "RetailerCountry     object\n",
              "OrderMethod         object\n",
              "RetailerType        object\n",
              "ProductLine         object\n",
              "ProductType         object\n",
              "Product             object\n",
              "Year               float64\n",
              "Quarter             object\n",
              "Revenue            float64\n",
              "Quantity           float64\n",
              "GrossMargin        float64\n",
              "dtype: object"
            ],
            "text/html": [
              "<div>\n",
              "<style scoped>\n",
              "    .dataframe tbody tr th:only-of-type {\n",
              "        vertical-align: middle;\n",
              "    }\n",
              "\n",
              "    .dataframe tbody tr th {\n",
              "        vertical-align: top;\n",
              "    }\n",
              "\n",
              "    .dataframe thead th {\n",
              "        text-align: right;\n",
              "    }\n",
              "</style>\n",
              "<table border=\"1\" class=\"dataframe\">\n",
              "  <thead>\n",
              "    <tr style=\"text-align: right;\">\n",
              "      <th></th>\n",
              "      <th>0</th>\n",
              "    </tr>\n",
              "  </thead>\n",
              "  <tbody>\n",
              "    <tr>\n",
              "      <th>SaleID</th>\n",
              "      <td>object</td>\n",
              "    </tr>\n",
              "    <tr>\n",
              "      <th>RetailerCountry</th>\n",
              "      <td>object</td>\n",
              "    </tr>\n",
              "    <tr>\n",
              "      <th>OrderMethod</th>\n",
              "      <td>object</td>\n",
              "    </tr>\n",
              "    <tr>\n",
              "      <th>RetailerType</th>\n",
              "      <td>object</td>\n",
              "    </tr>\n",
              "    <tr>\n",
              "      <th>ProductLine</th>\n",
              "      <td>object</td>\n",
              "    </tr>\n",
              "    <tr>\n",
              "      <th>ProductType</th>\n",
              "      <td>object</td>\n",
              "    </tr>\n",
              "    <tr>\n",
              "      <th>Product</th>\n",
              "      <td>object</td>\n",
              "    </tr>\n",
              "    <tr>\n",
              "      <th>Year</th>\n",
              "      <td>float64</td>\n",
              "    </tr>\n",
              "    <tr>\n",
              "      <th>Quarter</th>\n",
              "      <td>object</td>\n",
              "    </tr>\n",
              "    <tr>\n",
              "      <th>Revenue</th>\n",
              "      <td>float64</td>\n",
              "    </tr>\n",
              "    <tr>\n",
              "      <th>Quantity</th>\n",
              "      <td>float64</td>\n",
              "    </tr>\n",
              "    <tr>\n",
              "      <th>GrossMargin</th>\n",
              "      <td>float64</td>\n",
              "    </tr>\n",
              "  </tbody>\n",
              "</table>\n",
              "</div><br><label><b>dtype:</b> object</label>"
            ]
          },
          "metadata": {},
          "execution_count": 137
        }
      ],
      "source": [
        "sales_products_data.dtypes"
      ]
    },
    {
      "cell_type": "markdown",
      "metadata": {
        "id": "oz5YLC-Yb9rL"
      },
      "source": [
        "Obtain a Numpy array containing all values of the **sales_products_data**.\n",
        "<br/><br/> *Note: There are two ways to achieve this! Try both, but keep in mind that pandas developers advise us to stick to using the method.*"
      ]
    },
    {
      "cell_type": "code",
      "execution_count": 138,
      "metadata": {
        "id": "L0LPBiVAb9rL"
      },
      "outputs": [],
      "source": [
        "#method 1\n",
        "numpy_array_1 = sales_products_data.to_numpy()"
      ]
    },
    {
      "cell_type": "code",
      "execution_count": 139,
      "metadata": {
        "id": "Z5Db-H37b9rM"
      },
      "outputs": [],
      "source": [
        "#method 2\n",
        "numpy_array_2 = sales_products_data.values"
      ]
    },
    {
      "cell_type": "markdown",
      "metadata": {
        "id": "nfEyupD3b9rM"
      },
      "source": [
        "Verify that the obtained objects are NumPy arrays with the help of the \"Type\" function."
      ]
    },
    {
      "cell_type": "code",
      "execution_count": 140,
      "metadata": {
        "colab": {
          "base_uri": "https://localhost:8080/"
        },
        "id": "WoEgLV1ob9rM",
        "outputId": "9f321921-3288-4dc6-c59e-5798e0f76de1"
      },
      "outputs": [
        {
          "output_type": "execute_result",
          "data": {
            "text/plain": [
              "numpy.ndarray"
            ]
          },
          "metadata": {},
          "execution_count": 140
        }
      ],
      "source": [
        "type(numpy_array_1)"
      ]
    },
    {
      "cell_type": "code",
      "execution_count": 141,
      "metadata": {
        "colab": {
          "base_uri": "https://localhost:8080/"
        },
        "id": "3SX5vx_Eb9rM",
        "outputId": "a9ddd257-9792-466d-982d-5c1636e88488"
      },
      "outputs": [
        {
          "output_type": "execute_result",
          "data": {
            "text/plain": [
              "numpy.ndarray"
            ]
          },
          "metadata": {},
          "execution_count": 141
        }
      ],
      "source": [
        "type(numpy_array_2)"
      ]
    },
    {
      "cell_type": "markdown",
      "metadata": {
        "id": "1-2lKrU6b9rM"
      },
      "source": [
        "Obtain the number of rows and columns in the **sales_products_data** DataFrame."
      ]
    },
    {
      "cell_type": "code",
      "source": [
        "num_rows, num_columns = df.shape\n",
        "print(df.shape)"
      ],
      "metadata": {
        "colab": {
          "base_uri": "https://localhost:8080/"
        },
        "id": "ZbztoFRFlLIk",
        "outputId": "3a76300f-18f2-43ab-9554-6e6675bf2381"
      },
      "execution_count": 142,
      "outputs": [
        {
          "output_type": "stream",
          "name": "stdout",
          "text": [
            "(1, 12)\n"
          ]
        }
      ]
    },
    {
      "cell_type": "markdown",
      "metadata": {
        "id": "LpnXBNwLb9rN"
      },
      "source": [
        "Check if the output obtained in the previous cell is a tuple."
      ]
    },
    {
      "cell_type": "code",
      "source": [
        "type(df.shape)"
      ],
      "metadata": {
        "colab": {
          "base_uri": "https://localhost:8080/"
        },
        "id": "60dMkAAulnCm",
        "outputId": "385b5cca-f73b-4454-a4c5-29b68955e523"
      },
      "execution_count": 143,
      "outputs": [
        {
          "output_type": "execute_result",
          "data": {
            "text/plain": [
              "tuple"
            ]
          },
          "metadata": {},
          "execution_count": 143
        }
      ]
    },
    {
      "cell_type": "markdown",
      "metadata": {
        "id": "60LCDXtUb9rN"
      },
      "source": [
        "## Data Selection in pandas DataFrames"
      ]
    },
    {
      "cell_type": "markdown",
      "metadata": {
        "id": "O19CgB1Hb9rN"
      },
      "source": [
        "Although we are not advised to, retrieve the data from the 'Product' column from the **sales_products_data** column *without* using the indexing operator **[ ]**."
      ]
    },
    {
      "cell_type": "code",
      "execution_count": 144,
      "metadata": {
        "colab": {
          "base_uri": "https://localhost:8080/"
        },
        "id": "6DwI7NWIb9rN",
        "outputId": "5580c60b-7285-461a-b179-4bd61d619bc1"
      },
      "outputs": [
        {
          "output_type": "stream",
          "name": "stdout",
          "text": [
            "0       TrailChef Deluxe Cook Set\n",
            "1          TrailChef Double Flame\n",
            "2                       Star Dome\n",
            "3                    Star Gazer 2\n",
            "4              Compact Relief Kit\n",
            "                  ...            \n",
            "1271                Husky Rope 60\n",
            "1272        Firefly Climbing Lamp\n",
            "1273              Firefly Charger\n",
            "1274                  Granite Axe\n",
            "1275              Granite Extreme\n",
            "Name: Product, Length: 1276, dtype: object\n"
          ]
        }
      ],
      "source": [
        "product_column = sales_products_data.loc[:, 'Product']\n",
        "print(product_column)"
      ]
    },
    {
      "cell_type": "markdown",
      "metadata": {
        "id": "gGx4YXZbb9rO"
      },
      "source": [
        "Retrieve the data from the 'Product' column from the **sales_products_data** column by using the indexing operator **[ ]**."
      ]
    },
    {
      "cell_type": "code",
      "execution_count": 145,
      "metadata": {
        "colab": {
          "base_uri": "https://localhost:8080/"
        },
        "id": "eyfnX9USb9rO",
        "outputId": "7b3c0b89-aeca-4d85-9845-78d50f06fa01"
      },
      "outputs": [
        {
          "output_type": "stream",
          "name": "stdout",
          "text": [
            "0       TrailChef Deluxe Cook Set\n",
            "1          TrailChef Double Flame\n",
            "2                       Star Dome\n",
            "3                    Star Gazer 2\n",
            "4              Compact Relief Kit\n",
            "                  ...            \n",
            "1271                Husky Rope 60\n",
            "1272        Firefly Climbing Lamp\n",
            "1273              Firefly Charger\n",
            "1274                  Granite Axe\n",
            "1275              Granite Extreme\n",
            "Name: Product, Length: 1276, dtype: object\n"
          ]
        }
      ],
      "source": [
        "product_column = sales_products_data['Product']\n",
        "print(product_column)"
      ]
    },
    {
      "cell_type": "markdown",
      "metadata": {
        "id": "FqmgZM5jb9rO"
      },
      "source": [
        "Apply the **.tail()** method to the code you used in your previous response to obtain the last five rows from the \"Product\" column."
      ]
    },
    {
      "cell_type": "code",
      "execution_count": 146,
      "metadata": {
        "colab": {
          "base_uri": "https://localhost:8080/",
          "height": 241
        },
        "id": "ffkjj54Nb9rO",
        "outputId": "8bb90589-e17a-4429-8e91-49fd7dcd9c81"
      },
      "outputs": [
        {
          "output_type": "execute_result",
          "data": {
            "text/plain": [
              "1271            Husky Rope 60\n",
              "1272    Firefly Climbing Lamp\n",
              "1273          Firefly Charger\n",
              "1274              Granite Axe\n",
              "1275          Granite Extreme\n",
              "Name: Product, dtype: object"
            ],
            "text/html": [
              "<div>\n",
              "<style scoped>\n",
              "    .dataframe tbody tr th:only-of-type {\n",
              "        vertical-align: middle;\n",
              "    }\n",
              "\n",
              "    .dataframe tbody tr th {\n",
              "        vertical-align: top;\n",
              "    }\n",
              "\n",
              "    .dataframe thead th {\n",
              "        text-align: right;\n",
              "    }\n",
              "</style>\n",
              "<table border=\"1\" class=\"dataframe\">\n",
              "  <thead>\n",
              "    <tr style=\"text-align: right;\">\n",
              "      <th></th>\n",
              "      <th>Product</th>\n",
              "    </tr>\n",
              "  </thead>\n",
              "  <tbody>\n",
              "    <tr>\n",
              "      <th>1271</th>\n",
              "      <td>Husky Rope 60</td>\n",
              "    </tr>\n",
              "    <tr>\n",
              "      <th>1272</th>\n",
              "      <td>Firefly Climbing Lamp</td>\n",
              "    </tr>\n",
              "    <tr>\n",
              "      <th>1273</th>\n",
              "      <td>Firefly Charger</td>\n",
              "    </tr>\n",
              "    <tr>\n",
              "      <th>1274</th>\n",
              "      <td>Granite Axe</td>\n",
              "    </tr>\n",
              "    <tr>\n",
              "      <th>1275</th>\n",
              "      <td>Granite Extreme</td>\n",
              "    </tr>\n",
              "  </tbody>\n",
              "</table>\n",
              "</div><br><label><b>dtype:</b> object</label>"
            ]
          },
          "metadata": {},
          "execution_count": 146
        }
      ],
      "source": [
        "product_column.tail()"
      ]
    },
    {
      "cell_type": "markdown",
      "metadata": {
        "id": "_Ro4GUfhb9rP"
      },
      "source": [
        "Although we are not advised to, retrieve the data from the 'Quarter' column from the **sales_products_data** column *without* using the indexing operator **.[ ]**."
      ]
    },
    {
      "cell_type": "code",
      "execution_count": 147,
      "metadata": {
        "colab": {
          "base_uri": "https://localhost:8080/",
          "height": 458
        },
        "id": "PWqz8q7Lb9rP",
        "outputId": "1dfe29ec-4f4b-4b2a-b9f9-1fdc055d4470"
      },
      "outputs": [
        {
          "output_type": "execute_result",
          "data": {
            "text/plain": [
              "0       Q1 2018\n",
              "1       Q1 2018\n",
              "2       Q1 2018\n",
              "3       Q1 2018\n",
              "4       Q1 2018\n",
              "         ...   \n",
              "1271    Q3 2020\n",
              "1272    Q3 2020\n",
              "1273    Q3 2020\n",
              "1274    Q3 2020\n",
              "1275    Q3 2020\n",
              "Name: Quarter, Length: 1276, dtype: object"
            ],
            "text/html": [
              "<div>\n",
              "<style scoped>\n",
              "    .dataframe tbody tr th:only-of-type {\n",
              "        vertical-align: middle;\n",
              "    }\n",
              "\n",
              "    .dataframe tbody tr th {\n",
              "        vertical-align: top;\n",
              "    }\n",
              "\n",
              "    .dataframe thead th {\n",
              "        text-align: right;\n",
              "    }\n",
              "</style>\n",
              "<table border=\"1\" class=\"dataframe\">\n",
              "  <thead>\n",
              "    <tr style=\"text-align: right;\">\n",
              "      <th></th>\n",
              "      <th>Quarter</th>\n",
              "    </tr>\n",
              "  </thead>\n",
              "  <tbody>\n",
              "    <tr>\n",
              "      <th>0</th>\n",
              "      <td>Q1 2018</td>\n",
              "    </tr>\n",
              "    <tr>\n",
              "      <th>1</th>\n",
              "      <td>Q1 2018</td>\n",
              "    </tr>\n",
              "    <tr>\n",
              "      <th>2</th>\n",
              "      <td>Q1 2018</td>\n",
              "    </tr>\n",
              "    <tr>\n",
              "      <th>3</th>\n",
              "      <td>Q1 2018</td>\n",
              "    </tr>\n",
              "    <tr>\n",
              "      <th>4</th>\n",
              "      <td>Q1 2018</td>\n",
              "    </tr>\n",
              "    <tr>\n",
              "      <th>...</th>\n",
              "      <td>...</td>\n",
              "    </tr>\n",
              "    <tr>\n",
              "      <th>1271</th>\n",
              "      <td>Q3 2020</td>\n",
              "    </tr>\n",
              "    <tr>\n",
              "      <th>1272</th>\n",
              "      <td>Q3 2020</td>\n",
              "    </tr>\n",
              "    <tr>\n",
              "      <th>1273</th>\n",
              "      <td>Q3 2020</td>\n",
              "    </tr>\n",
              "    <tr>\n",
              "      <th>1274</th>\n",
              "      <td>Q3 2020</td>\n",
              "    </tr>\n",
              "    <tr>\n",
              "      <th>1275</th>\n",
              "      <td>Q3 2020</td>\n",
              "    </tr>\n",
              "  </tbody>\n",
              "</table>\n",
              "<p>1276 rows × 1 columns</p>\n",
              "</div><br><label><b>dtype:</b> object</label>"
            ]
          },
          "metadata": {},
          "execution_count": 147
        }
      ],
      "source": [
        "quarter_column = sales_products_data.Quarter\n",
        "quarter_column"
      ]
    },
    {
      "cell_type": "markdown",
      "metadata": {
        "id": "c_B5sv3bb9rP"
      },
      "source": [
        "Retrieve the data from the 'Quarter' column from the **sales_products_data** column by using the indexing operator **[ ]**."
      ]
    },
    {
      "cell_type": "code",
      "execution_count": 148,
      "metadata": {
        "colab": {
          "base_uri": "https://localhost:8080/",
          "height": 458
        },
        "id": "_8y_AFstb9rP",
        "outputId": "c7e1ebe3-eaf7-4d45-c7e0-cd50d3e0699a"
      },
      "outputs": [
        {
          "output_type": "execute_result",
          "data": {
            "text/plain": [
              "0       Q1 2018\n",
              "1       Q1 2018\n",
              "2       Q1 2018\n",
              "3       Q1 2018\n",
              "4       Q1 2018\n",
              "         ...   \n",
              "1271    Q3 2020\n",
              "1272    Q3 2020\n",
              "1273    Q3 2020\n",
              "1274    Q3 2020\n",
              "1275    Q3 2020\n",
              "Name: Quarter, Length: 1276, dtype: object"
            ],
            "text/html": [
              "<div>\n",
              "<style scoped>\n",
              "    .dataframe tbody tr th:only-of-type {\n",
              "        vertical-align: middle;\n",
              "    }\n",
              "\n",
              "    .dataframe tbody tr th {\n",
              "        vertical-align: top;\n",
              "    }\n",
              "\n",
              "    .dataframe thead th {\n",
              "        text-align: right;\n",
              "    }\n",
              "</style>\n",
              "<table border=\"1\" class=\"dataframe\">\n",
              "  <thead>\n",
              "    <tr style=\"text-align: right;\">\n",
              "      <th></th>\n",
              "      <th>Quarter</th>\n",
              "    </tr>\n",
              "  </thead>\n",
              "  <tbody>\n",
              "    <tr>\n",
              "      <th>0</th>\n",
              "      <td>Q1 2018</td>\n",
              "    </tr>\n",
              "    <tr>\n",
              "      <th>1</th>\n",
              "      <td>Q1 2018</td>\n",
              "    </tr>\n",
              "    <tr>\n",
              "      <th>2</th>\n",
              "      <td>Q1 2018</td>\n",
              "    </tr>\n",
              "    <tr>\n",
              "      <th>3</th>\n",
              "      <td>Q1 2018</td>\n",
              "    </tr>\n",
              "    <tr>\n",
              "      <th>4</th>\n",
              "      <td>Q1 2018</td>\n",
              "    </tr>\n",
              "    <tr>\n",
              "      <th>...</th>\n",
              "      <td>...</td>\n",
              "    </tr>\n",
              "    <tr>\n",
              "      <th>1271</th>\n",
              "      <td>Q3 2020</td>\n",
              "    </tr>\n",
              "    <tr>\n",
              "      <th>1272</th>\n",
              "      <td>Q3 2020</td>\n",
              "    </tr>\n",
              "    <tr>\n",
              "      <th>1273</th>\n",
              "      <td>Q3 2020</td>\n",
              "    </tr>\n",
              "    <tr>\n",
              "      <th>1274</th>\n",
              "      <td>Q3 2020</td>\n",
              "    </tr>\n",
              "    <tr>\n",
              "      <th>1275</th>\n",
              "      <td>Q3 2020</td>\n",
              "    </tr>\n",
              "  </tbody>\n",
              "</table>\n",
              "<p>1276 rows × 1 columns</p>\n",
              "</div><br><label><b>dtype:</b> object</label>"
            ]
          },
          "metadata": {},
          "execution_count": 148
        }
      ],
      "source": [
        "quarter_column = sales_products_data['Quarter']\n",
        "quarter_column"
      ]
    },
    {
      "cell_type": "markdown",
      "metadata": {
        "id": "9-t5XAEib9rP"
      },
      "source": [
        "Use any of the 4 previous examples to verify that the data obtained from a column of a DataFrame is actually stored in a Series object:"
      ]
    },
    {
      "cell_type": "code",
      "execution_count": 149,
      "metadata": {
        "colab": {
          "base_uri": "https://localhost:8080/"
        },
        "id": "Ko3yG5wsb9rQ",
        "outputId": "395639d4-137b-4604-e59a-178b8ddee472"
      },
      "outputs": [
        {
          "output_type": "stream",
          "name": "stdout",
          "text": [
            "<class 'pandas.core.series.Series'>\n"
          ]
        }
      ],
      "source": [
        "quarter_column = sales_products_data['Quarter']\n",
        "print(type(quarter_column))"
      ]
    },
    {
      "cell_type": "markdown",
      "metadata": {
        "id": "xFQ6kkabb9rQ"
      },
      "source": [
        "<br> Use a well-know attribute and attribute chaining to obtain information about the type of data stored in the \"Revenue\" column."
      ]
    },
    {
      "cell_type": "code",
      "execution_count": 150,
      "metadata": {
        "scrolled": true,
        "colab": {
          "base_uri": "https://localhost:8080/"
        },
        "id": "yVYf46Flb9rQ",
        "outputId": "5fe69722-cb82-466b-c96c-84358a9714de"
      },
      "outputs": [
        {
          "output_type": "stream",
          "name": "stdout",
          "text": [
            "float64\n"
          ]
        }
      ],
      "source": [
        "revenue_data_type = sales_products_data.dtypes['Revenue']\n",
        "print(revenue_data_type)"
      ]
    },
    {
      "cell_type": "markdown",
      "metadata": {
        "id": "Srxy6_Y3b9rQ"
      },
      "source": [
        "**Selecting multiple columns from a DF**"
      ]
    },
    {
      "cell_type": "markdown",
      "metadata": {
        "id": "K9jV1zAMb9rQ"
      },
      "source": [
        "Use a list with column names within the indexing operator ([ ]) to extract data from the 'Revenue' and 'Quantity' columns from the **sales_products_data** DataFrame. Use the **.head()** method to only display the top five rows of the selection.  <br>\n",
        "Solve the problem by using a single line of code."
      ]
    },
    {
      "cell_type": "code",
      "execution_count": 151,
      "metadata": {
        "colab": {
          "base_uri": "https://localhost:8080/"
        },
        "id": "rhIcAPaWb9rR",
        "outputId": "e864e99f-6979-43e7-c36a-6ec95faa2770"
      },
      "outputs": [
        {
          "output_type": "stream",
          "name": "stdout",
          "text": [
            "    Revenue  Quantity\n",
            "0  59728.66     491.0\n",
            "1  36050.32     254.0\n",
            "2  90040.48     149.0\n",
            "3       NaN     305.0\n",
            "4       NaN     182.0\n"
          ]
        }
      ],
      "source": [
        "print(sales_products_data[['Revenue', 'Quantity']].head())"
      ]
    },
    {
      "cell_type": "markdown",
      "metadata": {
        "id": "nIABedWXb9rR"
      },
      "source": [
        "Can you think of a more elegant way to obtain the same result? This option is more often encountered in professional work since it improves the legibility of your code."
      ]
    },
    {
      "cell_type": "code",
      "execution_count": 152,
      "metadata": {
        "colab": {
          "base_uri": "https://localhost:8080/"
        },
        "id": "R8_dMilkb9rR",
        "outputId": "5bad6c4a-6296-4b8f-b8ef-0d94dee55d14"
      },
      "outputs": [
        {
          "output_type": "stream",
          "name": "stdout",
          "text": [
            "    Revenue  Quantity\n",
            "0  59728.66     491.0\n",
            "1  36050.32     254.0\n",
            "2  90040.48     149.0\n",
            "3       NaN     305.0\n",
            "4       NaN     182.0\n"
          ]
        }
      ],
      "source": [
        "print(sales_products_data.loc[:, ['Revenue', 'Quantity']].head())"
      ]
    },
    {
      "cell_type": "markdown",
      "metadata": {
        "id": "f4AWf_K9b9rR"
      },
      "source": [
        "## pandas DataFrames - Indexing with .iloc[]"
      ]
    },
    {
      "cell_type": "markdown",
      "metadata": {
        "id": "PMT7TWjIb9rR"
      },
      "source": [
        "Select the data from the first row from the **sales_products_data** DataFrame (don't forget that in programming we start counting from 0!)."
      ]
    },
    {
      "cell_type": "code",
      "execution_count": 153,
      "metadata": {
        "colab": {
          "base_uri": "https://localhost:8080/",
          "height": 460
        },
        "id": "iScMgU7tb9rR",
        "outputId": "ee82115a-b5ba-4283-d254-6f7cfb10589d"
      },
      "outputs": [
        {
          "output_type": "execute_result",
          "data": {
            "text/plain": [
              "SaleID                              SaleID_1\n",
              "RetailerCountry                United States\n",
              "OrderMethod                              Fax\n",
              "RetailerType                   Outdoors Shop\n",
              "ProductLine             Personal Accessories\n",
              "ProductType                     Cooking Gear\n",
              "Product            TrailChef Deluxe Cook Set\n",
              "Year                                  2018.0\n",
              "Quarter                              Q1 2018\n",
              "Revenue                             59728.66\n",
              "Quantity                               491.0\n",
              "GrossMargin                         0.357548\n",
              "Name: 0, dtype: object"
            ],
            "text/html": [
              "<div>\n",
              "<style scoped>\n",
              "    .dataframe tbody tr th:only-of-type {\n",
              "        vertical-align: middle;\n",
              "    }\n",
              "\n",
              "    .dataframe tbody tr th {\n",
              "        vertical-align: top;\n",
              "    }\n",
              "\n",
              "    .dataframe thead th {\n",
              "        text-align: right;\n",
              "    }\n",
              "</style>\n",
              "<table border=\"1\" class=\"dataframe\">\n",
              "  <thead>\n",
              "    <tr style=\"text-align: right;\">\n",
              "      <th></th>\n",
              "      <th>0</th>\n",
              "    </tr>\n",
              "  </thead>\n",
              "  <tbody>\n",
              "    <tr>\n",
              "      <th>SaleID</th>\n",
              "      <td>SaleID_1</td>\n",
              "    </tr>\n",
              "    <tr>\n",
              "      <th>RetailerCountry</th>\n",
              "      <td>United States</td>\n",
              "    </tr>\n",
              "    <tr>\n",
              "      <th>OrderMethod</th>\n",
              "      <td>Fax</td>\n",
              "    </tr>\n",
              "    <tr>\n",
              "      <th>RetailerType</th>\n",
              "      <td>Outdoors Shop</td>\n",
              "    </tr>\n",
              "    <tr>\n",
              "      <th>ProductLine</th>\n",
              "      <td>Personal Accessories</td>\n",
              "    </tr>\n",
              "    <tr>\n",
              "      <th>ProductType</th>\n",
              "      <td>Cooking Gear</td>\n",
              "    </tr>\n",
              "    <tr>\n",
              "      <th>Product</th>\n",
              "      <td>TrailChef Deluxe Cook Set</td>\n",
              "    </tr>\n",
              "    <tr>\n",
              "      <th>Year</th>\n",
              "      <td>2018.0</td>\n",
              "    </tr>\n",
              "    <tr>\n",
              "      <th>Quarter</th>\n",
              "      <td>Q1 2018</td>\n",
              "    </tr>\n",
              "    <tr>\n",
              "      <th>Revenue</th>\n",
              "      <td>59728.66</td>\n",
              "    </tr>\n",
              "    <tr>\n",
              "      <th>Quantity</th>\n",
              "      <td>491.0</td>\n",
              "    </tr>\n",
              "    <tr>\n",
              "      <th>GrossMargin</th>\n",
              "      <td>0.357548</td>\n",
              "    </tr>\n",
              "  </tbody>\n",
              "</table>\n",
              "</div><br><label><b>dtype:</b> object</label>"
            ]
          },
          "metadata": {},
          "execution_count": 153
        }
      ],
      "source": [
        "sales_products_data.iloc[0]"
      ]
    },
    {
      "cell_type": "markdown",
      "metadata": {
        "id": "BzP_b9Glb9rS"
      },
      "source": [
        "Select the data from the penultimate row from the **sales_products_data** DataFrame."
      ]
    },
    {
      "cell_type": "code",
      "execution_count": 154,
      "metadata": {
        "scrolled": true,
        "colab": {
          "base_uri": "https://localhost:8080/",
          "height": 460
        },
        "id": "m0Z34TV5b9rS",
        "outputId": "ccaaa43f-edd0-4be3-bc87-e3f5a99bd3c5"
      },
      "outputs": [
        {
          "output_type": "execute_result",
          "data": {
            "text/plain": [
              "SaleID                      SaleID_1275\n",
              "RetailerCountry                   Spain\n",
              "OrderMethod                 Sales visit\n",
              "RetailerType              Outdoors Shop\n",
              "ProductLine        Personal Accessories\n",
              "ProductType                       Tools\n",
              "Product                     Granite Axe\n",
              "Year                             2020.0\n",
              "Quarter                         Q3 2020\n",
              "Revenue                         56499.0\n",
              "Quantity                         1472.0\n",
              "GrossMargin                    0.490667\n",
              "Name: 1274, dtype: object"
            ],
            "text/html": [
              "<div>\n",
              "<style scoped>\n",
              "    .dataframe tbody tr th:only-of-type {\n",
              "        vertical-align: middle;\n",
              "    }\n",
              "\n",
              "    .dataframe tbody tr th {\n",
              "        vertical-align: top;\n",
              "    }\n",
              "\n",
              "    .dataframe thead th {\n",
              "        text-align: right;\n",
              "    }\n",
              "</style>\n",
              "<table border=\"1\" class=\"dataframe\">\n",
              "  <thead>\n",
              "    <tr style=\"text-align: right;\">\n",
              "      <th></th>\n",
              "      <th>1274</th>\n",
              "    </tr>\n",
              "  </thead>\n",
              "  <tbody>\n",
              "    <tr>\n",
              "      <th>SaleID</th>\n",
              "      <td>SaleID_1275</td>\n",
              "    </tr>\n",
              "    <tr>\n",
              "      <th>RetailerCountry</th>\n",
              "      <td>Spain</td>\n",
              "    </tr>\n",
              "    <tr>\n",
              "      <th>OrderMethod</th>\n",
              "      <td>Sales visit</td>\n",
              "    </tr>\n",
              "    <tr>\n",
              "      <th>RetailerType</th>\n",
              "      <td>Outdoors Shop</td>\n",
              "    </tr>\n",
              "    <tr>\n",
              "      <th>ProductLine</th>\n",
              "      <td>Personal Accessories</td>\n",
              "    </tr>\n",
              "    <tr>\n",
              "      <th>ProductType</th>\n",
              "      <td>Tools</td>\n",
              "    </tr>\n",
              "    <tr>\n",
              "      <th>Product</th>\n",
              "      <td>Granite Axe</td>\n",
              "    </tr>\n",
              "    <tr>\n",
              "      <th>Year</th>\n",
              "      <td>2020.0</td>\n",
              "    </tr>\n",
              "    <tr>\n",
              "      <th>Quarter</th>\n",
              "      <td>Q3 2020</td>\n",
              "    </tr>\n",
              "    <tr>\n",
              "      <th>Revenue</th>\n",
              "      <td>56499.0</td>\n",
              "    </tr>\n",
              "    <tr>\n",
              "      <th>Quantity</th>\n",
              "      <td>1472.0</td>\n",
              "    </tr>\n",
              "    <tr>\n",
              "      <th>GrossMargin</th>\n",
              "      <td>0.490667</td>\n",
              "    </tr>\n",
              "  </tbody>\n",
              "</table>\n",
              "</div><br><label><b>dtype:</b> object</label>"
            ]
          },
          "metadata": {},
          "execution_count": 154
        }
      ],
      "source": [
        "sales_products_data.iloc[-2]"
      ]
    },
    {
      "cell_type": "markdown",
      "metadata": {
        "id": "bDo88nq9b9rS"
      },
      "source": [
        "Select the value from the second row and sixth column of **sales_products_data** by using the **.iloc[]** accessor.\n",
        "<br><br> *Hint: If you've worked correctly, you should obtain 'Cooking Gear'.*"
      ]
    },
    {
      "cell_type": "code",
      "execution_count": 155,
      "metadata": {
        "colab": {
          "base_uri": "https://localhost:8080/",
          "height": 36
        },
        "id": "XoEgoIc9b9rS",
        "outputId": "9c478ad4-d881-49a0-bd5a-8f8f83d8abfd"
      },
      "outputs": [
        {
          "output_type": "execute_result",
          "data": {
            "text/plain": [
              "'Cooking Gear'"
            ],
            "application/vnd.google.colaboratory.intrinsic+json": {
              "type": "string"
            }
          },
          "metadata": {},
          "execution_count": 155
        }
      ],
      "source": [
        "sales_products_data.iloc[1, 5]"
      ]
    },
    {
      "cell_type": "markdown",
      "metadata": {
        "id": "EXMNlrevb9rS"
      },
      "source": [
        "Use the **.shape** attribute to discover the largest numbers that you can use as arguments of the **.iloc[]** accessor."
      ]
    },
    {
      "cell_type": "code",
      "execution_count": 156,
      "metadata": {
        "colab": {
          "base_uri": "https://localhost:8080/"
        },
        "id": "ZQw4hhjOb9rS",
        "outputId": "0872f7c8-6aab-4ea3-bb44-609fb4514834"
      },
      "outputs": [
        {
          "output_type": "execute_result",
          "data": {
            "text/plain": [
              "(1276, 12)"
            ]
          },
          "metadata": {},
          "execution_count": 156
        }
      ],
      "source": [
        "sales_products_data.shape"
      ]
    },
    {
      "cell_type": "markdown",
      "metadata": {
        "id": "u17yCT4Fb9rT"
      },
      "source": [
        "Considering the values you just obtained, use the **.iloc[]** accessor find out the value that has been stored in the last row and farthest-to-the-right column."
      ]
    },
    {
      "cell_type": "code",
      "execution_count": 157,
      "metadata": {
        "colab": {
          "base_uri": "https://localhost:8080/"
        },
        "id": "e9OY2omlb9rT",
        "outputId": "ac6d11cb-a43c-4d08-d08e-1b68efb64ad5"
      },
      "outputs": [
        {
          "output_type": "execute_result",
          "data": {
            "text/plain": [
              "0.38689474"
            ]
          },
          "metadata": {},
          "execution_count": 157
        }
      ],
      "source": [
        "sales_products_data.iloc[sales_products_data.shape[0] - 1, sales_products_data.shape[1] - 1]"
      ]
    },
    {
      "cell_type": "markdown",
      "metadata": {
        "id": "BC15DzRtb9rT"
      },
      "source": [
        "Verify that you've obtained the correct value by applying the **.tail()** method to the **sales_products_data** DataFrame.\n",
        "<br> Observe the value that is farthest to the right on the last row."
      ]
    },
    {
      "cell_type": "code",
      "execution_count": 158,
      "metadata": {
        "scrolled": true,
        "colab": {
          "base_uri": "https://localhost:8080/",
          "height": 118
        },
        "id": "4H8a1Vo2b9rT",
        "outputId": "425a512c-3854-4904-d558-9acf1620a903"
      },
      "outputs": [
        {
          "output_type": "execute_result",
          "data": {
            "text/plain": [
              "           SaleID RetailerCountry  OrderMethod   RetailerType  \\\n",
              "1275  SaleID_1276           Spain  Sales visit  Outdoors Shop   \n",
              "\n",
              "            ProductLine ProductType          Product    Year  Quarter  \\\n",
              "1275  Camping Equipment       Tools  Granite Extreme  2020.0  Q3 2020   \n",
              "\n",
              "      Revenue  Quantity  GrossMargin  \n",
              "1275  89427.0    1178.0     0.386895  "
            ],
            "text/html": [
              "\n",
              "  <div id=\"df-b52181cb-5f56-4718-95df-de12e09e03e7\" class=\"colab-df-container\">\n",
              "    <div>\n",
              "<style scoped>\n",
              "    .dataframe tbody tr th:only-of-type {\n",
              "        vertical-align: middle;\n",
              "    }\n",
              "\n",
              "    .dataframe tbody tr th {\n",
              "        vertical-align: top;\n",
              "    }\n",
              "\n",
              "    .dataframe thead th {\n",
              "        text-align: right;\n",
              "    }\n",
              "</style>\n",
              "<table border=\"1\" class=\"dataframe\">\n",
              "  <thead>\n",
              "    <tr style=\"text-align: right;\">\n",
              "      <th></th>\n",
              "      <th>SaleID</th>\n",
              "      <th>RetailerCountry</th>\n",
              "      <th>OrderMethod</th>\n",
              "      <th>RetailerType</th>\n",
              "      <th>ProductLine</th>\n",
              "      <th>ProductType</th>\n",
              "      <th>Product</th>\n",
              "      <th>Year</th>\n",
              "      <th>Quarter</th>\n",
              "      <th>Revenue</th>\n",
              "      <th>Quantity</th>\n",
              "      <th>GrossMargin</th>\n",
              "    </tr>\n",
              "  </thead>\n",
              "  <tbody>\n",
              "    <tr>\n",
              "      <th>1275</th>\n",
              "      <td>SaleID_1276</td>\n",
              "      <td>Spain</td>\n",
              "      <td>Sales visit</td>\n",
              "      <td>Outdoors Shop</td>\n",
              "      <td>Camping Equipment</td>\n",
              "      <td>Tools</td>\n",
              "      <td>Granite Extreme</td>\n",
              "      <td>2020.0</td>\n",
              "      <td>Q3 2020</td>\n",
              "      <td>89427.0</td>\n",
              "      <td>1178.0</td>\n",
              "      <td>0.386895</td>\n",
              "    </tr>\n",
              "  </tbody>\n",
              "</table>\n",
              "</div>\n",
              "    <div class=\"colab-df-buttons\">\n",
              "\n",
              "  <div class=\"colab-df-container\">\n",
              "    <button class=\"colab-df-convert\" onclick=\"convertToInteractive('df-b52181cb-5f56-4718-95df-de12e09e03e7')\"\n",
              "            title=\"Convert this dataframe to an interactive table.\"\n",
              "            style=\"display:none;\">\n",
              "\n",
              "  <svg xmlns=\"http://www.w3.org/2000/svg\" height=\"24px\" viewBox=\"0 -960 960 960\">\n",
              "    <path d=\"M120-120v-720h720v720H120Zm60-500h600v-160H180v160Zm220 220h160v-160H400v160Zm0 220h160v-160H400v160ZM180-400h160v-160H180v160Zm440 0h160v-160H620v160ZM180-180h160v-160H180v160Zm440 0h160v-160H620v160Z\"/>\n",
              "  </svg>\n",
              "    </button>\n",
              "\n",
              "  <style>\n",
              "    .colab-df-container {\n",
              "      display:flex;\n",
              "      gap: 12px;\n",
              "    }\n",
              "\n",
              "    .colab-df-convert {\n",
              "      background-color: #E8F0FE;\n",
              "      border: none;\n",
              "      border-radius: 50%;\n",
              "      cursor: pointer;\n",
              "      display: none;\n",
              "      fill: #1967D2;\n",
              "      height: 32px;\n",
              "      padding: 0 0 0 0;\n",
              "      width: 32px;\n",
              "    }\n",
              "\n",
              "    .colab-df-convert:hover {\n",
              "      background-color: #E2EBFA;\n",
              "      box-shadow: 0px 1px 2px rgba(60, 64, 67, 0.3), 0px 1px 3px 1px rgba(60, 64, 67, 0.15);\n",
              "      fill: #174EA6;\n",
              "    }\n",
              "\n",
              "    .colab-df-buttons div {\n",
              "      margin-bottom: 4px;\n",
              "    }\n",
              "\n",
              "    [theme=dark] .colab-df-convert {\n",
              "      background-color: #3B4455;\n",
              "      fill: #D2E3FC;\n",
              "    }\n",
              "\n",
              "    [theme=dark] .colab-df-convert:hover {\n",
              "      background-color: #434B5C;\n",
              "      box-shadow: 0px 1px 3px 1px rgba(0, 0, 0, 0.15);\n",
              "      filter: drop-shadow(0px 1px 2px rgba(0, 0, 0, 0.3));\n",
              "      fill: #FFFFFF;\n",
              "    }\n",
              "  </style>\n",
              "\n",
              "    <script>\n",
              "      const buttonEl =\n",
              "        document.querySelector('#df-b52181cb-5f56-4718-95df-de12e09e03e7 button.colab-df-convert');\n",
              "      buttonEl.style.display =\n",
              "        google.colab.kernel.accessAllowed ? 'block' : 'none';\n",
              "\n",
              "      async function convertToInteractive(key) {\n",
              "        const element = document.querySelector('#df-b52181cb-5f56-4718-95df-de12e09e03e7');\n",
              "        const dataTable =\n",
              "          await google.colab.kernel.invokeFunction('convertToInteractive',\n",
              "                                                    [key], {});\n",
              "        if (!dataTable) return;\n",
              "\n",
              "        const docLinkHtml = 'Like what you see? Visit the ' +\n",
              "          '<a target=\"_blank\" href=https://colab.research.google.com/notebooks/data_table.ipynb>data table notebook</a>'\n",
              "          + ' to learn more about interactive tables.';\n",
              "        element.innerHTML = '';\n",
              "        dataTable['output_type'] = 'display_data';\n",
              "        await google.colab.output.renderOutput(dataTable, element);\n",
              "        const docLink = document.createElement('div');\n",
              "        docLink.innerHTML = docLinkHtml;\n",
              "        element.appendChild(docLink);\n",
              "      }\n",
              "    </script>\n",
              "  </div>\n",
              "\n",
              "\n",
              "    </div>\n",
              "  </div>\n"
            ],
            "application/vnd.google.colaboratory.intrinsic+json": {
              "type": "dataframe",
              "summary": "{\n  \"name\": \"sales_products_data\",\n  \"rows\": 1,\n  \"fields\": [\n    {\n      \"column\": \"SaleID\",\n      \"properties\": {\n        \"dtype\": \"string\",\n        \"num_unique_values\": 1,\n        \"samples\": [\n          \"SaleID_1276\"\n        ],\n        \"semantic_type\": \"\",\n        \"description\": \"\"\n      }\n    },\n    {\n      \"column\": \"RetailerCountry\",\n      \"properties\": {\n        \"dtype\": \"string\",\n        \"num_unique_values\": 1,\n        \"samples\": [\n          \"Spain\"\n        ],\n        \"semantic_type\": \"\",\n        \"description\": \"\"\n      }\n    },\n    {\n      \"column\": \"OrderMethod\",\n      \"properties\": {\n        \"dtype\": \"string\",\n        \"num_unique_values\": 1,\n        \"samples\": [\n          \"Sales visit\"\n        ],\n        \"semantic_type\": \"\",\n        \"description\": \"\"\n      }\n    },\n    {\n      \"column\": \"RetailerType\",\n      \"properties\": {\n        \"dtype\": \"string\",\n        \"num_unique_values\": 1,\n        \"samples\": [\n          \"Outdoors Shop\"\n        ],\n        \"semantic_type\": \"\",\n        \"description\": \"\"\n      }\n    },\n    {\n      \"column\": \"ProductLine\",\n      \"properties\": {\n        \"dtype\": \"string\",\n        \"num_unique_values\": 1,\n        \"samples\": [\n          \"Camping Equipment\"\n        ],\n        \"semantic_type\": \"\",\n        \"description\": \"\"\n      }\n    },\n    {\n      \"column\": \"ProductType\",\n      \"properties\": {\n        \"dtype\": \"string\",\n        \"num_unique_values\": 1,\n        \"samples\": [\n          \"Tools\"\n        ],\n        \"semantic_type\": \"\",\n        \"description\": \"\"\n      }\n    },\n    {\n      \"column\": \"Product\",\n      \"properties\": {\n        \"dtype\": \"string\",\n        \"num_unique_values\": 1,\n        \"samples\": [\n          \"Granite Extreme\"\n        ],\n        \"semantic_type\": \"\",\n        \"description\": \"\"\n      }\n    },\n    {\n      \"column\": \"Year\",\n      \"properties\": {\n        \"dtype\": \"number\",\n        \"std\": null,\n        \"min\": 2020.0,\n        \"max\": 2020.0,\n        \"num_unique_values\": 1,\n        \"samples\": [\n          2020.0\n        ],\n        \"semantic_type\": \"\",\n        \"description\": \"\"\n      }\n    },\n    {\n      \"column\": \"Quarter\",\n      \"properties\": {\n        \"dtype\": \"string\",\n        \"num_unique_values\": 1,\n        \"samples\": [\n          \"Q3 2020\"\n        ],\n        \"semantic_type\": \"\",\n        \"description\": \"\"\n      }\n    },\n    {\n      \"column\": \"Revenue\",\n      \"properties\": {\n        \"dtype\": \"number\",\n        \"std\": null,\n        \"min\": 89427.0,\n        \"max\": 89427.0,\n        \"num_unique_values\": 1,\n        \"samples\": [\n          89427.0\n        ],\n        \"semantic_type\": \"\",\n        \"description\": \"\"\n      }\n    },\n    {\n      \"column\": \"Quantity\",\n      \"properties\": {\n        \"dtype\": \"number\",\n        \"std\": null,\n        \"min\": 1178.0,\n        \"max\": 1178.0,\n        \"num_unique_values\": 1,\n        \"samples\": [\n          1178.0\n        ],\n        \"semantic_type\": \"\",\n        \"description\": \"\"\n      }\n    },\n    {\n      \"column\": \"GrossMargin\",\n      \"properties\": {\n        \"dtype\": \"number\",\n        \"std\": null,\n        \"min\": 0.38689474,\n        \"max\": 0.38689474,\n        \"num_unique_values\": 1,\n        \"samples\": [\n          0.38689474\n        ],\n        \"semantic_type\": \"\",\n        \"description\": \"\"\n      }\n    }\n  ]\n}"
            }
          },
          "metadata": {},
          "execution_count": 158
        }
      ],
      "source": [
        "sales_products_data.tail(1)"
      ]
    },
    {
      "cell_type": "markdown",
      "metadata": {
        "id": "2qsHMqxTb9rT"
      },
      "source": [
        "Prove that **.iloc[]** can be applied to a Series object such as **sales_products_data['Product']** as well (e.g. by obtaining the first element from this column).\n",
        "<br><br> *Note: We are asking you to try this syntax out to make sure you are in control of obtaining the desired portion of the data regardless of the object it has been contained into. The syntax and tools are similar, while their utilization may differ.*\n",
        "<br> *This note applies to this and the next task.*"
      ]
    },
    {
      "cell_type": "code",
      "execution_count": 159,
      "metadata": {
        "colab": {
          "base_uri": "https://localhost:8080/",
          "height": 36
        },
        "id": "xwRijWhwb9rT",
        "outputId": "a1cd3cea-07e9-4fea-9a43-60dfec036168"
      },
      "outputs": [
        {
          "output_type": "execute_result",
          "data": {
            "text/plain": [
              "'TrailChef Deluxe Cook Set'"
            ],
            "application/vnd.google.colaboratory.intrinsic+json": {
              "type": "string"
            }
          },
          "metadata": {},
          "execution_count": 159
        }
      ],
      "source": [
        "sales_products_data['Product'].iloc[0]"
      ]
    },
    {
      "cell_type": "markdown",
      "metadata": {
        "id": "S7nq3mpeb9rT"
      },
      "source": [
        "Although we are not advised to, when working with a Series object, we can obtain the same output without using the **.iloc[]** indexer and using \"classical\" Python indexing. Can you try that out?"
      ]
    },
    {
      "cell_type": "code",
      "execution_count": 160,
      "metadata": {
        "colab": {
          "base_uri": "https://localhost:8080/",
          "height": 36
        },
        "id": "L09Kmcrxb9rU",
        "outputId": "edffdab0-58cd-4a51-83ce-e27cbf85bc8c"
      },
      "outputs": [
        {
          "output_type": "execute_result",
          "data": {
            "text/plain": [
              "'TrailChef Deluxe Cook Set'"
            ],
            "application/vnd.google.colaboratory.intrinsic+json": {
              "type": "string"
            }
          },
          "metadata": {},
          "execution_count": 160
        }
      ],
      "source": [
        "sales_products_data['Product'][0]"
      ]
    },
    {
      "cell_type": "markdown",
      "metadata": {
        "id": "jwEBP73Sb9rU"
      },
      "source": [
        "## pandas DataFrames - Indexing with .loc[]"
      ]
    },
    {
      "cell_type": "markdown",
      "metadata": {
        "id": "g3apDqczb9rU"
      },
      "source": [
        "Retrieve the values from the first row of the DataFrame by using the specified label-based index rather than the default numeric index."
      ]
    },
    {
      "cell_type": "code",
      "execution_count": 161,
      "metadata": {
        "colab": {
          "base_uri": "https://localhost:8080/",
          "height": 460
        },
        "id": "X60MCwRFb9rU",
        "outputId": "dffee6bb-f984-48fc-fc08-4be15875d08d"
      },
      "outputs": [
        {
          "output_type": "execute_result",
          "data": {
            "text/plain": [
              "SaleID                              SaleID_1\n",
              "RetailerCountry                United States\n",
              "OrderMethod                              Fax\n",
              "RetailerType                   Outdoors Shop\n",
              "ProductLine             Personal Accessories\n",
              "ProductType                     Cooking Gear\n",
              "Product            TrailChef Deluxe Cook Set\n",
              "Year                                  2018.0\n",
              "Quarter                              Q1 2018\n",
              "Revenue                             59728.66\n",
              "Quantity                               491.0\n",
              "GrossMargin                         0.357548\n",
              "Name: 0, dtype: object"
            ],
            "text/html": [
              "<div>\n",
              "<style scoped>\n",
              "    .dataframe tbody tr th:only-of-type {\n",
              "        vertical-align: middle;\n",
              "    }\n",
              "\n",
              "    .dataframe tbody tr th {\n",
              "        vertical-align: top;\n",
              "    }\n",
              "\n",
              "    .dataframe thead th {\n",
              "        text-align: right;\n",
              "    }\n",
              "</style>\n",
              "<table border=\"1\" class=\"dataframe\">\n",
              "  <thead>\n",
              "    <tr style=\"text-align: right;\">\n",
              "      <th></th>\n",
              "      <th>0</th>\n",
              "    </tr>\n",
              "  </thead>\n",
              "  <tbody>\n",
              "    <tr>\n",
              "      <th>SaleID</th>\n",
              "      <td>SaleID_1</td>\n",
              "    </tr>\n",
              "    <tr>\n",
              "      <th>RetailerCountry</th>\n",
              "      <td>United States</td>\n",
              "    </tr>\n",
              "    <tr>\n",
              "      <th>OrderMethod</th>\n",
              "      <td>Fax</td>\n",
              "    </tr>\n",
              "    <tr>\n",
              "      <th>RetailerType</th>\n",
              "      <td>Outdoors Shop</td>\n",
              "    </tr>\n",
              "    <tr>\n",
              "      <th>ProductLine</th>\n",
              "      <td>Personal Accessories</td>\n",
              "    </tr>\n",
              "    <tr>\n",
              "      <th>ProductType</th>\n",
              "      <td>Cooking Gear</td>\n",
              "    </tr>\n",
              "    <tr>\n",
              "      <th>Product</th>\n",
              "      <td>TrailChef Deluxe Cook Set</td>\n",
              "    </tr>\n",
              "    <tr>\n",
              "      <th>Year</th>\n",
              "      <td>2018.0</td>\n",
              "    </tr>\n",
              "    <tr>\n",
              "      <th>Quarter</th>\n",
              "      <td>Q1 2018</td>\n",
              "    </tr>\n",
              "    <tr>\n",
              "      <th>Revenue</th>\n",
              "      <td>59728.66</td>\n",
              "    </tr>\n",
              "    <tr>\n",
              "      <th>Quantity</th>\n",
              "      <td>491.0</td>\n",
              "    </tr>\n",
              "    <tr>\n",
              "      <th>GrossMargin</th>\n",
              "      <td>0.357548</td>\n",
              "    </tr>\n",
              "  </tbody>\n",
              "</table>\n",
              "</div><br><label><b>dtype:</b> object</label>"
            ]
          },
          "metadata": {},
          "execution_count": 161
        }
      ],
      "source": [
        "sales_products_data.loc[0]"
      ]
    },
    {
      "cell_type": "markdown",
      "metadata": {
        "id": "V-wplNSwb9rU"
      },
      "source": [
        "By using the specified label-based index again, retrieve the information stored in the 'GrossMargin' column for the 4th sale."
      ]
    },
    {
      "cell_type": "code",
      "execution_count": 162,
      "metadata": {
        "colab": {
          "base_uri": "https://localhost:8080/"
        },
        "id": "sVzP7XCVb9rU",
        "outputId": "5fb082d3-cba9-454a-d716-8c0e6140112c"
      },
      "outputs": [
        {
          "output_type": "execute_result",
          "data": {
            "text/plain": [
              "0.29293788"
            ]
          },
          "metadata": {},
          "execution_count": 162
        }
      ],
      "source": [
        "sales_products_data.loc[3, 'GrossMargin']"
      ]
    },
    {
      "cell_type": "markdown",
      "metadata": {
        "id": "kaEnKmIzb9rV"
      },
      "source": [
        "Obtain a DataFrame containg the values stored in all columns for sales numbered 15, 235, and 1147 by using the **.loc[]** indexer."
      ]
    },
    {
      "cell_type": "code",
      "execution_count": 163,
      "metadata": {
        "colab": {
          "base_uri": "https://localhost:8080/",
          "height": 215
        },
        "id": "ZMbFXLzxb9rV",
        "outputId": "f899b8d9-8381-47e4-e852-d21d72571001"
      },
      "outputs": [
        {
          "output_type": "execute_result",
          "data": {
            "text/plain": [
              "           SaleID RetailerCountry OrderMethod      RetailerType  \\\n",
              "15      SaleID_16   United States         Web              Mall   \n",
              "235    SaleID_236          Mexico         Web              Mall   \n",
              "1147  SaleID_1148         Germany       Phone  Department Store   \n",
              "\n",
              "            ProductLine ProductType        Product    Year  Quarter   Revenue  \\\n",
              "15    Camping Equipment      Knives      Max Gizmo  2018.0  Q1 2018  12362.20   \n",
              "235   Camping Equipment  Binoculars  Ranger Vision  2018.0  Q3 2018   5700.00   \n",
              "1147  Camping Equipment    Lanterns  EverGlow Lamp  2020.0  Q1 2020  44998.55   \n",
              "\n",
              "      Quantity  GrossMargin  \n",
              "15       323.0     0.549791  \n",
              "235       37.0     0.370000  \n",
              "1147    1670.0     0.524364  "
            ],
            "text/html": [
              "\n",
              "  <div id=\"df-e9d1782e-9345-4142-bb12-a3463d5dcc4d\" class=\"colab-df-container\">\n",
              "    <div>\n",
              "<style scoped>\n",
              "    .dataframe tbody tr th:only-of-type {\n",
              "        vertical-align: middle;\n",
              "    }\n",
              "\n",
              "    .dataframe tbody tr th {\n",
              "        vertical-align: top;\n",
              "    }\n",
              "\n",
              "    .dataframe thead th {\n",
              "        text-align: right;\n",
              "    }\n",
              "</style>\n",
              "<table border=\"1\" class=\"dataframe\">\n",
              "  <thead>\n",
              "    <tr style=\"text-align: right;\">\n",
              "      <th></th>\n",
              "      <th>SaleID</th>\n",
              "      <th>RetailerCountry</th>\n",
              "      <th>OrderMethod</th>\n",
              "      <th>RetailerType</th>\n",
              "      <th>ProductLine</th>\n",
              "      <th>ProductType</th>\n",
              "      <th>Product</th>\n",
              "      <th>Year</th>\n",
              "      <th>Quarter</th>\n",
              "      <th>Revenue</th>\n",
              "      <th>Quantity</th>\n",
              "      <th>GrossMargin</th>\n",
              "    </tr>\n",
              "  </thead>\n",
              "  <tbody>\n",
              "    <tr>\n",
              "      <th>15</th>\n",
              "      <td>SaleID_16</td>\n",
              "      <td>United States</td>\n",
              "      <td>Web</td>\n",
              "      <td>Mall</td>\n",
              "      <td>Camping Equipment</td>\n",
              "      <td>Knives</td>\n",
              "      <td>Max Gizmo</td>\n",
              "      <td>2018.0</td>\n",
              "      <td>Q1 2018</td>\n",
              "      <td>12362.20</td>\n",
              "      <td>323.0</td>\n",
              "      <td>0.549791</td>\n",
              "    </tr>\n",
              "    <tr>\n",
              "      <th>235</th>\n",
              "      <td>SaleID_236</td>\n",
              "      <td>Mexico</td>\n",
              "      <td>Web</td>\n",
              "      <td>Mall</td>\n",
              "      <td>Camping Equipment</td>\n",
              "      <td>Binoculars</td>\n",
              "      <td>Ranger Vision</td>\n",
              "      <td>2018.0</td>\n",
              "      <td>Q3 2018</td>\n",
              "      <td>5700.00</td>\n",
              "      <td>37.0</td>\n",
              "      <td>0.370000</td>\n",
              "    </tr>\n",
              "    <tr>\n",
              "      <th>1147</th>\n",
              "      <td>SaleID_1148</td>\n",
              "      <td>Germany</td>\n",
              "      <td>Phone</td>\n",
              "      <td>Department Store</td>\n",
              "      <td>Camping Equipment</td>\n",
              "      <td>Lanterns</td>\n",
              "      <td>EverGlow Lamp</td>\n",
              "      <td>2020.0</td>\n",
              "      <td>Q1 2020</td>\n",
              "      <td>44998.55</td>\n",
              "      <td>1670.0</td>\n",
              "      <td>0.524364</td>\n",
              "    </tr>\n",
              "  </tbody>\n",
              "</table>\n",
              "</div>\n",
              "    <div class=\"colab-df-buttons\">\n",
              "\n",
              "  <div class=\"colab-df-container\">\n",
              "    <button class=\"colab-df-convert\" onclick=\"convertToInteractive('df-e9d1782e-9345-4142-bb12-a3463d5dcc4d')\"\n",
              "            title=\"Convert this dataframe to an interactive table.\"\n",
              "            style=\"display:none;\">\n",
              "\n",
              "  <svg xmlns=\"http://www.w3.org/2000/svg\" height=\"24px\" viewBox=\"0 -960 960 960\">\n",
              "    <path d=\"M120-120v-720h720v720H120Zm60-500h600v-160H180v160Zm220 220h160v-160H400v160Zm0 220h160v-160H400v160ZM180-400h160v-160H180v160Zm440 0h160v-160H620v160ZM180-180h160v-160H180v160Zm440 0h160v-160H620v160Z\"/>\n",
              "  </svg>\n",
              "    </button>\n",
              "\n",
              "  <style>\n",
              "    .colab-df-container {\n",
              "      display:flex;\n",
              "      gap: 12px;\n",
              "    }\n",
              "\n",
              "    .colab-df-convert {\n",
              "      background-color: #E8F0FE;\n",
              "      border: none;\n",
              "      border-radius: 50%;\n",
              "      cursor: pointer;\n",
              "      display: none;\n",
              "      fill: #1967D2;\n",
              "      height: 32px;\n",
              "      padding: 0 0 0 0;\n",
              "      width: 32px;\n",
              "    }\n",
              "\n",
              "    .colab-df-convert:hover {\n",
              "      background-color: #E2EBFA;\n",
              "      box-shadow: 0px 1px 2px rgba(60, 64, 67, 0.3), 0px 1px 3px 1px rgba(60, 64, 67, 0.15);\n",
              "      fill: #174EA6;\n",
              "    }\n",
              "\n",
              "    .colab-df-buttons div {\n",
              "      margin-bottom: 4px;\n",
              "    }\n",
              "\n",
              "    [theme=dark] .colab-df-convert {\n",
              "      background-color: #3B4455;\n",
              "      fill: #D2E3FC;\n",
              "    }\n",
              "\n",
              "    [theme=dark] .colab-df-convert:hover {\n",
              "      background-color: #434B5C;\n",
              "      box-shadow: 0px 1px 3px 1px rgba(0, 0, 0, 0.15);\n",
              "      filter: drop-shadow(0px 1px 2px rgba(0, 0, 0, 0.3));\n",
              "      fill: #FFFFFF;\n",
              "    }\n",
              "  </style>\n",
              "\n",
              "    <script>\n",
              "      const buttonEl =\n",
              "        document.querySelector('#df-e9d1782e-9345-4142-bb12-a3463d5dcc4d button.colab-df-convert');\n",
              "      buttonEl.style.display =\n",
              "        google.colab.kernel.accessAllowed ? 'block' : 'none';\n",
              "\n",
              "      async function convertToInteractive(key) {\n",
              "        const element = document.querySelector('#df-e9d1782e-9345-4142-bb12-a3463d5dcc4d');\n",
              "        const dataTable =\n",
              "          await google.colab.kernel.invokeFunction('convertToInteractive',\n",
              "                                                    [key], {});\n",
              "        if (!dataTable) return;\n",
              "\n",
              "        const docLinkHtml = 'Like what you see? Visit the ' +\n",
              "          '<a target=\"_blank\" href=https://colab.research.google.com/notebooks/data_table.ipynb>data table notebook</a>'\n",
              "          + ' to learn more about interactive tables.';\n",
              "        element.innerHTML = '';\n",
              "        dataTable['output_type'] = 'display_data';\n",
              "        await google.colab.output.renderOutput(dataTable, element);\n",
              "        const docLink = document.createElement('div');\n",
              "        docLink.innerHTML = docLinkHtml;\n",
              "        element.appendChild(docLink);\n",
              "      }\n",
              "    </script>\n",
              "  </div>\n",
              "\n",
              "\n",
              "<div id=\"df-396460fa-b380-46a3-89a2-06916a3d674e\">\n",
              "  <button class=\"colab-df-quickchart\" onclick=\"quickchart('df-396460fa-b380-46a3-89a2-06916a3d674e')\"\n",
              "            title=\"Suggest charts\"\n",
              "            style=\"display:none;\">\n",
              "\n",
              "<svg xmlns=\"http://www.w3.org/2000/svg\" height=\"24px\"viewBox=\"0 0 24 24\"\n",
              "     width=\"24px\">\n",
              "    <g>\n",
              "        <path d=\"M19 3H5c-1.1 0-2 .9-2 2v14c0 1.1.9 2 2 2h14c1.1 0 2-.9 2-2V5c0-1.1-.9-2-2-2zM9 17H7v-7h2v7zm4 0h-2V7h2v10zm4 0h-2v-4h2v4z\"/>\n",
              "    </g>\n",
              "</svg>\n",
              "  </button>\n",
              "\n",
              "<style>\n",
              "  .colab-df-quickchart {\n",
              "      --bg-color: #E8F0FE;\n",
              "      --fill-color: #1967D2;\n",
              "      --hover-bg-color: #E2EBFA;\n",
              "      --hover-fill-color: #174EA6;\n",
              "      --disabled-fill-color: #AAA;\n",
              "      --disabled-bg-color: #DDD;\n",
              "  }\n",
              "\n",
              "  [theme=dark] .colab-df-quickchart {\n",
              "      --bg-color: #3B4455;\n",
              "      --fill-color: #D2E3FC;\n",
              "      --hover-bg-color: #434B5C;\n",
              "      --hover-fill-color: #FFFFFF;\n",
              "      --disabled-bg-color: #3B4455;\n",
              "      --disabled-fill-color: #666;\n",
              "  }\n",
              "\n",
              "  .colab-df-quickchart {\n",
              "    background-color: var(--bg-color);\n",
              "    border: none;\n",
              "    border-radius: 50%;\n",
              "    cursor: pointer;\n",
              "    display: none;\n",
              "    fill: var(--fill-color);\n",
              "    height: 32px;\n",
              "    padding: 0;\n",
              "    width: 32px;\n",
              "  }\n",
              "\n",
              "  .colab-df-quickchart:hover {\n",
              "    background-color: var(--hover-bg-color);\n",
              "    box-shadow: 0 1px 2px rgba(60, 64, 67, 0.3), 0 1px 3px 1px rgba(60, 64, 67, 0.15);\n",
              "    fill: var(--button-hover-fill-color);\n",
              "  }\n",
              "\n",
              "  .colab-df-quickchart-complete:disabled,\n",
              "  .colab-df-quickchart-complete:disabled:hover {\n",
              "    background-color: var(--disabled-bg-color);\n",
              "    fill: var(--disabled-fill-color);\n",
              "    box-shadow: none;\n",
              "  }\n",
              "\n",
              "  .colab-df-spinner {\n",
              "    border: 2px solid var(--fill-color);\n",
              "    border-color: transparent;\n",
              "    border-bottom-color: var(--fill-color);\n",
              "    animation:\n",
              "      spin 1s steps(1) infinite;\n",
              "  }\n",
              "\n",
              "  @keyframes spin {\n",
              "    0% {\n",
              "      border-color: transparent;\n",
              "      border-bottom-color: var(--fill-color);\n",
              "      border-left-color: var(--fill-color);\n",
              "    }\n",
              "    20% {\n",
              "      border-color: transparent;\n",
              "      border-left-color: var(--fill-color);\n",
              "      border-top-color: var(--fill-color);\n",
              "    }\n",
              "    30% {\n",
              "      border-color: transparent;\n",
              "      border-left-color: var(--fill-color);\n",
              "      border-top-color: var(--fill-color);\n",
              "      border-right-color: var(--fill-color);\n",
              "    }\n",
              "    40% {\n",
              "      border-color: transparent;\n",
              "      border-right-color: var(--fill-color);\n",
              "      border-top-color: var(--fill-color);\n",
              "    }\n",
              "    60% {\n",
              "      border-color: transparent;\n",
              "      border-right-color: var(--fill-color);\n",
              "    }\n",
              "    80% {\n",
              "      border-color: transparent;\n",
              "      border-right-color: var(--fill-color);\n",
              "      border-bottom-color: var(--fill-color);\n",
              "    }\n",
              "    90% {\n",
              "      border-color: transparent;\n",
              "      border-bottom-color: var(--fill-color);\n",
              "    }\n",
              "  }\n",
              "</style>\n",
              "\n",
              "  <script>\n",
              "    async function quickchart(key) {\n",
              "      const quickchartButtonEl =\n",
              "        document.querySelector('#' + key + ' button');\n",
              "      quickchartButtonEl.disabled = true;  // To prevent multiple clicks.\n",
              "      quickchartButtonEl.classList.add('colab-df-spinner');\n",
              "      try {\n",
              "        const charts = await google.colab.kernel.invokeFunction(\n",
              "            'suggestCharts', [key], {});\n",
              "      } catch (error) {\n",
              "        console.error('Error during call to suggestCharts:', error);\n",
              "      }\n",
              "      quickchartButtonEl.classList.remove('colab-df-spinner');\n",
              "      quickchartButtonEl.classList.add('colab-df-quickchart-complete');\n",
              "    }\n",
              "    (() => {\n",
              "      let quickchartButtonEl =\n",
              "        document.querySelector('#df-396460fa-b380-46a3-89a2-06916a3d674e button');\n",
              "      quickchartButtonEl.style.display =\n",
              "        google.colab.kernel.accessAllowed ? 'block' : 'none';\n",
              "    })();\n",
              "  </script>\n",
              "</div>\n",
              "\n",
              "    </div>\n",
              "  </div>\n"
            ],
            "application/vnd.google.colaboratory.intrinsic+json": {
              "type": "dataframe",
              "summary": "{\n  \"name\": \"sales_products_data\",\n  \"rows\": 3,\n  \"fields\": [\n    {\n      \"column\": \"SaleID\",\n      \"properties\": {\n        \"dtype\": \"string\",\n        \"num_unique_values\": 3,\n        \"samples\": [\n          \"SaleID_16\",\n          \"SaleID_236\",\n          \"SaleID_1148\"\n        ],\n        \"semantic_type\": \"\",\n        \"description\": \"\"\n      }\n    },\n    {\n      \"column\": \"RetailerCountry\",\n      \"properties\": {\n        \"dtype\": \"string\",\n        \"num_unique_values\": 3,\n        \"samples\": [\n          \"United States\",\n          \"Mexico\",\n          \"Germany\"\n        ],\n        \"semantic_type\": \"\",\n        \"description\": \"\"\n      }\n    },\n    {\n      \"column\": \"OrderMethod\",\n      \"properties\": {\n        \"dtype\": \"string\",\n        \"num_unique_values\": 2,\n        \"samples\": [\n          \"Phone\",\n          \"Web\"\n        ],\n        \"semantic_type\": \"\",\n        \"description\": \"\"\n      }\n    },\n    {\n      \"column\": \"RetailerType\",\n      \"properties\": {\n        \"dtype\": \"string\",\n        \"num_unique_values\": 2,\n        \"samples\": [\n          \"Department Store\",\n          \"Mall\"\n        ],\n        \"semantic_type\": \"\",\n        \"description\": \"\"\n      }\n    },\n    {\n      \"column\": \"ProductLine\",\n      \"properties\": {\n        \"dtype\": \"category\",\n        \"num_unique_values\": 1,\n        \"samples\": [\n          \"Camping Equipment\"\n        ],\n        \"semantic_type\": \"\",\n        \"description\": \"\"\n      }\n    },\n    {\n      \"column\": \"ProductType\",\n      \"properties\": {\n        \"dtype\": \"string\",\n        \"num_unique_values\": 3,\n        \"samples\": [\n          \"Knives\"\n        ],\n        \"semantic_type\": \"\",\n        \"description\": \"\"\n      }\n    },\n    {\n      \"column\": \"Product\",\n      \"properties\": {\n        \"dtype\": \"string\",\n        \"num_unique_values\": 3,\n        \"samples\": [\n          \"Max Gizmo\"\n        ],\n        \"semantic_type\": \"\",\n        \"description\": \"\"\n      }\n    },\n    {\n      \"column\": \"Year\",\n      \"properties\": {\n        \"dtype\": \"number\",\n        \"std\": 1.1547005383792515,\n        \"min\": 2018.0,\n        \"max\": 2020.0,\n        \"num_unique_values\": 2,\n        \"samples\": [\n          2020.0\n        ],\n        \"semantic_type\": \"\",\n        \"description\": \"\"\n      }\n    },\n    {\n      \"column\": \"Quarter\",\n      \"properties\": {\n        \"dtype\": \"string\",\n        \"num_unique_values\": 3,\n        \"samples\": [\n          \"Q1 2018\"\n        ],\n        \"semantic_type\": \"\",\n        \"description\": \"\"\n      }\n    },\n    {\n      \"column\": \"Revenue\",\n      \"properties\": {\n        \"dtype\": \"number\",\n        \"std\": 21031.295261526335,\n        \"min\": 5700.0,\n        \"max\": 44998.55,\n        \"num_unique_values\": 3,\n        \"samples\": [\n          12362.2\n        ],\n        \"semantic_type\": \"\",\n        \"description\": \"\"\n      }\n    },\n    {\n      \"column\": \"Quantity\",\n      \"properties\": {\n        \"dtype\": \"number\",\n        \"std\": 872.05638196927,\n        \"min\": 37.0,\n        \"max\": 1670.0,\n        \"num_unique_values\": 3,\n        \"samples\": [\n          323.0\n        ],\n        \"semantic_type\": \"\",\n        \"description\": \"\"\n      }\n    },\n    {\n      \"column\": \"GrossMargin\",\n      \"properties\": {\n        \"dtype\": \"number\",\n        \"std\": 0.09729631636418926,\n        \"min\": 0.37,\n        \"max\": 0.54979058,\n        \"num_unique_values\": 3,\n        \"samples\": [\n          0.54979058\n        ],\n        \"semantic_type\": \"\",\n        \"description\": \"\"\n      }\n    }\n  ]\n}"
            }
          },
          "metadata": {},
          "execution_count": 163
        }
      ],
      "source": [
        "sales_products_data.loc[[15, 235, 1147]]"
      ]
    },
    {
      "cell_type": "markdown",
      "metadata": {
        "id": "P8XmF0kZb9rV"
      },
      "source": [
        "With the help of the **.loc[]** indexer, select the last 5 records from the 'Year' column."
      ]
    },
    {
      "cell_type": "code",
      "execution_count": 164,
      "metadata": {
        "colab": {
          "base_uri": "https://localhost:8080/",
          "height": 241
        },
        "id": "SCKs6UNYb9rV",
        "outputId": "b89741d9-e4d9-46bc-96ac-0058337834ce"
      },
      "outputs": [
        {
          "output_type": "execute_result",
          "data": {
            "text/plain": [
              "1271    2020.0\n",
              "1272    2020.0\n",
              "1273    2020.0\n",
              "1274    2020.0\n",
              "1275    2020.0\n",
              "Name: Year, dtype: float64"
            ],
            "text/html": [
              "<div>\n",
              "<style scoped>\n",
              "    .dataframe tbody tr th:only-of-type {\n",
              "        vertical-align: middle;\n",
              "    }\n",
              "\n",
              "    .dataframe tbody tr th {\n",
              "        vertical-align: top;\n",
              "    }\n",
              "\n",
              "    .dataframe thead th {\n",
              "        text-align: right;\n",
              "    }\n",
              "</style>\n",
              "<table border=\"1\" class=\"dataframe\">\n",
              "  <thead>\n",
              "    <tr style=\"text-align: right;\">\n",
              "      <th></th>\n",
              "      <th>Year</th>\n",
              "    </tr>\n",
              "  </thead>\n",
              "  <tbody>\n",
              "    <tr>\n",
              "      <th>1271</th>\n",
              "      <td>2020.0</td>\n",
              "    </tr>\n",
              "    <tr>\n",
              "      <th>1272</th>\n",
              "      <td>2020.0</td>\n",
              "    </tr>\n",
              "    <tr>\n",
              "      <th>1273</th>\n",
              "      <td>2020.0</td>\n",
              "    </tr>\n",
              "    <tr>\n",
              "      <th>1274</th>\n",
              "      <td>2020.0</td>\n",
              "    </tr>\n",
              "    <tr>\n",
              "      <th>1275</th>\n",
              "      <td>2020.0</td>\n",
              "    </tr>\n",
              "  </tbody>\n",
              "</table>\n",
              "</div><br><label><b>dtype:</b> float64</label>"
            ]
          },
          "metadata": {},
          "execution_count": 164
        }
      ],
      "source": [
        "sales_products_data.loc[sales_products_data.index[-5:], 'Year']"
      ]
    }
  ],
  "metadata": {
    "anaconda-cloud": {},
    "kernelspec": {
      "display_name": "Python 3 (ipykernel)",
      "language": "python",
      "name": "python3"
    },
    "language_info": {
      "codemirror_mode": {
        "name": "ipython",
        "version": 3
      },
      "file_extension": ".py",
      "mimetype": "text/x-python",
      "name": "python",
      "nbconvert_exporter": "python",
      "pygments_lexer": "ipython3",
      "version": "3.12.7"
    },
    "colab": {
      "provenance": [],
      "include_colab_link": true
    }
  },
  "nbformat": 4,
  "nbformat_minor": 0
}